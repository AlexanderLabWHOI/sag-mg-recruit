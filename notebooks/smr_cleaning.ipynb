{
 "cells": [
  {
   "cell_type": "markdown",
   "metadata": {},
   "source": [
    "```\n",
    "python ~/sag_mg_recruit.py mg_template.csv sag_template.csv --outdir recruit_results/ --cores 20 --log recruit_test.log\n",
    "```\n",
    "\n",
    "```\n",
    "python ~/sag_mg_recruit.py 160722_maria_mgs.csv 160722_maria_sags.csv --outdir 1609_smr_maria/ --cores 20 --log SMRTEST_922.txt --minlen 74\n",
    "```"
   ]
  },
  {
   "cell_type": "code",
   "execution_count": 4,
   "metadata": {
    "collapsed": true
   },
   "outputs": [],
   "source": [
    "from __future__ import print_function\n",
    "from __future__ import division\n",
    "import pysam\n",
    "import os.path as op\n",
    "import logging\n",
    "\n",
    "logger = logging.getLogger(__name__)"
   ]
  },
  {
   "cell_type": "code",
   "execution_count": 5,
   "metadata": {
    "collapsed": true
   },
   "outputs": [],
   "source": [
    "def read_overlap_pctid(l, pctid, min_len, overlap=0):\n",
    "    real_len = l.infer_query_length()\n",
    "    aln_len = l.query_alignment_length\n",
    "    mismatch = l.get_tag(\"NM\")\n",
    "\n",
    "    aln_overlap = (aln_len / real_len) * 100\n",
    "    aln_pctid = ((aln_len - mismatch) / aln_len) * 100\n",
    "    # print(\"{0} >= {1}\".format(aln_overlap, overlap))\n",
    "    # print(\"{0} >= {1}\".format(aln_pctid, pctid))\n",
    "    # print(\"{0} >= {1}\".format(aln_len, min_len))\n",
    "    if aln_overlap >= overlap and aln_pctid >= pctid and aln_len >= min_len:\n",
    "        return True\n",
    "    else:\n",
    "        return False"
   ]
  },
  {
   "cell_type": "code",
   "execution_count": 6,
   "metadata": {
    "collapsed": true
   },
   "outputs": [],
   "source": [
    "bam = \"../sept_data/LVP2_vs_AAA036-G05-Sulfurovum.bam\"\n",
    "outbam = \"../sept_data/LVP2_vs_AAA036-G05-Sulfurovum_OUTBAM.bam\"\n",
    "overlap = 0\n",
    "pctid = 95\n",
    "minlen = 75"
   ]
  },
  {
   "cell_type": "code",
   "execution_count": 11,
   "metadata": {
    "collapsed": false
   },
   "outputs": [
    {
     "name": "stdout",
     "output_type": "stream",
     "text": [
      "total: 1\n",
      "43.1279620853 >= 75\n",
      "87.9120879121 >= 0\n",
      "91 >= 95\n",
      "good: 0\n",
      "total: 2\n",
      "43.1279620853 >= 75\n",
      "87.9120879121 >= 0\n",
      "91 >= 95\n",
      "good: 0\n",
      "total: 3\n",
      "43.1279620853 >= 75\n",
      "87.9120879121 >= 0\n",
      "91 >= 95\n",
      "good: 0\n",
      "total: 4\n",
      "28.640776699 >= 75\n",
      "91.5254237288 >= 0\n",
      "59 >= 95\n",
      "good: 0\n",
      "total: 5\n",
      "32.2404371585 >= 75\n",
      "91.5254237288 >= 0\n",
      "59 >= 95\n",
      "good: 0\n",
      "total: 6\n",
      "28.640776699 >= 75\n",
      "91.5254237288 >= 0\n",
      "59 >= 95\n",
      "good: 0\n",
      "total: 7\n",
      "97.2972972973 >= 75\n",
      "91.6666666667 >= 0\n",
      "144 >= 95\n",
      "good: 1\n",
      "total: 8\n",
      "97.2972972973 >= 75\n",
      "91.6666666667 >= 0\n",
      "144 >= 95\n",
      "good: 2\n",
      "total: 9\n",
      "28.8343558282 >= 75\n",
      "93.6170212766 >= 0\n",
      "47 >= 95\n",
      "good: 2\n",
      "total: 10\n",
      "24.3523316062 >= 75\n",
      "93.6170212766 >= 0\n",
      "47 >= 95\n",
      "good: 2\n",
      "total: 11\n",
      "28.8343558282 >= 75\n",
      "93.6170212766 >= 0\n",
      "47 >= 95\n",
      "good: 2\n",
      "total: 12\n",
      "24.3523316062 >= 75\n",
      "93.6170212766 >= 0\n",
      "47 >= 95\n",
      "good: 2\n",
      "total: 13\n",
      "24.3523316062 >= 75\n",
      "93.6170212766 >= 0\n",
      "47 >= 95\n",
      "good: 2\n",
      "total: 14\n",
      "28.8343558282 >= 75\n",
      "93.6170212766 >= 0\n",
      "47 >= 95\n",
      "good: 2\n",
      "total: 15\n",
      "24.3523316062 >= 75\n",
      "93.6170212766 >= 0\n",
      "47 >= 95\n",
      "good: 2\n",
      "total: 16\n",
      "24.3523316062 >= 75\n",
      "93.6170212766 >= 0\n",
      "47 >= 95\n",
      "good: 2\n",
      "total: 17\n",
      "24.3523316062 >= 75\n",
      "93.6170212766 >= 0\n",
      "47 >= 95\n",
      "good: 2\n",
      "total: 18\n",
      "28.8343558282 >= 75\n",
      "93.6170212766 >= 0\n",
      "47 >= 95\n",
      "good: 2\n",
      "total: 19\n",
      "24.3523316062 >= 75\n",
      "93.6170212766 >= 0\n",
      "47 >= 95\n",
      "good: 2\n",
      "total: 20\n",
      "24.3523316062 >= 75\n",
      "93.6170212766 >= 0\n",
      "47 >= 95\n",
      "good: 2\n"
     ]
    }
   ],
   "source": [
    "with pysam.AlignmentFile(bam, \"rb\", check_sq=False) as ih, pysam.AlignmentFile(outbam, \"wb\", template=ih) as oh:\n",
    "    good = 0\n",
    "    total = 0\n",
    "    name = op.basename(outbam).split(\".\")[0]\n",
    "    outfile = \".\".join(outbam.split(\".\")[:-1]) + \".aln_count\"\n",
    "    for i, l in enumerate(ih):\n",
    "        if l.is_duplicate:\n",
    "            continue\n",
    "        if i == 20:\n",
    "            break\n",
    "        total += 1\n",
    "        print(\"total: {}\".format(total))\n",
    "        #md = l.get_tag(\"MD\")\n",
    "        #match = _match_len(md)\n",
    "        #pct_match = (match)/l.rlen * 100\n",
    "\n",
    "        #if pct_match > pctid:\n",
    "        #    good += 1\n",
    "        #    oh.write(l)\n",
    "        if read_overlap_pctid(l, overlap, pctid, minlen):\n",
    "            good += 1\n",
    "        print(\"good: {}\".format(good))"
   ]
  },
  {
   "cell_type": "code",
   "execution_count": 7,
   "metadata": {
    "collapsed": false
   },
   "outputs": [],
   "source": [
    "def filter_bam(bam, outbam, overlap=95, pctid=95, minlen=150):\n",
    "    with pysam.AlignmentFile(bam, \"rb\", check_sq=False) as ih, pysam.AlignmentFile(outbam, \"wb\", template=ih) as oh:\n",
    "        good = 0\n",
    "        total = 0\n",
    "        name = op.basename(outbam).split(\".\")[0]\n",
    "        outfile = \".\".join(outbam.split(\".\")[:-1]) + \".aln_count\"\n",
    "        for i, l in enumerate(ih):\n",
    "            if l.is_duplicate:\n",
    "                continue\n",
    "\n",
    "            total += 1\n",
    "            #md = l.get_tag(\"MD\")\n",
    "            #match = _match_len(md)\n",
    "            #pct_match = (match)/l.rlen * 100\n",
    "\n",
    "            #if pct_match > pctid:\n",
    "            #    good += 1\n",
    "            #    oh.write(l)\n",
    "            if read_overlap_pctid(l, overlap, pctid, minlen):\n",
    "                good += 1\n",
    "                oh.write(l)\n",
    "\n",
    "        with open(outfile, \"w\") as oh:\n",
    "            print(name, good, file=oh)\n",
    "        logger.info(\"for %s, there were %s good read alignments out of %s total alignments\" % (bam, good, total))\n",
    "    return outbam"
   ]
  },
  {
   "cell_type": "code",
   "execution_count": 8,
   "metadata": {
    "collapsed": true
   },
   "outputs": [],
   "source": [
    "new = filter_bam(bam, outbam, overlap=0, pctid=95, minlen=50)"
   ]
  },
  {
   "cell_type": "code",
   "execution_count": 9,
   "metadata": {
    "collapsed": false
   },
   "outputs": [
    {
     "data": {
      "text/plain": [
       "'../sept_data/LVP2_vs_AAA036-G05-Sulfurovum_OUTBAM.bam'"
      ]
     },
     "execution_count": 9,
     "metadata": {},
     "output_type": "execute_result"
    }
   ],
   "source": [
    "new"
   ]
  },
  {
   "cell_type": "code",
   "execution_count": 11,
   "metadata": {
    "collapsed": false
   },
   "outputs": [],
   "source": [
    "!open ../sept_data/LVP2_vs_AAA036-G05-Sulfurovum_OUTBAM.bam -a textedit"
   ]
  },
  {
   "cell_type": "code",
   "execution_count": null,
   "metadata": {
    "collapsed": true
   },
   "outputs": [],
   "source": []
  }
 ],
 "metadata": {
  "kernelspec": {
   "display_name": "Python 2",
   "language": "python",
   "name": "python2"
  },
  "language_info": {
   "codemirror_mode": {
    "name": "ipython",
    "version": 2
   },
   "file_extension": ".py",
   "mimetype": "text/x-python",
   "name": "python",
   "nbconvert_exporter": "python",
   "pygments_lexer": "ipython2",
   "version": "2.7.12"
  }
 },
 "nbformat": 4,
 "nbformat_minor": 0
}
