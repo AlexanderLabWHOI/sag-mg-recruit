{
 "cells": [
  {
   "cell_type": "markdown",
   "metadata": {},
   "source": [
    "## Filter read alignments in bam file based on percent id with md value indicating percent id..."
   ]
  },
  {
   "cell_type": "code",
   "execution_count": 1,
   "metadata": {
    "collapsed": true
   },
   "outputs": [],
   "source": [
    "import pysam"
   ]
  },
  {
   "cell_type": "code",
   "execution_count": 1,
   "metadata": {
    "collapsed": true
   },
   "outputs": [],
   "source": [
    "test_md = '103^T53C2T341'\n",
    "\n",
    "def _match_len(md):\n",
    "    length=0\n",
    "    mismatch=0\n",
    "    number=\"\"\n",
    "    for i, c in enumerate(md):\n",
    "        try:\n",
    "            val = int(c)\n",
    "            number = number+c\n",
    "        except:\n",
    "            if len(number) > 0:\n",
    "                length += int(number)\n",
    "                number=\"\"\n",
    "        if i == len(md)-1:\n",
    "            length += int(number)\n",
    "    return length\n",
    "\n",
    "assert _match_len(test_md) == 499"
   ]
  },
  {
   "cell_type": "code",
   "execution_count": 3,
   "metadata": {
    "collapsed": false
   },
   "outputs": [],
   "source": [
    "\n",
    "\n",
    "md = lambda b: str(b).split(\"\\t\")[-1].split(\",\")[3].replace(\")\",\"\").replace(\"'\",\"\").strip()\n",
    "\n",
    "def filter_bam(bam, outbam, pctid = 95):\n",
    "    with pysam.AlignmentFile(bam, \"rb\") as ih, pysam.AlignmentFile(outbam, \"wb\", template=ih) as oh:\n",
    "        good = 0\n",
    "        total = 0\n",
    "        for i, l in enumerate(ih):\n",
    "            if l.is_duplicate:\n",
    "                continue\n",
    "\n",
    "            total += 1\n",
    "            md = str(l).split(\"\\t\")[-1].split(\",\")[3].replace(\")\",\"\").replace(\"'\",\"\").strip()  #get md value from raw bam entry\n",
    "            match = match_len(md)\n",
    "            pct_match = (match)/l.rlen * 100\n",
    "\n",
    "            if pct_match > pctid:\n",
    "                good += 1\n",
    "                oh.write(l)\n",
    "        print(\"there were %s good read alignments out of %s total alignments\" % (good, total))"
   ]
  },
  {
   "cell_type": "code",
   "execution_count": 2,
   "metadata": {
    "collapsed": true
   },
   "outputs": [],
   "source": [
    "bam = \"../data/big_data/bam_exe/SRS019030_454_vs_OlaneusYIT12061.bam\""
   ]
  },
  {
   "cell_type": "code",
   "execution_count": 21,
   "metadata": {
    "collapsed": false
   },
   "outputs": [
    {
     "name": "stdout",
     "output_type": "stream",
     "text": [
      "[(4, 42), (0, 57), (4, 178)]\n",
      "[(4, 25), (0, 57), (4, 377)]\n",
      "[(4, 310), (0, 57), (4, 65)]\n",
      "[(4, 21), (0, 57), (4, 402)]\n",
      "[(4, 21), (0, 57), (4, 384)]\n",
      "[(4, 47), (0, 57), (4, 271)]\n",
      "[(4, 93), (0, 57), (4, 216)]\n",
      "[(4, 2), (0, 57), (4, 387)]\n",
      "[(4, 112), (0, 57), (4, 326)]\n",
      "[(4, 191), (0, 57), (4, 280)]\n",
      "[(4, 329), (0, 57), (4, 113)]\n",
      "[(4, 48), (0, 57), (4, 413)]\n",
      "[(4, 269), (0, 57), (4, 100)]\n",
      "[(4, 375), (0, 57), (4, 90)]\n",
      "[(4, 117), (0, 57), (4, 305)]\n",
      "[(4, 25), (0, 57), (4, 289)]\n",
      "[(4, 23), (0, 57), (4, 370)]\n",
      "[(4, 50), (0, 57), (4, 398)]\n",
      "[(4, 404), (0, 58)]\n",
      "[(4, 48), (0, 57), (4, 399)]\n",
      "[(4, 424), (0, 57), (4, 26)]\n",
      "[(4, 472), (0, 58)]\n",
      "[(4, 368), (0, 57), (4, 91)]\n",
      "[(4, 357), (0, 57), (4, 90)]\n",
      "[(4, 18), (0, 57), (4, 258)]\n",
      "[(4, 126), (0, 57), (4, 306)]\n",
      "[(4, 87), (0, 57), (4, 373)]\n",
      "[(4, 356), (0, 57), (4, 111)]\n",
      "[(4, 211), (0, 50), (4, 213)]\n",
      "[(4, 56), (0, 50), (4, 279)]\n",
      "[(4, 92), (0, 50), (4, 273)]\n",
      "[(4, 207), (0, 45), (4, 133)]\n",
      "[(4, 366), (0, 40), (4, 95)]\n",
      "[(4, 234), (0, 40), (4, 247)]\n",
      "[(4, 314), (0, 40), (4, 122)]\n",
      "[(4, 310), (0, 40), (4, 200)]\n",
      "[(4, 372), (0, 92), (4, 4)]\n",
      "[(4, 266), (0, 92), (4, 59)]\n",
      "[(4, 266), (0, 92), (4, 37)]\n",
      "[(4, 36), (0, 209), (4, 147)]\n",
      "[(4, 135), (0, 209), (4, 127)]\n",
      "[(4, 36), (0, 58), (1, 1), (0, 71), (1, 1), (0, 80), (4, 218)]\n",
      "[(4, 18), (0, 209), (4, 270)]\n",
      "[(0, 84), (4, 199)]\n",
      "[(4, 97), (0, 83), (4, 132)]\n",
      "[(4, 81), (0, 83), (4, 206)]\n",
      "[(0, 65), (4, 42)]\n",
      "[(4, 223), (0, 53), (4, 180)]\n",
      "[(4, 215), (0, 53), (4, 283)]\n",
      "[(4, 423), (0, 64)]\n",
      "[(4, 297), (0, 69), (4, 126)]\n",
      "[(4, 114), (0, 69), (4, 198)]\n",
      "[(4, 230), (0, 69), (4, 146)]\n",
      "[(4, 185), (0, 69), (4, 195)]\n",
      "[(4, 189), (0, 69), (4, 208)]\n",
      "[(4, 184), (0, 69), (4, 267)]\n",
      "[(4, 56), (0, 89), (4, 317)]\n",
      "[(4, 245), (0, 87), (4, 140)]\n",
      "[(4, 162), (0, 89), (4, 234)]\n",
      "[(4, 279), (0, 89), (4, 130)]\n",
      "[(4, 249), (0, 89), (4, 200)]\n",
      "[(4, 144), (0, 89), (4, 310)]\n",
      "[(4, 246), (0, 89), (4, 194)]\n",
      "[(4, 85), (0, 89), (4, 316)]\n",
      "[(4, 50), (0, 56), (4, 283)]\n",
      "[(4, 250), (0, 89), (4, 23)]\n",
      "[(4, 160), (0, 89), (4, 238)]\n",
      "[(4, 172), (0, 89), (4, 144)]\n",
      "[(4, 267), (0, 89), (4, 159)]\n",
      "[(4, 182), (0, 89), (4, 96)]\n",
      "[(4, 358), (0, 89), (4, 52)]\n",
      "[(4, 318), (0, 89), (4, 111)]\n",
      "[(4, 141), (0, 60), (4, 95)]\n",
      "[(4, 177), (0, 60), (4, 107)]\n",
      "[(4, 54), (0, 60), (4, 401)]\n",
      "[(4, 22), (0, 60), (4, 156)]\n",
      "[(4, 314), (0, 60), (4, 93)]\n",
      "[(4, 188), (0, 60), (4, 156)]\n",
      "[(4, 161), (0, 60), (4, 205)]\n",
      "[(4, 161), (0, 60), (4, 205)]\n",
      "[(4, 65), (0, 60), (4, 195)]\n",
      "[(4, 28), (0, 54)]\n",
      "[(4, 307), (0, 60), (4, 141)]\n",
      "[(4, 190), (0, 60), (4, 265)]\n",
      "[(4, 276), (0, 60), (4, 184)]\n",
      "[(4, 15), (0, 156), (4, 61)]\n",
      "[(0, 137), (4, 364)]\n",
      "[(4, 452), (0, 100)]\n",
      "[(4, 229), (0, 120), (4, 95)]\n",
      "[(4, 144), (0, 120), (4, 59)]\n",
      "[(4, 134), (0, 120), (4, 218)]\n",
      "[(4, 80), (0, 120), (4, 134)]\n",
      "[(4, 125), (0, 120), (4, 227)]\n",
      "[(4, 318), (0, 120), (4, 78)]\n",
      "[(4, 108), (0, 120), (4, 283)]\n",
      "[(4, 130), (0, 121), (4, 163)]\n",
      "[(4, 199), (0, 120), (4, 198)]\n",
      "[(4, 309), (0, 59), (2, 1), (0, 21), (2, 2), (0, 36), (4, 8)]\n",
      "[(4, 299), (0, 120), (4, 71)]\n",
      "[(4, 354), (0, 87), (1, 1), (0, 33), (4, 61)]\n",
      "[(4, 211), (0, 20), (1, 2), (0, 3), (2, 1), (0, 23), (1, 1), (0, 73), (4, 72)]\n"
     ]
    }
   ],
   "source": [
    "with pysam.AlignmentFile(bam, \"rb\") as ih: #, pysam.AlignmentFile(outbam, \"wb\", template=ih) as oh:\n",
    "    good = 0\n",
    "    total = 0\n",
    "    for i, l in enumerate(ih):     \n",
    "        print(l.cigartuples)\n",
    "        if l.query_length != l.infer_query_length() or l.query_length != len(l.query_sequence):\n",
    "            print(l.query_length, l.infer_query_length(), len(l.query_sequence))\n",
    "        if i == 100:\n",
    "            break"
   ]
  },
  {
   "cell_type": "code",
   "execution_count": null,
   "metadata": {
    "collapsed": true
   },
   "outputs": [],
   "source": []
  }
 ],
 "metadata": {
  "kernelspec": {
   "display_name": "Python 2",
   "language": "python",
   "name": "python2"
  },
  "language_info": {
   "codemirror_mode": {
    "name": "ipython",
    "version": 2
   },
   "file_extension": ".py",
   "mimetype": "text/x-python",
   "name": "python",
   "nbconvert_exporter": "python",
   "pygments_lexer": "ipython2",
   "version": "2.7.11"
  }
 },
 "nbformat": 4,
 "nbformat_minor": 0
}
