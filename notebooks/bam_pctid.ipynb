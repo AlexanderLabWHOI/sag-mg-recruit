{
 "cells": [
  {
   "cell_type": "markdown",
   "metadata": {},
   "source": [
    "## Filter read alignments in bam file based on percent id with md value indicating percent id..."
   ]
  },
  {
   "cell_type": "code",
   "execution_count": 33,
   "metadata": {
    "collapsed": true
   },
   "outputs": [],
   "source": [
    "import pysam\n",
    "from __future__ import division"
   ]
  },
  {
   "cell_type": "code",
   "execution_count": 2,
   "metadata": {
    "collapsed": true
   },
   "outputs": [],
   "source": [
    "test_md = '103^T53C2T341'\n",
    "\n",
    "def _match_len(md):\n",
    "    length=0\n",
    "    mismatch=0\n",
    "    number=\"\"\n",
    "    for i, c in enumerate(md):\n",
    "        try:\n",
    "            val = int(c)\n",
    "            number = number+c\n",
    "        except:\n",
    "            if len(number) > 0:\n",
    "                length += int(number)\n",
    "                number=\"\"\n",
    "        if i == len(md)-1:\n",
    "            length += int(number)\n",
    "    return length\n",
    "\n",
    "assert _match_len(test_md) == 499"
   ]
  },
  {
   "cell_type": "code",
   "execution_count": 3,
   "metadata": {
    "collapsed": false
   },
   "outputs": [],
   "source": [
    "\n",
    "\n",
    "md = lambda b: str(b).split(\"\\t\")[-1].split(\",\")[3].replace(\")\",\"\").replace(\"'\",\"\").strip()\n",
    "\n",
    "def filter_bam(bam, outbam, pctid = 95):\n",
    "    with pysam.AlignmentFile(bam, \"rb\") as ih, pysam.AlignmentFile(outbam, \"wb\", template=ih) as oh:\n",
    "        good = 0\n",
    "        total = 0\n",
    "        for i, l in enumerate(ih):\n",
    "            if l.is_duplicate:\n",
    "                continue\n",
    "\n",
    "            total += 1\n",
    "            md = str(l).split(\"\\t\")[-1].split(\",\")[3].replace(\")\",\"\").replace(\"'\",\"\").strip()  #get md value from raw bam entry\n",
    "            match = match_len(md)\n",
    "            pct_match = (match)/l.rlen * 100\n",
    "\n",
    "            if pct_match > pctid:\n",
    "                good += 1\n",
    "                oh.write(l)\n",
    "        print(\"there were %s good read alignments out of %s total alignments\" % (good, total))"
   ]
  },
  {
   "cell_type": "code",
   "execution_count": 4,
   "metadata": {
    "collapsed": true
   },
   "outputs": [],
   "source": [
    "bam = \"../data/big_data/bam_exe/SRS019030_454_vs_OlaneusYIT12061.bam\""
   ]
  },
  {
   "cell_type": "code",
   "execution_count": 34,
   "metadata": {
    "collapsed": true
   },
   "outputs": [],
   "source": [
    "def read_overlap_pctid(samline, overlap, pctid):\n",
    "    reallen = l.infer_query_length()\n",
    "    alnlen = l.query_length\n",
    "    mismatch = l.get_tag(\"NM\")\n",
    "    \n",
    "    aln_overlap = alnlen/reallen * 100\n",
    "    aln_pctid = (alnlen-mismatch)/alnlen * 100\n",
    "    if aln_overlap >= overlap and aln_pctid >= pctid:\n",
    "        return True\n",
    "    else:\n",
    "        return False"
   ]
  },
  {
   "cell_type": "code",
   "execution_count": 36,
   "metadata": {
    "collapsed": true
   },
   "outputs": [],
   "source": [
    "def test_read_overlap_pctid():\n",
    "    a = pysam.AlignedSegment()\n",
    "    a.query_name = \"read_12345\"\n",
    "    a.query_sequence = \"ACGT\" * 10\n",
    "    a.flag = 0\n",
    "    a.reference_id = 0\n",
    "    a.reference_start = 20\n",
    "    a.mapping_quality = 20\n",
    "    a.cigartuples = ((0, 10), (2, 1), (0, 9), (1, 1), (0, 20))\n",
    "    a.next_reference_id = 0\n",
    "    a.next_reference_start = 200\n",
    "    a.template_length = 167\n",
    "    a.query_qualities = pysam.qualitystring_to_array(\"1234\") * 10\n",
    "    a.set_tag(\"NM\", 5)\n",
    "    \n",
    "    assert read_overlap_pctid(a, 95, 95) == True\n",
    "    assert read_overlap_pctid(a, 100, 100) == False"
   ]
  },
  {
   "cell_type": "code",
   "execution_count": 41,
   "metadata": {
    "collapsed": false
   },
   "outputs": [
    {
     "name": "stdout",
     "output_type": "stream",
     "text": [
      "100.0\n",
      "98.997995992\n",
      "100.0\n",
      "98.997995992\n"
     ]
    }
   ],
   "source": [
    "\n"
   ]
  },
  {
   "cell_type": "code",
   "execution_count": null,
   "metadata": {
    "collapsed": true
   },
   "outputs": [],
   "source": []
  },
  {
   "cell_type": "code",
   "execution_count": null,
   "metadata": {
    "collapsed": true
   },
   "outputs": [],
   "source": []
  },
  {
   "cell_type": "code",
   "execution_count": 35,
   "metadata": {
    "collapsed": false
   },
   "outputs": [
    {
     "name": "stdout",
     "output_type": "stream",
     "text": [
      "('overlap:', 100.0)\n",
      "5\n",
      "277\n",
      "('pctid:', 98.19494584837545)\n",
      "100.0\n",
      "98.1949458484\n",
      "True\n",
      "('overlap:', 100.0)\n",
      "5\n",
      "459\n",
      "('pctid:', 98.91067538126362)\n",
      "100.0\n",
      "98.9106753813\n",
      "True\n",
      "('overlap:', 100.0)\n",
      "5\n",
      "432\n",
      "('pctid:', 98.8425925925926)\n",
      "100.0\n",
      "98.8425925926\n",
      "True\n",
      "('overlap:', 100.0)\n",
      "5\n",
      "480\n",
      "('pctid:', 98.95833333333334)\n",
      "100.0\n",
      "98.9583333333\n",
      "True\n",
      "('overlap:', 100.0)\n",
      "5\n",
      "462\n",
      "('pctid:', 98.91774891774891)\n",
      "100.0\n",
      "98.9177489177\n",
      "True\n",
      "('overlap:', 100.0)\n",
      "5\n",
      "375\n",
      "('pctid:', 98.66666666666667)\n",
      "100.0\n",
      "98.6666666667\n",
      "True\n",
      "('overlap:', 100.0)\n",
      "5\n",
      "366\n",
      "('pctid:', 98.63387978142076)\n",
      "100.0\n",
      "98.6338797814\n",
      "True\n",
      "('overlap:', 100.0)\n",
      "5\n",
      "446\n",
      "('pctid:', 98.87892376681614)\n",
      "100.0\n",
      "98.8789237668\n",
      "True\n",
      "('overlap:', 100.0)\n",
      "5\n",
      "495\n",
      "('pctid:', 98.98989898989899)\n",
      "100.0\n",
      "98.9898989899\n",
      "True\n",
      "('overlap:', 100.0)\n",
      "5\n",
      "528\n",
      "('pctid:', 99.0530303030303)\n",
      "100.0\n",
      "99.053030303\n",
      "True\n",
      "('overlap:', 100.0)\n",
      "5\n",
      "499\n",
      "('pctid:', 98.99799599198397)\n",
      "100.0\n",
      "98.997995992\n",
      "True\n"
     ]
    }
   ],
   "source": [
    "from __future__ import division\n",
    "with pysam.AlignmentFile(bam, \"rb\") as ih: #, pysam.AlignmentFile(outbam, \"wb\", template=ih) as oh:\n",
    "    good = 0\n",
    "    total = 0\n",
    "    for i, l in enumerate(ih):  \n",
    "        reallen = l.infer_query_length()\n",
    "        alnlen = l.query_length\n",
    "        mismatch = l.get_tag(\"NM\")\n",
    "\n",
    "        aln_overlap = alnlen/reallen * 100\n",
    "        print(\"overlap:\", aln_overlap)\n",
    "        print(mismatch)\n",
    "        print(alnlen)\n",
    "        aln_pctid = (alnlen-mismatch)/alnlen * 100\n",
    "        print(\"pctid:\", aln_pctid)\n",
    "        \n",
    "        print(read_overlap_pctid(l, 95, 95))\n",
    "        if i == 10:\n",
    "            break"
   ]
  },
  {
   "cell_type": "code",
   "execution_count": 12,
   "metadata": {
    "collapsed": true
   },
   "outputs": [
    {
     "name": "stdout",
     "output_type": "stream",
     "text": [
      "Object `l.get_cigar_stats` not found.\n"
     ]
    }
   ],
   "source": []
  },
  {
   "cell_type": "code",
   "execution_count": null,
   "metadata": {
    "collapsed": true
   },
   "outputs": [],
   "source": []
  }
 ],
 "metadata": {
  "kernelspec": {
   "display_name": "Python 2",
   "language": "python",
   "name": "python2"
  },
  "language_info": {
   "codemirror_mode": {
    "name": "ipython",
    "version": 2
   },
   "file_extension": ".py",
   "mimetype": "text/x-python",
   "name": "python",
   "nbconvert_exporter": "python",
   "pygments_lexer": "ipython2",
   "version": "2.7.12"
  }
 },
 "nbformat": 4,
 "nbformat_minor": 0
}
