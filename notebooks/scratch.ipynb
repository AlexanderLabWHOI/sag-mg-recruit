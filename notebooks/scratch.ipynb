{
 "cells": [
  {
   "cell_type": "code",
   "execution_count": 20,
   "metadata": {
    "collapsed": true
   },
   "outputs": [],
   "source": [
    "from __future__ import print_function\n",
    "import re\n",
    "import os\n",
    "from pandas import Series\n",
    "import pandas as pd"
   ]
  },
  {
   "cell_type": "code",
   "execution_count": 6,
   "metadata": {
    "collapsed": false
   },
   "outputs": [
    {
     "data": {
      "text/plain": [
       "'example'"
      ]
     },
     "execution_count": 6,
     "metadata": {},
     "output_type": "execute_result"
    }
   ],
   "source": [
    "e = \"/mnt/stepanauskas_nfs/julia/example.fasta\"\n",
    "\n",
    "re.sub(r\"\\.fa.*\", \"\", os.path.basename(e))"
   ]
  },
  {
   "cell_type": "code",
   "execution_count": 15,
   "metadata": {
    "collapsed": true
   },
   "outputs": [],
   "source": [
    "def bbcov(ref, reads1, reads2=None, aln_id=0.95, threads=20, mem=\"20g\", outdir=\"\", out_prefix=None):\n",
    "    if out_prefix is None:\n",
    "        rname = re.sub(r\"\\.fa.*\", \"\", os.path.basename(ref))\n",
    "        mgname = re.sub(r\"\\.fa.*\", \"\", os.path.basename(reads1))\n",
    "        out_prefix = \"{mgname}_bbmap_{rname}\".format(**locals())\n",
    "\n",
    "    if reads2 is None:\n",
    "        reads2cmd = \"\"\n",
    "    else:\n",
    "        reads2cmd = \"in2={reads2}\".format(**locals())\n",
    "    \n",
    "    oh = os.path.join(outdir,\"{out_prefix}.covstats\".format(**locals()))\n",
    "    cmd = \"bbmap.sh in = {reads1} {reads2cmd} minid={aln_id} covstats={oh} ref={ref} threads={threads} -Xmx{mem}\".format(**locals())\n",
    "    print(cmd)"
   ]
  },
  {
   "cell_type": "code",
   "execution_count": 16,
   "metadata": {
    "collapsed": false
   },
   "outputs": [
    {
     "name": "stdout",
     "output_type": "stream",
     "text": [
      "bbmap.sh in = /reads/file/reads.fastq.gz  minid=0.95 covstats=/out/dir/reads_bbmap_this.covstats ref=/in/file/this.fasta threads=20 -Xmx20g\n"
     ]
    }
   ],
   "source": [
    "bbcov(\"/in/file/this.fasta\", \"/reads/file/reads.fastq.gz\", outdir=\"/out/dir\")"
   ]
  },
  {
   "cell_type": "code",
   "execution_count": 18,
   "metadata": {
    "collapsed": false
   },
   "outputs": [
    {
     "name": "stdout",
     "output_type": "stream",
     "text": [
      "bbmap.sh in=/mnt/stepanauskas_nfs/julia/fragdev/lvp8.extendedFrags.fastq.gz minid=0.95 covstats=/mnt/stepanauskas_nfs/julia/fragdev/lvp8_bbmaped2_AAA036-G05-Sulfurovum_95_covstats.txt ref=/mnt/stepanauskas_nfs/julia/Test_FragRecruitment/Masked_genomes/AAA036-G05-Sulfurovum.fasta threads=20 -Xmx20g\n"
     ]
    }
   ],
   "source": [
    "#testing bbcov\n",
    "\n",
    "prefix = \"/mnt/stepanauskas_nfs/julia/fragdev/\"\n",
    "                                            \n",
    "reads = \"/mnt/stepanauskas_nfs/julia/fragdev/lvp8.extendedFrags.fastq.gz\"\n",
    "reference = \"/mnt/stepanauskas_nfs/julia/Test_FragRecruitment/Masked_genomes/AAA036-G05-Sulfurovum.fasta\"\n",
    "\n",
    "bprefix = os.path.join(prefix, os.path.join(prefix, \"{readbase}_bbmaped2_{refbase}\".format(readbase = os.path.basename(reads).split(\".\")[0], \n",
    "                                             refbase = os.path.basename(reference).strip(\".fasta\"))))\n",
    "aln_id = 0.95\n",
    "\n",
    "out_cov = bprefix+\"_perftest_covstats.txt\"\n",
    "\n",
    "\n",
    "cmd = \"bbmap.sh in={reads} minid={aln_id} covstats={out_cov} perfectmode=t ref={reference} threads=20 -Xmx20g\".format(**locals())\n",
    "print(cmd)"
   ]
  },
  {
   "cell_type": "code",
   "execution_count": null,
   "metadata": {
    "collapsed": true
   },
   "outputs": [],
   "source": [
    "import subprocess\n",
    "results = \"\"\n",
    "proc = subprocess.Popen(cmd.split(\" \"), stderr=subprocess.PIPE)\n",
    "for line in proc.stderr:\n",
    "    results+=line\n",
    "proc.wait()"
   ]
  },
  {
   "cell_type": "code",
   "execution_count": 1,
   "metadata": {
    "collapsed": false
   },
   "outputs": [],
   "source": [
    "out = u'java -Djava.library.path=/mnt/scgc_nfs/opt/common/bbmap/35.85/jni/ -ea -Xmx20g -cp /mnt/scgc_nfs/opt/common/bbmap/35.85/current/ align2.BBMap build=1 overwrite=true fastareadlen=500 in=/mnt/stepanauskas_nfs/julia/fragdev/lvp8.extendedFrags.fastq.gz minid=0.95 covstats=/mnt/stepanauskas_nfs/julia/fragdev/lvp8_bbmaped2_AAA036-G05-Sulfurovum_perftest_covstats.txt perfectmode=t ref=/mnt/stepanauskas_nfs/julia/Test_FragRecruitment/Masked_genomes/AAA036-G05-Sulfurovum.fasta threads=20 -Xmx20g\\nExecuting align2.BBMap [build=1, overwrite=true, fastareadlen=500, in=/mnt/stepanauskas_nfs/julia/fragdev/lvp8.extendedFrags.fastq.gz, minid=0.95, covstats=/mnt/stepanauskas_nfs/julia/fragdev/lvp8_bbmaped2_AAA036-G05-Sulfurovum_perftest_covstats.txt, perfectmode=t, ref=/mnt/stepanauskas_nfs/julia/Test_FragRecruitment/Masked_genomes/AAA036-G05-Sulfurovum.fasta, threads=20, -Xmx20g]\\n\\nBBMap version 35.85\\nSet threads to 20\\nRetaining first best site only for ambiguous mappings.\\nSet MINIMUM_ALIGNMENT_SCORE_RATIO to 0.908\\nNo output file.\\nNOTE:\\tIgnoring reference file because it already appears to have been processed.\\nNOTE:\\tIf you wish to regenerate the index, please manually delete ref/genome/1/summary.txt\\nSet genome to 1\\n\\nLoaded Reference:\\t0.078 seconds.\\nLoading index for chunk 1-1, build 1\\nGenerated Index:\\t1.283 seconds.\\nExecuting jgi.CoveragePileup [covhist=null, covstats=/mnt/stepanauskas_nfs/julia/fragdev/lvp8_bbmaped2_AAA036-G05-Sulfurovum_perftest_covstats.txt, basecov=null, bincov=null, physcov=false, 32bit=false, nzo=false, twocolumn=false, secondary=false, covminscaf=0, ksb=true, binsize=1000, startcov=false, strandedcov=false, rpkm=null, normcov=null, normcovo=null, in1=/mnt/stepanauskas_nfs/julia/fragdev/lvp8.extendedFrags.fastq.gz]\\n\\nSet NONZERO_ONLY to false\\nSet TWOCOLUMN to false\\nSet USE_SECONDARY_ALIGNMENTS to false\\nSet KEEP_SHORT_BINS to true\\nSet USE_COVERAGE_ARRAYS to false\\nSet USE_BITSETS to true\\nAnalyzed Index:   \\t12.277 seconds.\\nCleared Memory:    \\t1.649 seconds.\\nProcessing reads in single-ended mode.\\nStarted read stream.\\nStarted 20 mapping threads.\\nDetecting finished threads: 0, 1, 2, 3, 4, 5, 6, 7, 8, 9, 10, 11, 12, 13, 14, 15, 16, 17, 18, 19\\n\\n   ------------------   Results   ------------------   \\n\\nGenome:                \\t1\\nKey Length:            \\t13\\nMax Indel:             \\t0\\nMinimum Score Ratio:  \\t1.0\\nMapping Mode:         \\tperfect\\nReads Used:           \\t12861014\\t(2216031944 bases)\\n\\nMapping:          \\t41.755 seconds.\\nReads/sec:       \\t308009.69\\nkBases/sec:      \\t53071.97\\n\\n\\nRead 1 data:      \\tpct reads\\tnum reads \\tpct bases\\t   num bases\\n\\nmapped:          \\t  0.0008% \\t      106 \\t  0.0008% \\t       16776\\nunambiguous:     \\t  0.0008% \\t      106 \\t  0.0008% \\t       16776\\nambiguous:       \\t  0.0000% \\t        0 \\t  0.0000% \\t           0\\nlow-Q discards:  \\t  0.0030% \\t      385 \\t  0.0031% \\t       69498\\n\\nperfect best site:\\t  0.0008% \\t      106 \\t  0.0008% \\t       16776\\nsemiperfect site:\\t  0.0008% \\t      106 \\t  0.0008% \\t       16776\\n\\nMatch Rate:      \\t      NA \\t       NA \\t100.0000% \\t       16776\\nError Rate:      \\t  0.0000% \\t        0 \\t  0.0000% \\t           0\\nSub Rate:        \\t  0.0000% \\t        0 \\t  0.0000% \\t           0\\nDel Rate:        \\t  0.0000% \\t        0 \\t  0.0000% \\t           0\\nIns Rate:        \\t  0.0000% \\t        0 \\t  0.0000% \\t           0\\nN Rate:          \\t  0.0000% \\t        0 \\t  0.0000% \\t           0\\n\\nAverage coverage:                    \\t0.01\\nPercent scaffolds with any coverage: \\t29.87\\nPercent of reference bases covered:  \\t0.41\\n\\nTotal time:     \\t57.494 seconds.\\n'"
   ]
  },
  {
   "cell_type": "code",
   "execution_count": 2,
   "metadata": {
    "collapsed": false
   },
   "outputs": [
    {
     "name": "stdout",
     "output_type": "stream",
     "text": [
      "java -Djava.library.path=/mnt/scgc_nfs/opt/common/bbmap/35.85/jni/ -ea -Xmx20g -cp /mnt/scgc_nfs/opt/common/bbmap/35.85/current/ align2.BBMap build=1 overwrite=true fastareadlen=500 in=/mnt/stepanauskas_nfs/julia/fragdev/lvp8.extendedFrags.fastq.gz minid=0.95 covstats=/mnt/stepanauskas_nfs/julia/fragdev/lvp8_bbmaped2_AAA036-G05-Sulfurovum_perftest_covstats.txt perfectmode=t ref=/mnt/stepanauskas_nfs/julia/Test_FragRecruitment/Masked_genomes/AAA036-G05-Sulfurovum.fasta threads=20 -Xmx20g\n",
      "Executing align2.BBMap [build=1, overwrite=true, fastareadlen=500, in=/mnt/stepanauskas_nfs/julia/fragdev/lvp8.extendedFrags.fastq.gz, minid=0.95, covstats=/mnt/stepanauskas_nfs/julia/fragdev/lvp8_bbmaped2_AAA036-G05-Sulfurovum_perftest_covstats.txt, perfectmode=t, ref=/mnt/stepanauskas_nfs/julia/Test_FragRecruitment/Masked_genomes/AAA036-G05-Sulfurovum.fasta, threads=20, -Xmx20g]\n",
      "\n",
      "BBMap version 35.85\n",
      "Set threads to 20\n",
      "Retaining first best site only for ambiguous mappings.\n",
      "Set MINIMUM_ALIGNMENT_SCORE_RATIO to 0.908\n",
      "No output file.\n",
      "NOTE:\tIgnoring reference file because it already appears to have been processed.\n",
      "NOTE:\tIf you wish to regenerate the index, please manually delete ref/genome/1/summary.txt\n",
      "Set genome to 1\n",
      "\n",
      "Loaded Reference:\t0.078 seconds.\n",
      "Loading index for chunk 1-1, build 1\n",
      "Generated Index:\t1.283 seconds.\n",
      "Executing jgi.CoveragePileup [covhist=null, covstats=/mnt/stepanauskas_nfs/julia/fragdev/lvp8_bbmaped2_AAA036-G05-Sulfurovum_perftest_covstats.txt, basecov=null, bincov=null, physcov=false, 32bit=false, nzo=false, twocolumn=false, secondary=false, covminscaf=0, ksb=true, binsize=1000, startcov=false, strandedcov=false, rpkm=null, normcov=null, normcovo=null, in1=/mnt/stepanauskas_nfs/julia/fragdev/lvp8.extendedFrags.fastq.gz]\n",
      "\n",
      "Set NONZERO_ONLY to false\n",
      "Set TWOCOLUMN to false\n",
      "Set USE_SECONDARY_ALIGNMENTS to false\n",
      "Set KEEP_SHORT_BINS to true\n",
      "Set USE_COVERAGE_ARRAYS to false\n",
      "Set USE_BITSETS to true\n",
      "Analyzed Index:   \t12.277 seconds.\n",
      "Cleared Memory:    \t1.649 seconds.\n",
      "Processing reads in single-ended mode.\n",
      "Started read stream.\n",
      "Started 20 mapping threads.\n",
      "Detecting finished threads: 0, 1, 2, 3, 4, 5, 6, 7, 8, 9, 10, 11, 12, 13, 14, 15, 16, 17, 18, 19\n",
      "\n",
      "   ------------------   Results   ------------------   \n",
      "\n",
      "Genome:                \t1\n",
      "Key Length:            \t13\n",
      "Max Indel:             \t0\n",
      "Minimum Score Ratio:  \t1.0\n",
      "Mapping Mode:         \tperfect\n",
      "Reads Used:           \t12861014\t(2216031944 bases)\n",
      "\n",
      "Mapping:          \t41.755 seconds.\n",
      "Reads/sec:       \t308009.69\n",
      "kBases/sec:      \t53071.97\n",
      "\n",
      "\n",
      "Read 1 data:      \tpct reads\tnum reads \tpct bases\t   num bases\n",
      "\n",
      "mapped:          \t  0.0008% \t      106 \t  0.0008% \t       16776\n",
      "unambiguous:     \t  0.0008% \t      106 \t  0.0008% \t       16776\n",
      "ambiguous:       \t  0.0000% \t        0 \t  0.0000% \t           0\n",
      "low-Q discards:  \t  0.0030% \t      385 \t  0.0031% \t       69498\n",
      "\n",
      "perfect best site:\t  0.0008% \t      106 \t  0.0008% \t       16776\n",
      "semiperfect site:\t  0.0008% \t      106 \t  0.0008% \t       16776\n",
      "\n",
      "Match Rate:      \t      NA \t       NA \t100.0000% \t       16776\n",
      "Error Rate:      \t  0.0000% \t        0 \t  0.0000% \t           0\n",
      "Sub Rate:        \t  0.0000% \t        0 \t  0.0000% \t           0\n",
      "Del Rate:        \t  0.0000% \t        0 \t  0.0000% \t           0\n",
      "Ins Rate:        \t  0.0000% \t        0 \t  0.0000% \t           0\n",
      "N Rate:          \t  0.0000% \t        0 \t  0.0000% \t           0\n",
      "\n",
      "Average coverage:                    \t0.01\n",
      "Percent scaffolds with any coverage: \t29.87\n",
      "Percent of reference bases covered:  \t0.41\n",
      "\n",
      "Total time:     \t57.494 seconds.\n",
      "\n"
     ]
    }
   ],
   "source": [
    "print(out)"
   ]
  },
  {
   "cell_type": "code",
   "execution_count": 3,
   "metadata": {
    "collapsed": false
   },
   "outputs": [],
   "source": [
    "def bbmap_stderr_todict(stderr):\n",
    "    name = lambda i: i.split(\"\\t\")[0].strip().replace(\":\",\"\").replace(\" \",\"_\")\n",
    "    numreads = lambda i: i.split(\"\\t\")[2].strip()\n",
    "    info = lambda i: i.split(\"\\t\")[1]\n",
    "    ri = {}    # recruit info dict\n",
    "    for i, l in enumerate(stderr.split(\"\\n\")):\n",
    "        if len(l.split(\"\\t\")) == 5:\n",
    "            ri[name(l)] = numreads(l)\n",
    "        if len(l.split(\"\\t\")) == 2 or len(l.split(\"\\t\")) == 3:\n",
    "            ri[name(l)] = info(l)\n",
    "    return ri"
   ]
  },
  {
   "cell_type": "code",
   "execution_count": 4,
   "metadata": {
    "collapsed": false
   },
   "outputs": [
    {
     "data": {
      "text/plain": [
       "u'12861014'"
      ]
     },
     "execution_count": 4,
     "metadata": {},
     "output_type": "execute_result"
    }
   ],
   "source": [
    "ri = bbmap_stderr_todict(out)\n",
    "ri['Reads_Used']"
   ]
  },
  {
   "cell_type": "code",
   "execution_count": 69,
   "metadata": {
    "collapsed": false
   },
   "outputs": [],
   "source": [
    "def bbmap_stderr_info1(stderr, name):\n",
    "    desired_info = ['perfect_best_site',\n",
    "                    'unambiguous',\n",
    "                    'Percent_scaffolds_with_any_coverage', \n",
    "                    'Percent_of_reference_bases_covered', \n",
    "                    'Average_coverage', \n",
    "                    'Reads_Used']\n",
    "    indict = bbmap_stderr_todict(stderr)\n",
    "    numreads = lambda i: i.split(\"\\t\")[2].strip()\n",
    "    ser = Series([indict[i] for i in desired_info], index = desired_info, name=name)\n",
    "    return ser"
   ]
  },
  {
   "cell_type": "code",
   "execution_count": 70,
   "metadata": {
    "collapsed": true
   },
   "outputs": [],
   "source": [
    "out2 = out"
   ]
  },
  {
   "cell_type": "code",
   "execution_count": 71,
   "metadata": {
    "collapsed": false
   },
   "outputs": [],
   "source": [
    "o2 = bbmap_stderr_info1(out2, name=\"o2\")"
   ]
  },
  {
   "cell_type": "code",
   "execution_count": 72,
   "metadata": {
    "collapsed": false
   },
   "outputs": [
    {
     "data": {
      "text/plain": [
       "perfect_best_site                           106\n",
       "unambiguous                                 106\n",
       "Percent_scaffolds_with_any_coverage       29.87\n",
       "Percent_of_reference_bases_covered         0.41\n",
       "Average_coverage                           0.01\n",
       "Reads_Used                             12861014\n",
       "Name: o2, dtype: object"
      ]
     },
     "execution_count": 72,
     "metadata": {},
     "output_type": "execute_result"
    }
   ],
   "source": [
    "o2"
   ]
  },
  {
   "cell_type": "code",
   "execution_count": 60,
   "metadata": {
    "collapsed": false
   },
   "outputs": [],
   "source": [
    "o1 = bbmap_stderr_info1(out, name='o1')"
   ]
  },
  {
   "cell_type": "code",
   "execution_count": 61,
   "metadata": {
    "collapsed": false
   },
   "outputs": [
    {
     "name": "stdout",
     "output_type": "stream",
     "text": [
      "name                                         o1\n",
      "perfect_best_site                           106\n",
      "unambiguous                                 106\n",
      "Percent_scaffolds_with_any_coverage       29.87\n",
      "Percent_of_reference_bases_covered         0.41\n",
      "Average_coverage                           0.01\n",
      "Reads_Used                             12861014\n",
      "Name: o1, dtype: object\n",
      "name                                         o2\n",
      "perfect_best_site                           106\n",
      "unambiguous                                 106\n",
      "Percent_scaffolds_with_any_coverage       29.87\n",
      "Percent_of_reference_bases_covered         0.41\n",
      "Average_coverage                           0.01\n",
      "Reads_Used                             12861014\n",
      "Name: o2, dtype: object\n"
     ]
    }
   ],
   "source": [
    "o2['name'] = 'o2'\n",
    "o1['name'] = 'o1'\n",
    "print(o1)\n",
    "print(o2)"
   ]
  },
  {
   "cell_type": "code",
   "execution_count": 64,
   "metadata": {
    "collapsed": false
   },
   "outputs": [
    {
     "data": {
      "text/html": [
       "<div>\n",
       "<table border=\"1\" class=\"dataframe\">\n",
       "  <thead>\n",
       "    <tr style=\"text-align: right;\">\n",
       "      <th></th>\n",
       "      <th>o1</th>\n",
       "      <th>o2</th>\n",
       "    </tr>\n",
       "  </thead>\n",
       "  <tbody>\n",
       "    <tr>\n",
       "      <th>name</th>\n",
       "      <td>o1</td>\n",
       "      <td>o2</td>\n",
       "    </tr>\n",
       "    <tr>\n",
       "      <th>perfect_best_site</th>\n",
       "      <td>106</td>\n",
       "      <td>106</td>\n",
       "    </tr>\n",
       "    <tr>\n",
       "      <th>unambiguous</th>\n",
       "      <td>106</td>\n",
       "      <td>106</td>\n",
       "    </tr>\n",
       "    <tr>\n",
       "      <th>Percent_scaffolds_with_any_coverage</th>\n",
       "      <td>29.87</td>\n",
       "      <td>29.87</td>\n",
       "    </tr>\n",
       "    <tr>\n",
       "      <th>Percent_of_reference_bases_covered</th>\n",
       "      <td>0.41</td>\n",
       "      <td>0.41</td>\n",
       "    </tr>\n",
       "    <tr>\n",
       "      <th>Average_coverage</th>\n",
       "      <td>0.01</td>\n",
       "      <td>0.01</td>\n",
       "    </tr>\n",
       "    <tr>\n",
       "      <th>Reads_Used</th>\n",
       "      <td>12861014</td>\n",
       "      <td>12861014</td>\n",
       "    </tr>\n",
       "  </tbody>\n",
       "</table>\n",
       "</div>"
      ],
      "text/plain": [
       "                                           o1        o2\n",
       "name                                       o1        o2\n",
       "perfect_best_site                         106       106\n",
       "unambiguous                               106       106\n",
       "Percent_scaffolds_with_any_coverage     29.87     29.87\n",
       "Percent_of_reference_bases_covered       0.41      0.41\n",
       "Average_coverage                         0.01      0.01\n",
       "Reads_Used                           12861014  12861014"
      ]
     },
     "execution_count": 64,
     "metadata": {},
     "output_type": "execute_result"
    }
   ],
   "source": [
    "df = pd.concat([o1, o2], axis=1)\n",
    "df"
   ]
  },
  {
   "cell_type": "code",
   "execution_count": 65,
   "metadata": {
    "collapsed": false
   },
   "outputs": [],
   "source": [
    "df = pd.concat([df, df], axis=1)"
   ]
  },
  {
   "cell_type": "code",
   "execution_count": 76,
   "metadata": {
    "collapsed": false
   },
   "outputs": [],
   "source": [
    "df.to_csv(\"out.txt\", sep=\"\\t\")"
   ]
  },
  {
   "cell_type": "code",
   "execution_count": 77,
   "metadata": {
    "collapsed": false
   },
   "outputs": [],
   "source": [
    "!open \"out.txt\""
   ]
  },
  {
   "cell_type": "code",
   "execution_count": 40,
   "metadata": {
    "collapsed": false
   },
   "outputs": [],
   "source": [
    "df = pd.DataFrame(index= ['name',\n",
    "                    'perfect_best_site',\n",
    "                    'unambiguous',\n",
    "                    'Percent_scaffolds_with_any_coverage', \n",
    "                    'Percent_of_reference_bases_covered', \n",
    "                    'Average_coverage', \n",
    "                    'Reads_Used'])"
   ]
  },
  {
   "cell_type": "code",
   "execution_count": 42,
   "metadata": {
    "collapsed": false
   },
   "outputs": [],
   "source": [
    "df = pd.concat([df, o1], axis=1)"
   ]
  },
  {
   "cell_type": "code",
   "execution_count": 50,
   "metadata": {
    "collapsed": false
   },
   "outputs": [
    {
     "ename": "ValueError",
     "evalue": "invalid literal for long() with base 10: 'new'",
     "output_type": "error",
     "traceback": [
      "\u001b[0;31m---------------------------------------------------------------------------\u001b[0m",
      "\u001b[0;31mValueError\u001b[0m                                Traceback (most recent call last)",
      "\u001b[0;32m<ipython-input-50-9eb96370b638>\u001b[0m in \u001b[0;36m<module>\u001b[0;34m()\u001b[0m\n\u001b[0;32m----> 1\u001b[0;31m \u001b[0mdf\u001b[0m\u001b[0;34m.\u001b[0m\u001b[0mcolumns\u001b[0m\u001b[0;34m.\u001b[0m\u001b[0mvalues\u001b[0m\u001b[0;34m[\u001b[0m\u001b[0;34m-\u001b[0m\u001b[0;36m1\u001b[0m\u001b[0;34m]\u001b[0m \u001b[0;34m=\u001b[0m \u001b[0;34m\"new\"\u001b[0m\u001b[0;34m\u001b[0m\u001b[0m\n\u001b[0m",
      "\u001b[0;31mValueError\u001b[0m: invalid literal for long() with base 10: 'new'"
     ]
    }
   ],
   "source": [
    "df.columns.values[-1] = \"new\""
   ]
  },
  {
   "cell_type": "code",
   "execution_count": 48,
   "metadata": {
    "collapsed": false
   },
   "outputs": [
    {
     "data": {
      "text/html": [
       "<div>\n",
       "<table border=\"1\" class=\"dataframe\">\n",
       "  <thead>\n",
       "    <tr style=\"text-align: right;\">\n",
       "      <th></th>\n",
       "      <th>0</th>\n",
       "    </tr>\n",
       "  </thead>\n",
       "  <tbody>\n",
       "    <tr>\n",
       "      <th>Average_coverage</th>\n",
       "      <td>0.01</td>\n",
       "    </tr>\n",
       "    <tr>\n",
       "      <th>Percent_of_reference_bases_covered</th>\n",
       "      <td>0.41</td>\n",
       "    </tr>\n",
       "    <tr>\n",
       "      <th>Percent_scaffolds_with_any_coverage</th>\n",
       "      <td>29.87</td>\n",
       "    </tr>\n",
       "    <tr>\n",
       "      <th>Reads_Used</th>\n",
       "      <td>12861014</td>\n",
       "    </tr>\n",
       "    <tr>\n",
       "      <th>name</th>\n",
       "      <td>o1</td>\n",
       "    </tr>\n",
       "    <tr>\n",
       "      <th>perfect_best_site</th>\n",
       "      <td>106</td>\n",
       "    </tr>\n",
       "    <tr>\n",
       "      <th>unambiguous</th>\n",
       "      <td>106</td>\n",
       "    </tr>\n",
       "  </tbody>\n",
       "</table>\n",
       "</div>"
      ],
      "text/plain": [
       "                                            0\n",
       "Average_coverage                         0.01\n",
       "Percent_of_reference_bases_covered       0.41\n",
       "Percent_scaffolds_with_any_coverage     29.87\n",
       "Reads_Used                           12861014\n",
       "name                                       o1\n",
       "perfect_best_site                         106\n",
       "unambiguous                               106"
      ]
     },
     "execution_count": 48,
     "metadata": {},
     "output_type": "execute_result"
    }
   ],
   "source": [
    "df.columns.values[2] = \"new_name\"\n",
    "df"
   ]
  },
  {
   "cell_type": "markdown",
   "metadata": {},
   "source": [
    "python mp_recruit.py recruit_multiref \\\n",
    "--outdir ./test2/ \\\n",
    "/mnt/stepanauskas_nfs/julia/fragdev/lvp8.extendedFrags.fastq.gz \\\n",
    "/mnt/stepanauskas_nfs/julia/Test_FragRecruitment/Masked_genomes/ "
   ]
  },
  {
   "cell_type": "code",
   "execution_count": 79,
   "metadata": {
    "collapsed": false
   },
   "outputs": [
    {
     "data": {
      "text/plain": [
       "'/mnt/stepanauskas_nfs/julia/Test_FragRecruitment/Masked_genomes/*.fasta'"
      ]
     },
     "execution_count": 79,
     "metadata": {},
     "output_type": "execute_result"
    }
   ],
   "source": [
    "os.path.join(\"/mnt/stepanauskas_nfs/julia/Test_FragRecruitment/Masked_genomes\", \"*.fasta\")"
   ]
  },
  {
   "cell_type": "code",
   "execution_count": 81,
   "metadata": {
    "collapsed": false
   },
   "outputs": [
    {
     "data": {
      "text/plain": [
       "'/mnt/stepanauskas_nfs/julia/Test_FragRecruitment/Masked_genomes/fasta'"
      ]
     },
     "execution_count": 81,
     "metadata": {},
     "output_type": "execute_result"
    }
   ],
   "source": [
    "os.path.join(os.path.join(\"/mnt/stepanauskas_nfs/julia/Test_FragRecruitment/Masked_genomes\", \"fasta\"))"
   ]
  },
  {
   "cell_type": "code",
   "execution_count": null,
   "metadata": {
    "collapsed": true
   },
   "outputs": [],
   "source": [
    "outdir = \"./test2\"\n",
    "reads1 = \"/mnt/stepanauskas_nfs/julia/fragdev/lvp8.extendedFrags.fastq.gz\"\n",
    "refdir = \"/mnt/stepanauskas_nfs/julia/Test_FragRecruitment/Masked_genomes/\""
   ]
  },
  {
   "cell_type": "code",
   "execution_count": null,
   "metadata": {
    "collapsed": true
   },
   "outputs": [],
   "source": [
    "df = pd.DataFrame(index= ['name',\n",
    "                'perfect_best_site',\n",
    "                'unambiguous',\n",
    "                'Percent_scaffolds_with_any_coverage', \n",
    "                'Percent_of_reference_bases_covered', \n",
    "                'Average_coverage', \n",
    "                'Reads_Used'])"
   ]
  },
  {
   "cell_type": "code",
   "execution_count": null,
   "metadata": {
    "collapsed": true
   },
   "outputs": [],
   "source": [
    "readsname = re.sub(r\"\\.fa.*\", \"\", os.path.basename(reads1)).split(\".\")[0]\n",
    "readsname = os.path.basename(reads1).split(\".\")[0]"
   ]
  },
  {
   "cell_type": "code",
   "execution_count": null,
   "metadata": {
    "collapsed": true
   },
   "outputs": [],
   "source": [
    "out_table = os.path.join(outdir, readsname+\"_recruit_info.txt\")"
   ]
  },
  {
   "cell_type": "code",
   "execution_count": null,
   "metadata": {
    "collapsed": true
   },
   "outputs": [],
   "source": [
    "reflist = glob.glob(os.path.join(refdir+\"*.fasta\"))"
   ]
  },
  {
   "cell_type": "code",
   "execution_count": 80,
   "metadata": {
    "collapsed": true
   },
   "outputs": [],
   "source": [
    "#defaults\n",
    "reads2=None\n",
    "aln_id=0.95\n",
    "threads=20\n",
    "mem='20g'\n",
    "outdir=\"\""
   ]
  },
  {
   "cell_type": "code",
   "execution_count": null,
   "metadata": {
    "collapsed": true
   },
   "outputs": [],
   "source": [
    "sterr, cov_file = bb_cov(reflist[0], reads1, reads2=reads2, aln_id=aln_id, threads=threads, mem=mem, \n",
    "        statsfile=True, outdir=outdir, out_prefix=None)"
   ]
  },
  {
   "cell_type": "code",
   "execution_count": null,
   "metadata": {
    "collapsed": true
   },
   "outputs": [],
   "source": [
    "#deconstruct bb_cov\n"
   ]
  },
  {
   "cell_type": "markdown",
   "metadata": {},
   "source": [
    "```\n",
    "python mp_recruit.py jrmr --fq2 /mnt/stepanauskas_nfs/mpachiadaki/From_Ramunas/Vents_Sievert_150902/Metagenomes/QC_reads/LVP-2_trimmed_R2.fastq.gz \\\n",
    "--outdir ./test2 lvp2 /mnt/stepanauskas_nfs/mpachiadaki/From_Ramunas/Vents_Sievert_150902/Metagenomes/QC_reads/LVP-2_trimmed_R1.fastq.gz \\\n",
    "/mnt/stepanauskas_nfs/julia/Test_FragRecruitment/Masked_genomes/ \n",
    "```"
   ]
  },
  {
   "cell_type": "code",
   "execution_count": null,
   "metadata": {
    "collapsed": false
   },
   "outputs": [],
   "source": [
    "def read_size_filter(fastx, readsize, outfile):\n",
    "    with open(outfile, \"w\") as oh:\n",
    "        for n, s, q in readfx(fastx):\n",
    "            if len(s) > readsize:\n",
    "                records = \"@%s\\n%s\\n+\\n%s\\n@%s\\n%s\\n+\\n%s\"\n",
    "                print(\"@\"+n, s, q, sep=\"\\n\", file=oh)"
   ]
  },
  {
   "cell_type": "code",
   "execution_count": null,
   "metadata": {
    "collapsed": true
   },
   "outputs": [],
   "source": []
  }
 ],
 "metadata": {
  "kernelspec": {
   "display_name": "Python 2",
   "language": "python",
   "name": "python2"
  },
  "language_info": {
   "codemirror_mode": {
    "name": "ipython",
    "version": 2
   },
   "file_extension": ".py",
   "mimetype": "text/x-python",
   "name": "python",
   "nbconvert_exporter": "python",
   "pygments_lexer": "ipython2",
   "version": "2.7.11"
  }
 },
 "nbformat": 4,
 "nbformat_minor": 0
}
