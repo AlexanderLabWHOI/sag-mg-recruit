{
 "cells": [
  {
   "cell_type": "code",
   "execution_count": 1,
   "metadata": {
    "collapsed": true
   },
   "outputs": [],
   "source": [
    "from __future__ import print_function\n",
    "from __future__ import division\n",
    "\n",
    "import pandas as pd\n",
    "import glob\n",
    "import os.path as op"
   ]
  },
  {
   "cell_type": "code",
   "execution_count": 32,
   "metadata": {
    "collapsed": true
   },
   "outputs": [],
   "source": [
    "def get_recruit_info(gcov):\n",
    "    countfile = gcov.replace(\"genomecoverage\", \"aln_count\")\n",
    "    with open(countfile) as infile:\n",
    "        recruit_count = infile.read().split()[1].strip()\n",
    "    \n",
    "    \n",
    "    metagenome = op.basename(gcov).split(\"_vs_\")[0].split(\"_\")[0]\n",
    "    sag = op.basename(gcov).split(\"_vs_\")[1].split(\"_\")[0]\n",
    "    coverage = pd.read_csv(gcov, sep=\"\\t\", header=None)\n",
    "    mean_per_contig = coverage.groupby([0])[2].mean() #.to_dict()\n",
    "    sum_per_contig = coverage.groupby([0])[2].sum() #.to_dict()\n",
    "    contig_size = coverage.groupby([0])[1].max()+1\n",
    "    mean_sag_coverage = mean_per_contig.mean()\n",
    "    totalbp = contig_size.sum()\n",
    "    uncovered_bp = sum(coverage[2]==0)\n",
    "    pct_covered = (totalbp - uncovered_bp)/totalbp * 100\n",
    "    total_scaffold = len(sum_per_contig)\n",
    "    uncovered_contig = sum(sum_per_contig==0)\n",
    "    pct_scaffolds_covered = (total_scaffold - uncovered_contig)/total_scaffold *100\n",
    "    sag = op.basename(gcov).split(\"_vs_\")[1].strip(\".genomecoverage\")\n",
    "    cols = ['method','sag','metagenome','Percent_scaffolds_with_any_coverage', 'Percent_of_reference_bases_covered', 'Average_coverage', 'Reads_recruited']\n",
    "    data = ['bwa', sag, metagenome, \n",
    "           pct_scaffolds_covered,\n",
    "           pct_covered, \n",
    "           mean_sag_coverage,\n",
    "           recruit_count]\n",
    "    df = pd.DataFrame(data, index=cols).transpose()\n",
    "    return df\n",
    "#    df = pd.DataFrame(data, columns=cols)\n",
    "#    print(df)\n",
    "    #   return df\n",
    "    \n",
    "#    df3 = DataFrame(np.random.randn(10, 5),\n",
    "#...                 columns=['a', 'b', 'c', 'd', 'e'])"
   ]
  },
  {
   "cell_type": "code",
   "execution_count": 27,
   "metadata": {
    "collapsed": false
   },
   "outputs": [],
   "source": [
    "da = get_recruit_info(genomecov[0])"
   ]
  },
  {
   "cell_type": "code",
   "execution_count": 28,
   "metadata": {
    "collapsed": false
   },
   "outputs": [
    {
     "data": {
      "text/html": [
       "<div>\n",
       "<table border=\"1\" class=\"dataframe\">\n",
       "  <thead>\n",
       "    <tr style=\"text-align: right;\">\n",
       "      <th></th>\n",
       "      <th>sag</th>\n",
       "      <th>metagenome</th>\n",
       "      <th>Percent_scaffolds_with_any_coverage</th>\n",
       "      <th>Percent_of_reference_bases_covered</th>\n",
       "      <th>Average_coverage</th>\n",
       "      <th>Reads_recruited</th>\n",
       "    </tr>\n",
       "  </thead>\n",
       "  <tbody>\n",
       "    <tr>\n",
       "      <th>0</th>\n",
       "      <td>AAA255A6_96912_95</td>\n",
       "      <td>2079</td>\n",
       "      <td>100</td>\n",
       "      <td>100</td>\n",
       "      <td>231.839</td>\n",
       "      <td>1397727</td>\n",
       "    </tr>\n",
       "  </tbody>\n",
       "</table>\n",
       "</div>"
      ],
      "text/plain": [
       "                 sag metagenome Percent_scaffolds_with_any_coverage  \\\n",
       "0  AAA255A6_96912_95       2079                                 100   \n",
       "\n",
       "  Percent_of_reference_bases_covered Average_coverage Reads_recruited  \n",
       "0                                100          231.839         1397727  "
      ]
     },
     "execution_count": 28,
     "metadata": {},
     "output_type": "execute_result"
    }
   ],
   "source": [
    "da"
   ]
  },
  {
   "cell_type": "code",
   "execution_count": 11,
   "metadata": {
    "collapsed": false
   },
   "outputs": [
    {
     "data": {
      "text/html": [
       "<div>\n",
       "<table border=\"1\" class=\"dataframe\">\n",
       "  <thead>\n",
       "    <tr style=\"text-align: right;\">\n",
       "      <th></th>\n",
       "      <th>sag</th>\n",
       "      <th>metagenome</th>\n",
       "      <th>Percent_scaffolds_with_any_coverage</th>\n",
       "      <th>Percent_of_reference_bases_covered</th>\n",
       "      <th>Average_coverage</th>\n",
       "    </tr>\n",
       "  </thead>\n",
       "  <tbody>\n",
       "    <tr>\n",
       "      <th>0</th>\n",
       "      <td>AAA255A6_96912_95</td>\n",
       "      <td>2079</td>\n",
       "      <td>100</td>\n",
       "      <td>100</td>\n",
       "      <td>231.839</td>\n",
       "    </tr>\n",
       "  </tbody>\n",
       "</table>\n",
       "</div>"
      ],
      "text/plain": [
       "                 sag metagenome Percent_scaffolds_with_any_coverage  \\\n",
       "0  AAA255A6_96912_95       2079                                 100   \n",
       "\n",
       "  Percent_of_reference_bases_covered Average_coverage  \n",
       "0                                100          231.839  "
      ]
     },
     "execution_count": 11,
     "metadata": {},
     "output_type": "execute_result"
    }
   ],
   "source": [
    "da.transpose()"
   ]
  },
  {
   "cell_type": "code",
   "execution_count": 17,
   "metadata": {
    "collapsed": false
   },
   "outputs": [
    {
     "data": {
      "text/html": [
       "<div>\n",
       "<table border=\"1\" class=\"dataframe\">\n",
       "  <thead>\n",
       "    <tr style=\"text-align: right;\">\n",
       "      <th></th>\n",
       "      <th>sag</th>\n",
       "      <th>metagenome</th>\n",
       "      <th>Percent_scaffolds_with_any_coverage</th>\n",
       "      <th>Percent_of_reference_bases_covered</th>\n",
       "      <th>Average_coverage</th>\n",
       "      <th>Reads_recruited</th>\n",
       "    </tr>\n",
       "  </thead>\n",
       "  <tbody>\n",
       "  </tbody>\n",
       "</table>\n",
       "</div>"
      ],
      "text/plain": [
       "Empty DataFrame\n",
       "Columns: [sag, metagenome, Percent_scaffolds_with_any_coverage, Percent_of_reference_bases_covered, Average_coverage, Reads_recruited]\n",
       "Index: []"
      ]
     },
     "execution_count": 17,
     "metadata": {},
     "output_type": "execute_result"
    }
   ],
   "source": [
    "cols = ['sag','metagenome','Percent_scaffolds_with_any_coverage', 'Percent_of_reference_bases_covered', 'Average_coverage', 'Reads_recruited']\n",
    "big = pd.DataFrame(columns=cols)\n",
    "big"
   ]
  },
  {
   "cell_type": "code",
   "execution_count": 22,
   "metadata": {
    "collapsed": false
   },
   "outputs": [
    {
     "data": {
      "text/plain": [
       "['../data/i454comp/2079_6_1746_gt150_fastq_extendedFrags_gt150_fastq_vs_AAA255A6_96912_95.genomecoverage',\n",
       " '../data/i454comp/2079_6_1746_gt150_fastq_extendedFrags_gt150_fastq_vs_AAA255B16_97682_95.genomecoverage',\n",
       " '../data/i454comp/2079_6_1746_gt150_fastq_extendedFrags_gt150_fastq_vs_AAA255C20_98068_95.genomecoverage',\n",
       " '../data/i454comp/GZFH_454_gt150_fastq_vs_AAA255A6_96912_95.genomecoverage',\n",
       " '../data/i454comp/GZFH_454_gt150_fastq_vs_AAA255B16_97682_95.genomecoverage',\n",
       " '../data/i454comp/GZFH_454_gt150_fastq_vs_AAA255C20_98068_95.genomecoverage']"
      ]
     },
     "execution_count": 22,
     "metadata": {},
     "output_type": "execute_result"
    }
   ],
   "source": [
    "genomecov = glob.glob(\"../data/i454comp/*.genomecoverage\")\n",
    "\n",
    "cols = ['sag','metagenome','Percent_scaffolds_with_any_coverage', 'Percent_of_reference_bases_covered', 'Average_coverage', 'Reads_recruited']\n",
    "big = pd.DataFrame(columns=cols)\n",
    "for g in genomecov:\n",
    "    new=get_recruit_info(g)\n",
    "    big = pd.concat([big, new])"
   ]
  },
  {
   "cell_type": "code",
   "execution_count": 34,
   "metadata": {
    "collapsed": false
   },
   "outputs": [
    {
     "data": {
      "text/html": [
       "<div>\n",
       "<table border=\"1\" class=\"dataframe\">\n",
       "  <thead>\n",
       "    <tr style=\"text-align: right;\">\n",
       "      <th></th>\n",
       "      <th>Average_coverage</th>\n",
       "      <th>Percent_of_reference_bases_covered</th>\n",
       "      <th>Percent_scaffolds_with_any_coverage</th>\n",
       "      <th>Reads_recruited</th>\n",
       "      <th>metagenome</th>\n",
       "      <th>method</th>\n",
       "      <th>sag</th>\n",
       "    </tr>\n",
       "  </thead>\n",
       "  <tbody>\n",
       "    <tr>\n",
       "      <th>0</th>\n",
       "      <td>231.839</td>\n",
       "      <td>100</td>\n",
       "      <td>100</td>\n",
       "      <td>1397727</td>\n",
       "      <td>2079</td>\n",
       "      <td>bwa</td>\n",
       "      <td>AAA255A6_96912_95</td>\n",
       "    </tr>\n",
       "    <tr>\n",
       "      <th>0</th>\n",
       "      <td>579.587</td>\n",
       "      <td>100</td>\n",
       "      <td>100</td>\n",
       "      <td>2750421</td>\n",
       "      <td>2079</td>\n",
       "      <td>bwa</td>\n",
       "      <td>AAA255B16_97682_95</td>\n",
       "    </tr>\n",
       "    <tr>\n",
       "      <th>0</th>\n",
       "      <td>557.519</td>\n",
       "      <td>100</td>\n",
       "      <td>100</td>\n",
       "      <td>3402474</td>\n",
       "      <td>2079</td>\n",
       "      <td>bwa</td>\n",
       "      <td>AAA255C20_98068_95</td>\n",
       "    </tr>\n",
       "    <tr>\n",
       "      <th>0</th>\n",
       "      <td>2.65439</td>\n",
       "      <td>100</td>\n",
       "      <td>100</td>\n",
       "      <td>9492</td>\n",
       "      <td>GZFH</td>\n",
       "      <td>bwa</td>\n",
       "      <td>AAA255A6_96912_95</td>\n",
       "    </tr>\n",
       "    <tr>\n",
       "      <th>0</th>\n",
       "      <td>5.61372</td>\n",
       "      <td>100</td>\n",
       "      <td>100</td>\n",
       "      <td>17906</td>\n",
       "      <td>GZFH</td>\n",
       "      <td>bwa</td>\n",
       "      <td>AAA255B16_97682_95</td>\n",
       "    </tr>\n",
       "    <tr>\n",
       "      <th>0</th>\n",
       "      <td>5.41611</td>\n",
       "      <td>100</td>\n",
       "      <td>100</td>\n",
       "      <td>22245</td>\n",
       "      <td>GZFH</td>\n",
       "      <td>bwa</td>\n",
       "      <td>AAA255C20_98068_95</td>\n",
       "    </tr>\n",
       "  </tbody>\n",
       "</table>\n",
       "</div>"
      ],
      "text/plain": [
       "  Average_coverage Percent_of_reference_bases_covered  \\\n",
       "0          231.839                                100   \n",
       "0          579.587                                100   \n",
       "0          557.519                                100   \n",
       "0          2.65439                                100   \n",
       "0          5.61372                                100   \n",
       "0          5.41611                                100   \n",
       "\n",
       "  Percent_scaffolds_with_any_coverage Reads_recruited metagenome method  \\\n",
       "0                                 100         1397727       2079    bwa   \n",
       "0                                 100         2750421       2079    bwa   \n",
       "0                                 100         3402474       2079    bwa   \n",
       "0                                 100            9492       GZFH    bwa   \n",
       "0                                 100           17906       GZFH    bwa   \n",
       "0                                 100           22245       GZFH    bwa   \n",
       "\n",
       "                  sag  \n",
       "0   AAA255A6_96912_95  \n",
       "0  AAA255B16_97682_95  \n",
       "0  AAA255C20_98068_95  \n",
       "0   AAA255A6_96912_95  \n",
       "0  AAA255B16_97682_95  \n",
       "0  AAA255C20_98068_95  "
      ]
     },
     "execution_count": 34,
     "metadata": {},
     "output_type": "execute_result"
    }
   ],
   "source": [
    "big"
   ]
  },
  {
   "cell_type": "code",
   "execution_count": null,
   "metadata": {
    "collapsed": true
   },
   "outputs": [],
   "source": []
  },
  {
   "cell_type": "markdown",
   "metadata": {},
   "source": [
    "### Testing the latest version of the above function, which is returning funky results for percent_of_reference_bases_covered currently"
   ]
  },
  {
   "cell_type": "code",
   "execution_count": 2,
   "metadata": {
    "collapsed": true
   },
   "outputs": [],
   "source": [
    "def get_recruit_info(gcov):\n",
    "    '''calculate information on recruited reads based on bedtools genomecoverage table\n",
    "\n",
    "    Args:\n",
    "        gcov (str): path to genome coverage file with recruitment pipeline naming convention of:\n",
    "            metagenome_vs_sag.genomecoverage\n",
    "            metagenome_vs_sag.aln_count file must also exists within the same directory\n",
    "\n",
    "    Returns:\n",
    "        pandas dataframe of genome coverage statistics\n",
    "    '''\n",
    "    countfile = gcov.replace(\"genomecoverage\", \"aln_count\")\n",
    "    with open(countfile) as infile:\n",
    "        recruit_count = infile.read().split()[1].strip()\n",
    "\n",
    "    metagenome = op.basename(gcov).split(\"_vs_\")[0]\n",
    "    sag = op.basename(gcov).split(\"_vs_\")[1].split(\".\")[0]\n",
    "    try:\n",
    "        coverage = pd.read_csv(gcov, sep=\"\\t\", header=None)\n",
    "        mean_per_contig = coverage.groupby([0])[2].mean()\n",
    "        sum_per_contig = coverage.groupby([0])[2].sum()\n",
    "        contig_size = coverage.groupby([0])[1].max() + 1\n",
    "        mean_sag_coverage = mean_per_contig.mean()\n",
    "        totalbp = contig_size.sum()\n",
    "        # the sum of an evaluation?\n",
    "        uncovered_bp = sum(coverage[2] == 0)\n",
    "        pct_covered = ((totalbp - uncovered_bp) / totalbp) * 100\n",
    "        total_scaffold = len(sum_per_contig)\n",
    "        # the sum of an evaluation?\n",
    "        uncovered_contig = sum(sum_per_contig == 0)\n",
    "        pct_scaffolds_covered = ((total_scaffold - uncovered_contig) / total_scaffold) * 100\n",
    "    # what are we excepting?\n",
    "    except:\n",
    "        mean_per_contig = 0\n",
    "        sum_per_contig = 0\n",
    "        contig_size = 0\n",
    "        mean_sag_coverage = 0\n",
    "        totalbp = 0\n",
    "        uncovered_bp = 0\n",
    "        pct_covered = 0\n",
    "        total_scaffold = 0\n",
    "        uncovered_contig = \"NA\"\n",
    "        pct_scaffolds_covered = \"NA\" if uncovered_contig == 'NA' else (total_scaffold - uncovered_contig)/total_scaffold *100\n",
    "\n",
    "    cols = ['sag',\n",
    "            'metagenome',\n",
    "            'Percent_scaffolds_with_any_coverage',\n",
    "            'Percent_of_reference_bases_covered',\n",
    "            'Average_coverage',\n",
    "            'total_reads_recruited']\n",
    "    data = [sag,\n",
    "           metagenome,\n",
    "           pct_scaffolds_covered,\n",
    "           pct_covered,\n",
    "           mean_sag_coverage,\n",
    "           recruit_count]\n",
    "    df = pd.DataFrame(data, index=cols).transpose()\n",
    "    return df"
   ]
  },
  {
   "cell_type": "code",
   "execution_count": 3,
   "metadata": {
    "collapsed": false
   },
   "outputs": [
    {
     "data": {
      "text/plain": [
       "['../data/i454comp/2079_6_1746_gt150_fastq_extendedFrags_gt150_fastq_vs_AAA255A6_96912_95.genomecoverage',\n",
       " '../data/i454comp/2079_6_1746_gt150_fastq_extendedFrags_gt150_fastq_vs_AAA255B16_97682_95.genomecoverage',\n",
       " '../data/i454comp/2079_6_1746_gt150_fastq_extendedFrags_gt150_fastq_vs_AAA255C20_98068_95.genomecoverage',\n",
       " '../data/i454comp/GZFH_454_gt150_fastq_vs_AAA255A6_96912_95.genomecoverage',\n",
       " '../data/i454comp/GZFH_454_gt150_fastq_vs_AAA255B16_97682_95.genomecoverage',\n",
       " '../data/i454comp/GZFH_454_gt150_fastq_vs_AAA255C20_98068_95.genomecoverage']"
      ]
     },
     "execution_count": 3,
     "metadata": {},
     "output_type": "execute_result"
    }
   ],
   "source": [
    "genomecov = glob.glob(\"../data/i454comp/*.genomecoverage\")\n",
    "genomecov"
   ]
  },
  {
   "cell_type": "code",
   "execution_count": 4,
   "metadata": {
    "collapsed": true
   },
   "outputs": [],
   "source": [
    "testdf = get_recruit_info(genomecov[1])"
   ]
  },
  {
   "cell_type": "code",
   "execution_count": 5,
   "metadata": {
    "collapsed": false
   },
   "outputs": [
    {
     "data": {
      "text/html": [
       "<div>\n",
       "<table border=\"1\" class=\"dataframe\">\n",
       "  <thead>\n",
       "    <tr style=\"text-align: right;\">\n",
       "      <th></th>\n",
       "      <th>sag</th>\n",
       "      <th>metagenome</th>\n",
       "      <th>Percent_scaffolds_with_any_coverage</th>\n",
       "      <th>Percent_of_reference_bases_covered</th>\n",
       "      <th>Average_coverage</th>\n",
       "      <th>total_reads_recruited</th>\n",
       "    </tr>\n",
       "  </thead>\n",
       "  <tbody>\n",
       "    <tr>\n",
       "      <th>0</th>\n",
       "      <td>AAA255B16_97682_95</td>\n",
       "      <td>2079_6_1746_gt150_fastq_extendedFrags_gt150_fastq</td>\n",
       "      <td>100</td>\n",
       "      <td>100</td>\n",
       "      <td>579.587</td>\n",
       "      <td>2750421</td>\n",
       "    </tr>\n",
       "  </tbody>\n",
       "</table>\n",
       "</div>"
      ],
      "text/plain": [
       "                  sag                                         metagenome  \\\n",
       "0  AAA255B16_97682_95  2079_6_1746_gt150_fastq_extendedFrags_gt150_fastq   \n",
       "\n",
       "  Percent_scaffolds_with_any_coverage Percent_of_reference_bases_covered  \\\n",
       "0                                 100                                100   \n",
       "\n",
       "  Average_coverage total_reads_recruited  \n",
       "0          579.587               2750421  "
      ]
     },
     "execution_count": 5,
     "metadata": {},
     "output_type": "execute_result"
    }
   ],
   "source": [
    "testdf"
   ]
  },
  {
   "cell_type": "code",
   "execution_count": 15,
   "metadata": {
    "collapsed": false
   },
   "outputs": [
    {
     "data": {
      "text/plain": [
       "56"
      ]
     },
     "execution_count": 15,
     "metadata": {},
     "output_type": "execute_result"
    }
   ],
   "source": [
    "gcov = genomecov[1]\n",
    "coverage = pd.read_csv(gcov, sep=\"\\t\", header=None)\n",
    "uncovered_bp = sum(coverage[2] == 0)\n",
    "len(coverage[coverage[2] == 1])"
   ]
  },
  {
   "cell_type": "code",
   "execution_count": 14,
   "metadata": {
    "collapsed": false
   },
   "outputs": [
    {
     "data": {
      "text/plain": [
       "81356"
      ]
     },
     "execution_count": 14,
     "metadata": {},
     "output_type": "execute_result"
    }
   ],
   "source": [
    "gcov = genomecov[-1]\n",
    "coverage = pd.read_csv(gcov, sep=\"\\t\", header=None)\n",
    "uncovered_bp = sum(coverage[2] == 0)\n",
    "len(coverage[coverage[2] == 1])"
   ]
  },
  {
   "cell_type": "code",
   "execution_count": 13,
   "metadata": {
    "collapsed": true
   },
   "outputs": [],
   "source": [
    "!open ../data/i454comp/*.genomecoverage -a textedit"
   ]
  },
  {
   "cell_type": "code",
   "execution_count": 20,
   "metadata": {
    "collapsed": false
   },
   "outputs": [],
   "source": [
    "sum_per_contig = coverage.groupby([0])[2].sum()\n",
    "sum_per_contig\n",
    "\n",
    "uncovered_contig = len(sum_per_contig[sum_per_contig == 0])"
   ]
  },
  {
   "cell_type": "code",
   "execution_count": 21,
   "metadata": {
    "collapsed": false
   },
   "outputs": [
    {
     "data": {
      "text/plain": [
       "0"
      ]
     },
     "execution_count": 21,
     "metadata": {},
     "output_type": "execute_result"
    }
   ],
   "source": [
    "uncovered_contig"
   ]
  },
  {
   "cell_type": "code",
   "execution_count": 23,
   "metadata": {
    "collapsed": false
   },
   "outputs": [
    {
     "data": {
      "text/plain": [
       "Series([], Name: 2, dtype: int64)"
      ]
     },
     "execution_count": 23,
     "metadata": {},
     "output_type": "execute_result"
    }
   ],
   "source": [
    "sum_per_contig[sum_per_contig == 5]"
   ]
  },
  {
   "cell_type": "code",
   "execution_count": null,
   "metadata": {
    "collapsed": true
   },
   "outputs": [],
   "source": []
  }
 ],
 "metadata": {
  "kernelspec": {
   "display_name": "Python 2",
   "language": "python",
   "name": "python2"
  },
  "language_info": {
   "codemirror_mode": {
    "name": "ipython",
    "version": 2
   },
   "file_extension": ".py",
   "mimetype": "text/x-python",
   "name": "python",
   "nbconvert_exporter": "python",
   "pygments_lexer": "ipython2",
   "version": "2.7.12"
  }
 },
 "nbformat": 4,
 "nbformat_minor": 0
}
