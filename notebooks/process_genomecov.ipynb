{
 "cells": [
  {
   "cell_type": "code",
   "execution_count": null,
   "metadata": {
    "collapsed": true
   },
   "outputs": [],
   "source": []
  },
  {
   "cell_type": "code",
   "execution_count": 1,
   "metadata": {
    "collapsed": true
   },
   "outputs": [],
   "source": [
    "from __future__ import print_function\n",
    "from __future__ import division\n",
    "\n",
    "import pandas as pd\n",
    "import glob\n",
    "import os.path as op"
   ]
  },
  {
   "cell_type": "code",
   "execution_count": 32,
   "metadata": {
    "collapsed": true
   },
   "outputs": [],
   "source": [
    "def get_recruit_info(gcov):\n",
    "    countfile = gcov.replace(\"genomecoverage\", \"aln_count\")\n",
    "    with open(countfile) as infile:\n",
    "        recruit_count = infile.read().split()[1].strip()\n",
    "    \n",
    "    \n",
    "    metagenome = op.basename(gcov).split(\"_vs_\")[0].split(\"_\")[0]\n",
    "    sag = op.basename(gcov).split(\"_vs_\")[1].split(\"_\")[0]\n",
    "    coverage = pd.read_csv(gcov, sep=\"\\t\", header=None)\n",
    "    mean_per_contig = coverage.groupby([0])[2].mean() #.to_dict()\n",
    "    sum_per_contig = coverage.groupby([0])[2].sum() #.to_dict()\n",
    "    contig_size = coverage.groupby([0])[1].max()+1\n",
    "    mean_sag_coverage = mean_per_contig.mean()\n",
    "    totalbp = contig_size.sum()\n",
    "    uncovered_bp = sum(coverage[2]==0)\n",
    "    pct_covered = (totalbp - uncovered_bp)/totalbp * 100\n",
    "    total_scaffold = len(sum_per_contig)\n",
    "    uncovered_contig = sum(sum_per_contig==0)\n",
    "    pct_scaffolds_covered = (total_scaffold - uncovered_contig)/total_scaffold *100\n",
    "    sag = op.basename(gcov).split(\"_vs_\")[1].strip(\".genomecoverage\")\n",
    "    cols = ['method','sag','metagenome','Percent_scaffolds_with_any_coverage', 'Percent_of_reference_bases_covered', 'Average_coverage', 'Reads_recruited']\n",
    "    data = ['bwa', sag, metagenome, \n",
    "           pct_scaffolds_covered,\n",
    "           pct_covered, \n",
    "           mean_sag_coverage,\n",
    "           recruit_count]\n",
    "    df = pd.DataFrame(data, index=cols).transpose()\n",
    "    return df\n",
    "#    df = pd.DataFrame(data, columns=cols)\n",
    "#    print(df)\n",
    "    #   return df\n",
    "    \n",
    "#    df3 = DataFrame(np.random.randn(10, 5),\n",
    "#...                 columns=['a', 'b', 'c', 'd', 'e'])"
   ]
  },
  {
   "cell_type": "code",
   "execution_count": 27,
   "metadata": {
    "collapsed": false
   },
   "outputs": [],
   "source": [
    "da = get_recruit_info(genomecov[0])"
   ]
  },
  {
   "cell_type": "code",
   "execution_count": 28,
   "metadata": {
    "collapsed": false
   },
   "outputs": [
    {
     "data": {
      "text/html": [
       "<div>\n",
       "<table border=\"1\" class=\"dataframe\">\n",
       "  <thead>\n",
       "    <tr style=\"text-align: right;\">\n",
       "      <th></th>\n",
       "      <th>sag</th>\n",
       "      <th>metagenome</th>\n",
       "      <th>Percent_scaffolds_with_any_coverage</th>\n",
       "      <th>Percent_of_reference_bases_covered</th>\n",
       "      <th>Average_coverage</th>\n",
       "      <th>Reads_recruited</th>\n",
       "    </tr>\n",
       "  </thead>\n",
       "  <tbody>\n",
       "    <tr>\n",
       "      <th>0</th>\n",
       "      <td>AAA255A6_96912_95</td>\n",
       "      <td>2079</td>\n",
       "      <td>100</td>\n",
       "      <td>100</td>\n",
       "      <td>231.839</td>\n",
       "      <td>1397727</td>\n",
       "    </tr>\n",
       "  </tbody>\n",
       "</table>\n",
       "</div>"
      ],
      "text/plain": [
       "                 sag metagenome Percent_scaffolds_with_any_coverage  \\\n",
       "0  AAA255A6_96912_95       2079                                 100   \n",
       "\n",
       "  Percent_of_reference_bases_covered Average_coverage Reads_recruited  \n",
       "0                                100          231.839         1397727  "
      ]
     },
     "execution_count": 28,
     "metadata": {},
     "output_type": "execute_result"
    }
   ],
   "source": [
    "da"
   ]
  },
  {
   "cell_type": "code",
   "execution_count": 11,
   "metadata": {
    "collapsed": false
   },
   "outputs": [
    {
     "data": {
      "text/html": [
       "<div>\n",
       "<table border=\"1\" class=\"dataframe\">\n",
       "  <thead>\n",
       "    <tr style=\"text-align: right;\">\n",
       "      <th></th>\n",
       "      <th>sag</th>\n",
       "      <th>metagenome</th>\n",
       "      <th>Percent_scaffolds_with_any_coverage</th>\n",
       "      <th>Percent_of_reference_bases_covered</th>\n",
       "      <th>Average_coverage</th>\n",
       "    </tr>\n",
       "  </thead>\n",
       "  <tbody>\n",
       "    <tr>\n",
       "      <th>0</th>\n",
       "      <td>AAA255A6_96912_95</td>\n",
       "      <td>2079</td>\n",
       "      <td>100</td>\n",
       "      <td>100</td>\n",
       "      <td>231.839</td>\n",
       "    </tr>\n",
       "  </tbody>\n",
       "</table>\n",
       "</div>"
      ],
      "text/plain": [
       "                 sag metagenome Percent_scaffolds_with_any_coverage  \\\n",
       "0  AAA255A6_96912_95       2079                                 100   \n",
       "\n",
       "  Percent_of_reference_bases_covered Average_coverage  \n",
       "0                                100          231.839  "
      ]
     },
     "execution_count": 11,
     "metadata": {},
     "output_type": "execute_result"
    }
   ],
   "source": [
    "da.transpose()"
   ]
  },
  {
   "cell_type": "code",
   "execution_count": 17,
   "metadata": {
    "collapsed": false
   },
   "outputs": [
    {
     "data": {
      "text/html": [
       "<div>\n",
       "<table border=\"1\" class=\"dataframe\">\n",
       "  <thead>\n",
       "    <tr style=\"text-align: right;\">\n",
       "      <th></th>\n",
       "      <th>sag</th>\n",
       "      <th>metagenome</th>\n",
       "      <th>Percent_scaffolds_with_any_coverage</th>\n",
       "      <th>Percent_of_reference_bases_covered</th>\n",
       "      <th>Average_coverage</th>\n",
       "      <th>Reads_recruited</th>\n",
       "    </tr>\n",
       "  </thead>\n",
       "  <tbody>\n",
       "  </tbody>\n",
       "</table>\n",
       "</div>"
      ],
      "text/plain": [
       "Empty DataFrame\n",
       "Columns: [sag, metagenome, Percent_scaffolds_with_any_coverage, Percent_of_reference_bases_covered, Average_coverage, Reads_recruited]\n",
       "Index: []"
      ]
     },
     "execution_count": 17,
     "metadata": {},
     "output_type": "execute_result"
    }
   ],
   "source": [
    "cols = ['sag','metagenome','Percent_scaffolds_with_any_coverage', 'Percent_of_reference_bases_covered', 'Average_coverage', 'Reads_recruited']\n",
    "big = pd.DataFrame(columns=cols)\n",
    "big"
   ]
  },
  {
   "cell_type": "code",
   "execution_count": 22,
   "metadata": {
    "collapsed": false
   },
   "outputs": [
    {
     "data": {
      "text/plain": [
       "['../data/i454comp/2079_6_1746_gt150_fastq_extendedFrags_gt150_fastq_vs_AAA255A6_96912_95.genomecoverage',\n",
       " '../data/i454comp/2079_6_1746_gt150_fastq_extendedFrags_gt150_fastq_vs_AAA255B16_97682_95.genomecoverage',\n",
       " '../data/i454comp/2079_6_1746_gt150_fastq_extendedFrags_gt150_fastq_vs_AAA255C20_98068_95.genomecoverage',\n",
       " '../data/i454comp/GZFH_454_gt150_fastq_vs_AAA255A6_96912_95.genomecoverage',\n",
       " '../data/i454comp/GZFH_454_gt150_fastq_vs_AAA255B16_97682_95.genomecoverage',\n",
       " '../data/i454comp/GZFH_454_gt150_fastq_vs_AAA255C20_98068_95.genomecoverage']"
      ]
     },
     "execution_count": 22,
     "metadata": {},
     "output_type": "execute_result"
    }
   ],
   "source": [
    "genomecov = glob.glob(\"../data/i454comp/*.genomecoverage\")\n",
    "\n",
    "cols = ['sag','metagenome','Percent_scaffolds_with_any_coverage', 'Percent_of_reference_bases_covered', 'Average_coverage', 'Reads_recruited']\n",
    "big = pd.DataFrame(columns=cols)\n",
    "for g in genomecov:\n",
    "    new=get_recruit_info(g)\n",
    "    big = pd.concat([big, new])"
   ]
  },
  {
   "cell_type": "code",
   "execution_count": 34,
   "metadata": {
    "collapsed": false
   },
   "outputs": [
    {
     "data": {
      "text/html": [
       "<div>\n",
       "<table border=\"1\" class=\"dataframe\">\n",
       "  <thead>\n",
       "    <tr style=\"text-align: right;\">\n",
       "      <th></th>\n",
       "      <th>Average_coverage</th>\n",
       "      <th>Percent_of_reference_bases_covered</th>\n",
       "      <th>Percent_scaffolds_with_any_coverage</th>\n",
       "      <th>Reads_recruited</th>\n",
       "      <th>metagenome</th>\n",
       "      <th>method</th>\n",
       "      <th>sag</th>\n",
       "    </tr>\n",
       "  </thead>\n",
       "  <tbody>\n",
       "    <tr>\n",
       "      <th>0</th>\n",
       "      <td>231.839</td>\n",
       "      <td>100</td>\n",
       "      <td>100</td>\n",
       "      <td>1397727</td>\n",
       "      <td>2079</td>\n",
       "      <td>bwa</td>\n",
       "      <td>AAA255A6_96912_95</td>\n",
       "    </tr>\n",
       "    <tr>\n",
       "      <th>0</th>\n",
       "      <td>579.587</td>\n",
       "      <td>100</td>\n",
       "      <td>100</td>\n",
       "      <td>2750421</td>\n",
       "      <td>2079</td>\n",
       "      <td>bwa</td>\n",
       "      <td>AAA255B16_97682_95</td>\n",
       "    </tr>\n",
       "    <tr>\n",
       "      <th>0</th>\n",
       "      <td>557.519</td>\n",
       "      <td>100</td>\n",
       "      <td>100</td>\n",
       "      <td>3402474</td>\n",
       "      <td>2079</td>\n",
       "      <td>bwa</td>\n",
       "      <td>AAA255C20_98068_95</td>\n",
       "    </tr>\n",
       "    <tr>\n",
       "      <th>0</th>\n",
       "      <td>2.65439</td>\n",
       "      <td>100</td>\n",
       "      <td>100</td>\n",
       "      <td>9492</td>\n",
       "      <td>GZFH</td>\n",
       "      <td>bwa</td>\n",
       "      <td>AAA255A6_96912_95</td>\n",
       "    </tr>\n",
       "    <tr>\n",
       "      <th>0</th>\n",
       "      <td>5.61372</td>\n",
       "      <td>100</td>\n",
       "      <td>100</td>\n",
       "      <td>17906</td>\n",
       "      <td>GZFH</td>\n",
       "      <td>bwa</td>\n",
       "      <td>AAA255B16_97682_95</td>\n",
       "    </tr>\n",
       "    <tr>\n",
       "      <th>0</th>\n",
       "      <td>5.41611</td>\n",
       "      <td>100</td>\n",
       "      <td>100</td>\n",
       "      <td>22245</td>\n",
       "      <td>GZFH</td>\n",
       "      <td>bwa</td>\n",
       "      <td>AAA255C20_98068_95</td>\n",
       "    </tr>\n",
       "  </tbody>\n",
       "</table>\n",
       "</div>"
      ],
      "text/plain": [
       "  Average_coverage Percent_of_reference_bases_covered  \\\n",
       "0          231.839                                100   \n",
       "0          579.587                                100   \n",
       "0          557.519                                100   \n",
       "0          2.65439                                100   \n",
       "0          5.61372                                100   \n",
       "0          5.41611                                100   \n",
       "\n",
       "  Percent_scaffolds_with_any_coverage Reads_recruited metagenome method  \\\n",
       "0                                 100         1397727       2079    bwa   \n",
       "0                                 100         2750421       2079    bwa   \n",
       "0                                 100         3402474       2079    bwa   \n",
       "0                                 100            9492       GZFH    bwa   \n",
       "0                                 100           17906       GZFH    bwa   \n",
       "0                                 100           22245       GZFH    bwa   \n",
       "\n",
       "                  sag  \n",
       "0   AAA255A6_96912_95  \n",
       "0  AAA255B16_97682_95  \n",
       "0  AAA255C20_98068_95  \n",
       "0   AAA255A6_96912_95  \n",
       "0  AAA255B16_97682_95  \n",
       "0  AAA255C20_98068_95  "
      ]
     },
     "execution_count": 34,
     "metadata": {},
     "output_type": "execute_result"
    }
   ],
   "source": [
    "big"
   ]
  },
  {
   "cell_type": "code",
   "execution_count": null,
   "metadata": {
    "collapsed": true
   },
   "outputs": [],
   "source": []
  }
 ],
 "metadata": {
  "kernelspec": {
   "display_name": "Python 2",
   "language": "python",
   "name": "python2"
  },
  "language_info": {
   "codemirror_mode": {
    "name": "ipython",
    "version": 2
   },
   "file_extension": ".py",
   "mimetype": "text/x-python",
   "name": "python",
   "nbconvert_exporter": "python",
   "pygments_lexer": "ipython2",
   "version": "2.7.11"
  }
 },
 "nbformat": 4,
 "nbformat_minor": 0
}
