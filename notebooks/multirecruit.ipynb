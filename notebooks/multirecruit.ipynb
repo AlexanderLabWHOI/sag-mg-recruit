{
 "cells": [
  {
   "cell_type": "markdown",
   "metadata": {},
   "source": [
    "Exploring multiprocessing to get things really going here."
   ]
  },
  {
   "cell_type": "code",
   "execution_count": 11,
   "metadata": {
    "collapsed": false
   },
   "outputs": [],
   "source": [
    "import multiprocessing\n",
    "import functools\n",
    "import time\n",
    "import parmap\n",
    "#time.sleep(5) # delays for 5 seconds"
   ]
  },
  {
   "cell_type": "code",
   "execution_count": 13,
   "metadata": {
    "collapsed": false
   },
   "outputs": [],
   "source": [
    "def f(obj, outdir):\n",
    "    i = obj[0]\n",
    "    j = obj[1]\n",
    "    out = \"{i}:{j}:{outdir}\".format(**locals())\n",
    "    print(out)\n",
    "    time.sleep(2)\n",
    "    return out"
   ]
  },
  {
   "cell_type": "code",
   "execution_count": 5,
   "metadata": {
    "collapsed": false
   },
   "outputs": [],
   "source": [
    "mglist = ['a', 'b', 'c', 'd']\n",
    "saglist = ['e', 'f', 'g', 'h']"
   ]
  },
  {
   "cell_type": "code",
   "execution_count": 51,
   "metadata": {
    "collapsed": false
   },
   "outputs": [
    {
     "name": "stdout",
     "output_type": "stream",
     "text": [
      "a:['e', 'f', 'g', 'h']\n",
      "d:['e', 'f', 'g', 'h']\n",
      "b:['e', 'f', 'g', 'h']\n",
      "c:['e', 'f', 'g', 'h']\n"
     ]
    },
    {
     "data": {
      "text/plain": [
       "[\"a:['e', 'f', 'g', 'h']\",\n",
       " \"b:['e', 'f', 'g', 'h']\",\n",
       " \"c:['e', 'f', 'g', 'h']\",\n",
       " \"d:['e', 'f', 'g', 'h']\"]"
      ]
     },
     "execution_count": 51,
     "metadata": {},
     "output_type": "execute_result"
    }
   ],
   "source": [
    "parmap.map(f, mglist, saglist)"
   ]
  },
  {
   "cell_type": "code",
   "execution_count": 6,
   "metadata": {
    "collapsed": false
   },
   "outputs": [
    {
     "data": {
      "text/plain": [
       "[('a', 'e'),\n",
       " ('a', 'f'),\n",
       " ('a', 'g'),\n",
       " ('a', 'h'),\n",
       " ('b', 'e'),\n",
       " ('b', 'f'),\n",
       " ('b', 'g'),\n",
       " ('b', 'h'),\n",
       " ('c', 'e'),\n",
       " ('c', 'f'),\n",
       " ('c', 'g'),\n",
       " ('c', 'h'),\n",
       " ('d', 'e'),\n",
       " ('d', 'f'),\n",
       " ('d', 'g'),\n",
       " ('d', 'h')]"
      ]
     },
     "execution_count": 6,
     "metadata": {},
     "output_type": "execute_result"
    }
   ],
   "source": [
    "pairs = []\n",
    "for m in mglist:\n",
    "    for s in saglist:\n",
    "        pairs.append((m, s))\n",
    "pairs"
   ]
  },
  {
   "cell_type": "code",
   "execution_count": 18,
   "metadata": {
    "collapsed": false
   },
   "outputs": [
    {
     "name": "stdout",
     "output_type": "stream",
     "text": [
      "['a**e', 'a**f', 'a**g', 'a**h', 'b**e', 'b**f', 'b**g', 'b**h', 'c**e', 'c**f', 'c**g', 'c**h', 'd**e', 'd**f', 'd**g', 'd**h']\n"
     ]
    }
   ],
   "source": [
    "cmds = []\n",
    "\n",
    "for m in mglist:\n",
    "    for s in saglist:\n",
    "        cmd = \"{m}**{s}\".format(**locals())\n",
    "        cmds.append(cmd)\n",
    "print(cmds)"
   ]
  },
  {
   "cell_type": "code",
   "execution_count": 9,
   "metadata": {
    "collapsed": false
   },
   "outputs": [],
   "source": [
    "p = multiprocessing.Pool(8)"
   ]
  },
  {
   "cell_type": "code",
   "execution_count": 2,
   "metadata": {
    "collapsed": false
   },
   "outputs": [],
   "source": [
    "def split_threads_by_runs(threads, runs):\n",
    "    p = multiprocessing.Pool(processes=threads)\n",
    "    cores = threads//runs\n",
    "    if cores == 0:\n",
    "        raise IOError(\"number of threads must be greater than or equal to the number of runs\")\n",
    "    return p, cores\n",
    "\n",
    "def bed_cov_it(fqref, outdir, pctid, cores, cleanup, pe):\n",
    "    '''This function takes a fastq file and a reference, entered in the first input as a tuple, \n",
    "    1. aligns them using bwa\n",
    "    2. filters them based on pctid alignment threshold\n",
    "    3. creates a counts file of how many reads passed the filter\n",
    "    4. creates a genome coverage table using bedtools\n",
    "    5. returns a tuple of the coverage file and the count file\n",
    "    Args:\n",
    "        fqref: tuple as (path to metagenome fastq, path to reference SAG)\n",
    "        outdir (str): output directory\n",
    "        pctid (int): percent identity of aligned reads to keep\n",
    "        cores (int): # threads to use \n",
    "        cleanup (boolean): if true, delete output bam and bai file after running\n",
    "        pe (boolean): if true, reads are paired \n",
    "    Output:\n",
    "        bedtools coverage file, alignment count file\n",
    "    '''\n",
    "    fastq = fqref[0]\n",
    "    reference = fqref[1]\n",
    "    fqpre = \"_\".join(op.basename(fastq).split(\".\")[:-1])\n",
    "    ref_pre = \"_\".join(op.basename(reference).split(\".\")[:-1])\n",
    "    outbam = op.join(os.path.abspath(outdir), fqpre+\"_vs_\"+ref_pre+\".bam\")\n",
    "    \n",
    "    if pe:\n",
    "        bam = bwa_mem(fastq, outbam, reference, options='-p', cores=cores)\n",
    "    else:\n",
    "        bam = bwa_mem(fastq, outbam, reference, options=None, cores=cores)             # run bwa mem \n",
    "    bam, goodcount = filter_bam(bam, bam.replace(\".bam\", \"_{pctid}.bam\".format(**locals())), pctid=pctid)   # filter aligned reads based on pctid\n",
    "    bed = get_coverage(bam)                         # create per base coverage table\n",
    "    print(\"coverage_table_created, called:\", bed)\n",
    "    if cleanup:\n",
    "        #idx_files = [reference + x for x in ['.amb', '.ann', '.bwt', '.pac', '.sa']]\n",
    "        #for f in idx_files+[bam, bam+\".bai\"]:\n",
    "        for f in [bam, bam+\".bai\"]:\n",
    "            os.remove(f)\n",
    "    return bed\n",
    "\n",
    "def run_bed_cov_mp(fqref_list, outdir, pctid, total_cores, cleanup, pe):\n",
    "    p, core_pr = split_threads_by_runs(total_cores, 3) # set up pool and number of cores per run\n",
    "    rbc = partial(bed_cov_it, outdir=outdir, pctid=pctid, \n",
    "                  core_pr=core_pr, cleanup=True)\n",
    "    for i in range(0, len(fqref_list), 3):\n",
    "        results += p.map(rbc, fqref[i:i+3])\n",
    "    p.close()\n",
    "    \n",
    "    return results"
   ]
  },
  {
   "cell_type": "markdown",
   "metadata": {},
   "source": [
    "### Dummy run on a similar and less complicated function..."
   ]
  },
  {
   "cell_type": "code",
   "execution_count": 34,
   "metadata": {
    "collapsed": true
   },
   "outputs": [],
   "source": [
    "def f(obj, outdir):\n",
    "    i = obj[0]\n",
    "    j = obj[1]\n",
    "    out = \"{i}:{j}:{outdir}\".format(**locals())\n",
    "    print(out)\n",
    "    time.sleep(3)\n",
    "    return out"
   ]
  },
  {
   "cell_type": "code",
   "execution_count": 35,
   "metadata": {
    "collapsed": true
   },
   "outputs": [],
   "source": [
    "def split_threads_by_runs(threads, runs):\n",
    "    p = multiprocessing.Pool(processes=threads)\n",
    "    cores = threads//runs\n",
    "    if cores == 0:\n",
    "        raise IOError(\"number of threads must be greater than or equal to the number of runs\")\n",
    "    return p, cores"
   ]
  },
  {
   "cell_type": "code",
   "execution_count": 40,
   "metadata": {
    "collapsed": true
   },
   "outputs": [],
   "source": [
    "def run_f_mp(objlist, outdir, total_cores):\n",
    "    reslist = []\n",
    "    p, core_pr = split_threads_by_runs(total_cores, 3)\n",
    "    funk = functools.partial(f, outdir=outdir)\n",
    "    for i in range(0, len(objlist), 3):\n",
    "        out = p.map(funk, objlist[i:i+3])\n",
    "        reslist += out\n",
    "    p.close()\n",
    "    p.join()\n",
    "    return reslist, out"
   ]
  },
  {
   "cell_type": "code",
   "execution_count": 41,
   "metadata": {
    "collapsed": false
   },
   "outputs": [
    {
     "name": "stdout",
     "output_type": "stream",
     "text": [
      "a:g:out!\n",
      "a:f:out!\n",
      "a:e:out!\n",
      "b:f:out!\n",
      "a:h:out!\n",
      "b:e:out!\n",
      "c:e:out!\n",
      "b:g:out!\n",
      "b:h:out!\n",
      "c:f:out!\n",
      "c:h:out!\n",
      "c:g:out!\n",
      "d:g:out!\n",
      "d:e:out!\n",
      "d:f:out!\n",
      "d:h:out!\n"
     ]
    }
   ],
   "source": [
    "yea, yah = run_f_mp(pairs, \"out!\", 8)"
   ]
  },
  {
   "cell_type": "code",
   "execution_count": 42,
   "metadata": {
    "collapsed": false
   },
   "outputs": [
    {
     "data": {
      "text/plain": [
       "['a:e:out!',\n",
       " 'a:f:out!',\n",
       " 'a:g:out!',\n",
       " 'a:h:out!',\n",
       " 'b:e:out!',\n",
       " 'b:f:out!',\n",
       " 'b:g:out!',\n",
       " 'b:h:out!',\n",
       " 'c:e:out!',\n",
       " 'c:f:out!',\n",
       " 'c:g:out!',\n",
       " 'c:h:out!',\n",
       " 'd:e:out!',\n",
       " 'd:f:out!',\n",
       " 'd:g:out!',\n",
       " 'd:h:out!']"
      ]
     },
     "execution_count": 42,
     "metadata": {},
     "output_type": "execute_result"
    }
   ],
   "source": [
    "yea"
   ]
  },
  {
   "cell_type": "code",
   "execution_count": 43,
   "metadata": {
    "collapsed": false
   },
   "outputs": [
    {
     "data": {
      "text/plain": [
       "['d:h:out!']"
      ]
     },
     "execution_count": 43,
     "metadata": {},
     "output_type": "execute_result"
    }
   ],
   "source": [
    "yah"
   ]
  },
  {
   "cell_type": "code",
   "execution_count": 1,
   "metadata": {
    "collapsed": false
   },
   "outputs": [
    {
     "name": "stdout",
     "output_type": "stream",
     "text": [
      "allsakinawsags.txt                            100% 2032     2.0KB/s   00:00    \n",
      "firstlist.txt                                 100%  305     0.3KB/s   00:00    \n",
      "mgs.txt                                       100%  181     0.2KB/s   00:00    \n",
      "thenthese.txt                                 100% 1673     1.6KB/s   00:00    \n"
     ]
    }
   ],
   "source": [
    "!scp charlie:/mnt/stepanauskas_nfs/julia/*.txt ../data"
   ]
  },
  {
   "cell_type": "code",
   "execution_count": 6,
   "metadata": {
    "collapsed": false
   },
   "outputs": [],
   "source": [
    "loi =  [i for i in open(\"../data/allsakinawsags.txt\").read().split(\"\\n\") if len(i)>0]\n"
   ]
  },
  {
   "cell_type": "code",
   "execution_count": 7,
   "metadata": {
    "collapsed": false
   },
   "outputs": [
    {
     "data": {
      "text/plain": [
       "['/mnt/stepanauskas_nfs/julia/Test_FragRecruitment/Sakinaw/Hallam_SAGs_AAA255/Masked_genomes_AAA255/AAA255A6_96912.fasta',\n",
       " '/mnt/stepanauskas_nfs/julia/Test_FragRecruitment/Sakinaw/Hallam_SAGs_AAA255/Masked_genomes_AAA255/AAA255B16_97682.fasta',\n",
       " '/mnt/stepanauskas_nfs/julia/Test_FragRecruitment/Sakinaw/Hallam_SAGs_AAA255/Masked_genomes_AAA255/AAA255C20_98068.fasta',\n",
       " '/mnt/stepanauskas_nfs/julia/Test_FragRecruitment/Sakinaw/Hallam_SAGs_AAA255/Masked_genomes_AAA255/AAA255E10_95567.fasta',\n",
       " '/mnt/stepanauskas_nfs/julia/Test_FragRecruitment/Sakinaw/Hallam_SAGs_AAA255/Masked_genomes_AAA255/AAA255E4_97381.fasta',\n",
       " '/mnt/stepanauskas_nfs/julia/Test_FragRecruitment/Sakinaw/Hallam_SAGs_AAA255/Masked_genomes_AAA255/AAA255E5_97489.fasta',\n",
       " '/mnt/stepanauskas_nfs/julia/Test_FragRecruitment/Sakinaw/Hallam_SAGs_AAA255/Masked_genomes_AAA255/AAA255F10_96652.fasta',\n",
       " '/mnt/stepanauskas_nfs/julia/Test_FragRecruitment/Sakinaw/Hallam_SAGs_AAA255/Masked_genomes_AAA255/AAA255F6_96485.fasta',\n",
       " '/mnt/stepanauskas_nfs/julia/Test_FragRecruitment/Sakinaw/Hallam_SAGs_AAA255/Masked_genomes_AAA255/AAA255F9_97162.fasta',\n",
       " '/mnt/stepanauskas_nfs/julia/Test_FragRecruitment/Sakinaw/Hallam_SAGs_AAA255/Masked_genomes_AAA255/AAA255G5_97045.fasta',\n",
       " '/mnt/stepanauskas_nfs/julia/Test_FragRecruitment/Sakinaw/Hallam_SAGs_AAA255/Masked_genomes_AAA255/AAA255J7_97950.fasta',\n",
       " '/mnt/stepanauskas_nfs/julia/Test_FragRecruitment/Sakinaw/Hallam_SAGs_AAA255/Masked_genomes_AAA255/AAA255K14_96775.fasta',\n",
       " '/mnt/stepanauskas_nfs/julia/Test_FragRecruitment/Sakinaw/Hallam_SAGs_AAA255/Masked_genomes_AAA255/AAA255L20_96156.fasta',\n",
       " '/mnt/stepanauskas_nfs/julia/Test_FragRecruitment/Sakinaw/Hallam_SAGs_AAA255/Masked_genomes_AAA255/AAA255L6_96326.fasta',\n",
       " '/mnt/stepanauskas_nfs/julia/Test_FragRecruitment/Sakinaw/Hallam_SAGs_AAA255/Masked_genomes_AAA255/AAA255N14_96009.fasta',\n",
       " '/mnt/stepanauskas_nfs/julia/Test_FragRecruitment/Sakinaw/Hallam_SAGs_AAA255/Masked_genomes_AAA255/AAA255O15_92285.fasta',\n",
       " '/mnt/stepanauskas_nfs/julia/Test_FragRecruitment/Sakinaw/Hallam_SAGs_AAA255/Masked_genomes_AAA255/AAA255P19_95752.fasta']"
      ]
     },
     "execution_count": 7,
     "metadata": {},
     "output_type": "execute_result"
    }
   ],
   "source": [
    "loi"
   ]
  },
  {
   "cell_type": "code",
   "execution_count": null,
   "metadata": {
    "collapsed": true
   },
   "outputs": [],
   "source": []
  }
 ],
 "metadata": {
  "kernelspec": {
   "display_name": "Python 3",
   "language": "python",
   "name": "python3"
  },
  "language_info": {
   "codemirror_mode": {
    "name": "ipython",
    "version": 3
   },
   "file_extension": ".py",
   "mimetype": "text/x-python",
   "name": "python",
   "nbconvert_exporter": "python",
   "pygments_lexer": "ipython3",
   "version": "3.5.1"
  }
 },
 "nbformat": 4,
 "nbformat_minor": 0
}
