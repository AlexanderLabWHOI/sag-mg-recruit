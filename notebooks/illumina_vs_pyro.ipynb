{
 "cells": [
  {
   "cell_type": "markdown",
   "metadata": {},
   "source": [
    "## Fragment recruitment using bwa and bbmap\n",
    "* editing rcov.py to output more than just labelled contigs\n",
    "* all this is run on charlie\n",
    "* bbmap run through mp_recruit.py script.\n",
    "\n",
    "```\n",
    "mg1=./Test_FragRecruitment/Sakinaw/Hallam_metagenomes/2079.6.1746.fastq.gz \n",
    "mg2=./Test_FragRecruitment/Sakinaw/Hallam_metagenomes/GZFH_454.fastq.gz\n",
    "gnms=./Test_FragRecruitment/Sakinaw/Hallam_SAGs_AAA255/Masked_genomes_AAA255/testfirst/\n",
    "outdir=./fragdev/20160525/\n",
    "```\n",
    "this run was still running at the end of the day in a screen session\n",
    "```\n",
    "python ~/scripts/mp_recruit.py jrmr --fq1 ../Test_FragRecruitment/Sakinaw/Hallam_metagenomes/2079.6.1746.fastq.gz \\\n",
    "--outdir 20160525 --refdir ../Test_FragRecruitment/Sakinaw/Hallam_SAGs_AAA255/Masked_genomes_AAA255/testfirst/ \\\n",
    "--join --len_filter 150 &> 0525_jrmr2.log\n",
    "```\n",
    "this run finished:\n",
    "```\n",
    "python ~/scripts/mp_recruit.py jrmr --fq1 ../Test_FragRecruitment/Sakinaw/Hallam_metagenomes/GZFH_454.fastq.gz \\\n",
    "--outdir 20160525 --refdir ../Test_FragRecruitment/Sakinaw/Hallam_SAGs_AAA255/Masked_genomes_AAA255/testfirst/ \\\n",
    "--len_filter 150 &> 0525_jrmr3.log\n",
    "```\n",
    "\n",
    "re-run with max len set, and fasta file input:\n",
    "\n",
    "```\n",
    "mg2lenfilt=/mnt/stepanauskas_nfs/julia/Test_FragRecruitment/Sakinaw/Hallam_metagenomes/GZFH_454_gt150.fastq.gz\n",
    "mg2fasta=/mnt/stepanauskas_nfs/julia/Test_FragRecruitment/Sakinaw/Hallam_metagenomes/GZFH_454TrimmedReads.fasta\n",
    "\n",
    "python ~/scripts/mp_recruit.py jrmr --fq1 $mg2fasta --outdir ./20160525 \\\n",
    "--refdir ../Test_FragRecruitment/Sakinaw/Hallam_SAGs_AAA255/Masked_genomes_AAA255/testfirst/ \\\n",
    "--max_len 600 &> 0525_jrmr4.log\n",
    "```\n",
    "\n",
    "re-run illumina mg with changes to script:\n",
    "```\n",
    "mg1joined=/mnt/stepanauskas_nfs/julia/fragdev/20160525/2079.6.1746_gt150.fastq.extendedFrags_gt150.fastq.gz\n",
    "outdir=/mnt/stepanauskas_nfs/julia/fragdev/20160525/\n",
    "refdir=/mnt/stepanauskas_nfs/julia/Test_FragRecruitment/Sakinaw/Hallam_SAGs_AAA255/Masked_genomes_AAA255/testfirst/\n",
    "\n",
    "python ~/scripts/mp_recruit.py jrmr --fq1 $mg1joined --outdir $outdir \\\n",
    "--refdir $refdir &> 0527_jrmr.log\n",
    "```\n",
    "\n",
    "more variables:\n",
    "```\n",
    "log=0525_rcov1.log\n",
    "outdir=./fragdev/20160525/\n",
    "mg2lenfilt=/mnt/stepanauskas_nfs/julia/Test_FragRecruitment/Sakinaw/Hallam_metagenomes/GZFH_454_gt150.fastq.gz\n",
    "```\n",
    "\n",
    "bwa alignment:\n",
    "\n",
    "```\n",
    "parallel --retries 1 --bar --load 70% --joblog $log --jobs 3 python ~/scripts/rcov2.py \\\n",
    "print_cov --fastq $mg2lenfilt --reference {1} --outdir $outdir :::: firstlist.txt\n",
    "```\n",
    "\n",
    "And then this for the illumina library bwa:\n",
    "\n",
    "```\n",
    "mg1curated=/mnt/stepanauskas_nfs/julia/fragdev/20160525/2079.6.1746_gt150.fastq.extendedFrags_gt150.fastq.gz\n",
    "log=0526_rcov2.log\n",
    "parallel --retries 1 --bar --load 70% --joblog $log --jobs 3 python ~/scripts/rcov2.py \\\n",
    "print_cov --fastq $mg1curated --reference {1} --outdir $outdir :::: firstlist.txt\n",
    "```\n",
    "\n",
    "And again with even newer changes:\n",
    "```\n",
    "\n",
    "mgs=fragdev/20160525/2079.6.1746_gt150.fastq.extendedFrags_gt150.fastq.gz Test_FragRecruitment/Sakinaw/Hallam_metagenomes/GZFH_454_gt150.fastq.gz\n",
    "log=0527_ncov.log\n",
    "outdir=fragdev/20160525\n",
    "\n",
    "parallel --retries 1 --bar --load 70% --joblog $log --jobs 3 python ~/scripts/rcov2.py \\\n",
    "print_cov --fastq {1} --reference {2} --outdir $outdir :::: mgs.txt :::: firstlist.txt\n",
    "```"
   ]
  },
  {
   "cell_type": "markdown",
   "metadata": {
    "collapsed": true
   },
   "source": [
    "Now that these are all done and the scripts have been hashed out (a bit), a look at prelminary results:"
   ]
  },
  {
   "cell_type": "code",
   "execution_count": 1,
   "metadata": {
    "collapsed": false
   },
   "outputs": [],
   "source": [
    "import pandas as pd\n",
    "import gzip\n",
    "import os.path as op\n",
    "from collections import defaultdict\n",
    "import matplotlib\n",
    "#matplotlib.use('Agg')\n",
    "import matplotlib.pyplot as plt\n",
    "%matplotlib inline\n",
    "\n",
    "from pysam import FastxFile\n",
    "\n",
    "def readfx(fastx):\n",
    "    fx = \"\"\n",
    "    try:\n",
    "        fx = FastxFile(fastx)\n",
    "        for f in fx:\n",
    "            yield f.name, f.sequence, f.quality\n",
    "    finally:\n",
    "        if fx:\n",
    "            fx.close()"
   ]
  },
  {
   "cell_type": "code",
   "execution_count": 2,
   "metadata": {
    "collapsed": true
   },
   "outputs": [],
   "source": [
    "gzopen = lambda x: gzip.open(x) if x.endswith(\".gz\") else open(x)"
   ]
  },
  {
   "cell_type": "code",
   "execution_count": 3,
   "metadata": {
    "collapsed": false
   },
   "outputs": [],
   "source": [
    "def plot_read_size(fastq):\n",
    "    readsizes = defaultdict(lambda: 0)\n",
    "    readcount = 0\n",
    "    for name, seq, qual in readfx(fastq):\n",
    "        readsizes[len(seq)] += 1\n",
    "        readcount += 1\n",
    "    hist = pd.DataFrame.from_dict(readsizes, orient='index')\n",
    "    hist['length']=hist.index\n",
    "    hist['read_count']=hist[0]\n",
    "    fig = plt.plot(hist['length'], hist['read_count'], color='b')\n",
    "    plt.ylabel('# reads')\n",
    "    plt.xlabel('read length')\n",
    "    filename = op.dirname(fastq)+\"_\".join(op.basename(fastq).split(\".\")[:-1])+\".png\"\n",
    "    name = \"_\".join(op.basename(fastq).split(\".\")[:-1])+\".png\"\n",
    "    plt.title('%s: %s total reads' % (name, readcount))\n",
    "    return plt, readcount"
   ]
  },
  {
   "cell_type": "code",
   "execution_count": 4,
   "metadata": {
    "collapsed": false
   },
   "outputs": [],
   "source": [
    "count=0\n",
    "fastq = \"../data/big_data/GZFH_454_gt150.fastq.gz\"\n",
    "for name, seq, qual in readfx(fastq):\n",
    "    count += 1"
   ]
  },
  {
   "cell_type": "code",
   "execution_count": 5,
   "metadata": {
    "collapsed": false
   },
   "outputs": [
    {
     "name": "stdout",
     "output_type": "stream",
     "text": [
      "554957\n"
     ]
    }
   ],
   "source": [
    "print(count)"
   ]
  },
  {
   "cell_type": "code",
   "execution_count": 6,
   "metadata": {
    "collapsed": false
   },
   "outputs": [
    {
     "data": {
      "image/png": "[encoded data removed]",
      "text/plain": [
       "<matplotlib.figure.Figure at 0x10abb6c10>"
      ]
     },
     "metadata": {},
     "output_type": "display_data"
    }
   ],
   "source": [
    "plt, readcount = plot_read_size(\"../data/big_data/GZFH_454_gt150.fastq.gz\")"
   ]
  },
  {
   "cell_type": "code",
   "execution_count": 7,
   "metadata": {
    "collapsed": false
   },
   "outputs": [
    {
     "name": "stdout",
     "output_type": "stream",
     "text": [
      "554957\n"
     ]
    }
   ],
   "source": [
    "print(readcount)"
   ]
  },
  {
   "cell_type": "markdown",
   "metadata": {},
   "source": [
    "## bbmap and bwa results:"
   ]
  },
  {
   "cell_type": "code",
   "execution_count": 8,
   "metadata": {
    "collapsed": true
   },
   "outputs": [],
   "source": [
    "import glob\n",
    "import os"
   ]
  },
  {
   "cell_type": "code",
   "execution_count": 9,
   "metadata": {
    "collapsed": false
   },
   "outputs": [],
   "source": [
    "bbresults = glob.glob(\"../data/i454comp/*recruit_info.txt\")"
   ]
  },
  {
   "cell_type": "code",
   "execution_count": 10,
   "metadata": {
    "collapsed": false
   },
   "outputs": [
    {
     "name": "stdout",
     "output_type": "stream",
     "text": [
      "../data/i454comp/2079_6_1746_gt150_fastq_extendedFrags_gt150_fastq_recruit_info.txt\n",
      "2079\n",
      "../data/i454comp/GZFH_454TrimmedReads_recruit_info.txt\n",
      "GZFH\n"
     ]
    }
   ],
   "source": [
    "for i, r in enumerate(bbresults):\n",
    "    print(r)\n",
    "    print(os.path.basename(r).split(\"_\")[0])\n",
    "    din = pd.read_csv(r, sep=\"\\t\")\n",
    "    din = din.rename(columns={\"Unnamed: 0\":\"sag\"})\n",
    "#    din['STAT'] = din['stat']\n",
    "    #din = din.set_index(din.stat)\n",
    "\n",
    "    tin = din.transpose()\n",
    "    tin.columns = tin.iloc[0]\n",
    "    tin = tin.iloc[1:]\n",
    "    tin['metagenome'] = os.path.basename(r).split(\"_\")[0] \n",
    "    sags = list(tin.index)\n",
    "    tin['sag'] = sags\n",
    "    tin['method'] = 'bbmap'\n",
    "    if i == 0:\n",
    "        newdf = pd.DataFrame()\n",
    "    \n",
    "    newdf = pd.concat([tin, newdf])\n",
    "\n",
    "#newdf = newdf.convert_objects(convert_numeric=True)"
   ]
  },
  {
   "cell_type": "code",
   "execution_count": 11,
   "metadata": {
    "collapsed": false
   },
   "outputs": [
    {
     "data": {
      "text/html": [
       "<div>\n",
       "<table border=\"1\" class=\"dataframe\">\n",
       "  <thead>\n",
       "    <tr style=\"text-align: right;\">\n",
       "      <th>sag</th>\n",
       "      <th>perfect_best_site</th>\n",
       "      <th>unambiguous</th>\n",
       "      <th>Percent_scaffolds_with_any_coverage</th>\n",
       "      <th>Percent_of_reference_bases_covered</th>\n",
       "      <th>Average_coverage</th>\n",
       "      <th>Reads_Used</th>\n",
       "      <th>metagenome</th>\n",
       "      <th>sag</th>\n",
       "      <th>method</th>\n",
       "    </tr>\n",
       "  </thead>\n",
       "  <tbody>\n",
       "    <tr>\n",
       "      <th>AAA255A6_96912</th>\n",
       "      <td>1508</td>\n",
       "      <td>9643</td>\n",
       "      <td>100</td>\n",
       "      <td>85.68</td>\n",
       "      <td>2.27</td>\n",
       "      <td>676245</td>\n",
       "      <td>GZFH</td>\n",
       "      <td>AAA255A6_96912</td>\n",
       "      <td>bbmap</td>\n",
       "    </tr>\n",
       "    <tr>\n",
       "      <th>AAA255B16_97682</th>\n",
       "      <td>2919</td>\n",
       "      <td>17830</td>\n",
       "      <td>100</td>\n",
       "      <td>95.51</td>\n",
       "      <td>5.4</td>\n",
       "      <td>676245</td>\n",
       "      <td>GZFH</td>\n",
       "      <td>AAA255B16_97682</td>\n",
       "      <td>bbmap</td>\n",
       "    </tr>\n",
       "    <tr>\n",
       "      <th>AAA255C20_98068</th>\n",
       "      <td>3509</td>\n",
       "      <td>22088</td>\n",
       "      <td>100</td>\n",
       "      <td>95.9</td>\n",
       "      <td>5.24</td>\n",
       "      <td>676245</td>\n",
       "      <td>GZFH</td>\n",
       "      <td>AAA255C20_98068</td>\n",
       "      <td>bbmap</td>\n",
       "    </tr>\n",
       "    <tr>\n",
       "      <th>AAA255A6_96912</th>\n",
       "      <td>937248</td>\n",
       "      <td>1.36612e+06</td>\n",
       "      <td>100</td>\n",
       "      <td>99.39</td>\n",
       "      <td>234.01</td>\n",
       "      <td>7.12875e+07</td>\n",
       "      <td>2079</td>\n",
       "      <td>AAA255A6_96912</td>\n",
       "      <td>bbmap</td>\n",
       "    </tr>\n",
       "    <tr>\n",
       "      <th>AAA255B16_97682</th>\n",
       "      <td>1.76714e+06</td>\n",
       "      <td>2.64831e+06</td>\n",
       "      <td>100</td>\n",
       "      <td>99.75</td>\n",
       "      <td>592.72</td>\n",
       "      <td>7.12875e+07</td>\n",
       "      <td>2079</td>\n",
       "      <td>AAA255B16_97682</td>\n",
       "      <td>bbmap</td>\n",
       "    </tr>\n",
       "    <tr>\n",
       "      <th>AAA255C20_98068</th>\n",
       "      <td>2.20016e+06</td>\n",
       "      <td>3.29452e+06</td>\n",
       "      <td>100</td>\n",
       "      <td>99.73</td>\n",
       "      <td>577.95</td>\n",
       "      <td>7.12875e+07</td>\n",
       "      <td>2079</td>\n",
       "      <td>AAA255C20_98068</td>\n",
       "      <td>bbmap</td>\n",
       "    </tr>\n",
       "  </tbody>\n",
       "</table>\n",
       "</div>"
      ],
      "text/plain": [
       "sag             perfect_best_site  unambiguous  \\\n",
       "AAA255A6_96912               1508         9643   \n",
       "AAA255B16_97682              2919        17830   \n",
       "AAA255C20_98068              3509        22088   \n",
       "AAA255A6_96912             937248  1.36612e+06   \n",
       "AAA255B16_97682       1.76714e+06  2.64831e+06   \n",
       "AAA255C20_98068       2.20016e+06  3.29452e+06   \n",
       "\n",
       "sag             Percent_scaffolds_with_any_coverage  \\\n",
       "AAA255A6_96912                                  100   \n",
       "AAA255B16_97682                                 100   \n",
       "AAA255C20_98068                                 100   \n",
       "AAA255A6_96912                                  100   \n",
       "AAA255B16_97682                                 100   \n",
       "AAA255C20_98068                                 100   \n",
       "\n",
       "sag             Percent_of_reference_bases_covered Average_coverage  \\\n",
       "AAA255A6_96912                               85.68             2.27   \n",
       "AAA255B16_97682                              95.51              5.4   \n",
       "AAA255C20_98068                               95.9             5.24   \n",
       "AAA255A6_96912                               99.39           234.01   \n",
       "AAA255B16_97682                              99.75           592.72   \n",
       "AAA255C20_98068                              99.73           577.95   \n",
       "\n",
       "sag               Reads_Used metagenome              sag method  \n",
       "AAA255A6_96912        676245       GZFH   AAA255A6_96912  bbmap  \n",
       "AAA255B16_97682       676245       GZFH  AAA255B16_97682  bbmap  \n",
       "AAA255C20_98068       676245       GZFH  AAA255C20_98068  bbmap  \n",
       "AAA255A6_96912   7.12875e+07       2079   AAA255A6_96912  bbmap  \n",
       "AAA255B16_97682  7.12875e+07       2079  AAA255B16_97682  bbmap  \n",
       "AAA255C20_98068  7.12875e+07       2079  AAA255C20_98068  bbmap  "
      ]
     },
     "execution_count": 11,
     "metadata": {},
     "output_type": "execute_result"
    }
   ],
   "source": [
    "newdf"
   ]
  },
  {
   "cell_type": "code",
   "execution_count": 12,
   "metadata": {
    "collapsed": false
   },
   "outputs": [],
   "source": [
    "def get_recruit_info(gcov):\n",
    "    countfile = gcov.replace(\"genomecoverage\", \"aln_count\")\n",
    "    with open(countfile) as infile:\n",
    "        recruit_count = infile.read().split()[1].strip()\n",
    "        \n",
    "    metagenome = op.basename(gcov).split(\"_vs_\")[0].split(\"_\")[0]\n",
    "    coverage = pd.read_csv(gcov, sep=\"\\t\", header=None)\n",
    "    mean_per_contig = coverage.groupby([0])[2].mean() #.to_dict()\n",
    "    sum_per_contig = coverage.groupby([0])[2].sum() #.to_dict()\n",
    "    contig_size = coverage.groupby([0])[1].max()+1\n",
    "    mean_sag_coverage = mean_per_contig.mean()\n",
    "    totalbp = contig_size.sum()\n",
    "    uncovered_bp = sum(coverage[2]==0)\n",
    "    pct_covered = (totalbp - uncovered_bp)/totalbp * 100\n",
    "    total_scaffold = len(sum_per_contig)\n",
    "    uncovered_contig = sum(sum_per_contig==0)\n",
    "    pct_scaffolds_covered = (total_scaffold - uncovered_contig)/total_scaffold *100\n",
    "    sag = \"_\".join(op.basename(gcov).split(\"_vs_\")[1].strip(\".genomecoverage\").split(\"_\")[:-1])\n",
    "    cols = ['method','sag','metagenome','Percent_scaffolds_with_any_coverage', 'Percent_of_reference_bases_covered', 'Average_coverage', 'unambiguous']\n",
    "    data = ['bwa', sag, metagenome, \n",
    "           pct_scaffolds_covered,\n",
    "           pct_covered, \n",
    "           mean_sag_coverage,\n",
    "           recruit_count]\n",
    "    df = pd.DataFrame(data, index=cols).transpose()\n",
    "    return df"
   ]
  },
  {
   "cell_type": "code",
   "execution_count": 13,
   "metadata": {
    "collapsed": false
   },
   "outputs": [],
   "source": [
    "genomecov = glob.glob(\"../data/i454comp/*.genomecoverage\")\n",
    "\n",
    "cols = ['sag','metagenome','Percent_scaffolds_with_any_coverage', 'Percent_of_reference_bases_covered', 'Average_coverage', 'unambiguous']\n",
    "big = pd.DataFrame(columns=cols)\n",
    "for g in genomecov:\n",
    "    new=get_recruit_info(g)\n",
    "    big = pd.concat([big, new])"
   ]
  },
  {
   "cell_type": "code",
   "execution_count": 14,
   "metadata": {
    "collapsed": false
   },
   "outputs": [],
   "source": [
    "sizekey = newdf.reset_index()[['metagenome', 'Reads_Used']].drop_duplicates()\n",
    "\n",
    "better = big.merge(sizekey, how='left', left_on='metagenome', right_on='metagenome')\n",
    "\n",
    "together = pd.concat([better, newdf.reset_index()], join='inner')"
   ]
  },
  {
   "cell_type": "code",
   "execution_count": 15,
   "metadata": {
    "collapsed": false
   },
   "outputs": [
    {
     "data": {
      "text/plain": [
       "Index([u'unambiguous', u'Percent_scaffolds_with_any_coverage',\n",
       "       u'Percent_of_reference_bases_covered', u'Average_coverage',\n",
       "       u'Reads_Used', u'metagenome', u'sag', u'method'],\n",
       "      dtype='object')"
      ]
     },
     "execution_count": 15,
     "metadata": {},
     "output_type": "execute_result"
    }
   ],
   "source": [
    "together.columns"
   ]
  },
  {
   "cell_type": "markdown",
   "metadata": {},
   "source": [
    "### Table with information on bbmap and bwa read recruitment of Illumina (2079) and 454 (GZFH) metagenomes to three SAGs:\n",
    "* \"unambiguous\" represents the number of reads recruited."
   ]
  },
  {
   "cell_type": "code",
   "execution_count": 16,
   "metadata": {
    "collapsed": false
   },
   "outputs": [
    {
     "data": {
      "text/html": [
       "<div>\n",
       "<table border=\"1\" class=\"dataframe\">\n",
       "  <thead>\n",
       "    <tr style=\"text-align: right;\">\n",
       "      <th></th>\n",
       "      <th>unambiguous</th>\n",
       "      <th>Percent_scaffolds_with_any_coverage</th>\n",
       "      <th>Percent_of_reference_bases_covered</th>\n",
       "      <th>Average_coverage</th>\n",
       "      <th>Reads_Used</th>\n",
       "      <th>metagenome</th>\n",
       "      <th>sag</th>\n",
       "      <th>method</th>\n",
       "    </tr>\n",
       "  </thead>\n",
       "  <tbody>\n",
       "    <tr>\n",
       "      <th>0</th>\n",
       "      <td>1397727</td>\n",
       "      <td>100</td>\n",
       "      <td>100</td>\n",
       "      <td>231.839</td>\n",
       "      <td>7.12875e+07</td>\n",
       "      <td>2079</td>\n",
       "      <td>AAA255A6_96912</td>\n",
       "      <td>bwa</td>\n",
       "    </tr>\n",
       "    <tr>\n",
       "      <th>1</th>\n",
       "      <td>2750421</td>\n",
       "      <td>100</td>\n",
       "      <td>100</td>\n",
       "      <td>579.587</td>\n",
       "      <td>7.12875e+07</td>\n",
       "      <td>2079</td>\n",
       "      <td>AAA255B16_97682</td>\n",
       "      <td>bwa</td>\n",
       "    </tr>\n",
       "    <tr>\n",
       "      <th>2</th>\n",
       "      <td>3402474</td>\n",
       "      <td>100</td>\n",
       "      <td>100</td>\n",
       "      <td>557.519</td>\n",
       "      <td>7.12875e+07</td>\n",
       "      <td>2079</td>\n",
       "      <td>AAA255C20_98068</td>\n",
       "      <td>bwa</td>\n",
       "    </tr>\n",
       "    <tr>\n",
       "      <th>3</th>\n",
       "      <td>9492</td>\n",
       "      <td>100</td>\n",
       "      <td>100</td>\n",
       "      <td>2.65439</td>\n",
       "      <td>676245</td>\n",
       "      <td>GZFH</td>\n",
       "      <td>AAA255A6_96912</td>\n",
       "      <td>bwa</td>\n",
       "    </tr>\n",
       "    <tr>\n",
       "      <th>4</th>\n",
       "      <td>17906</td>\n",
       "      <td>100</td>\n",
       "      <td>100</td>\n",
       "      <td>5.61372</td>\n",
       "      <td>676245</td>\n",
       "      <td>GZFH</td>\n",
       "      <td>AAA255B16_97682</td>\n",
       "      <td>bwa</td>\n",
       "    </tr>\n",
       "    <tr>\n",
       "      <th>5</th>\n",
       "      <td>22245</td>\n",
       "      <td>100</td>\n",
       "      <td>100</td>\n",
       "      <td>5.41611</td>\n",
       "      <td>676245</td>\n",
       "      <td>GZFH</td>\n",
       "      <td>AAA255C20_98068</td>\n",
       "      <td>bwa</td>\n",
       "    </tr>\n",
       "    <tr>\n",
       "      <th>0</th>\n",
       "      <td>9643</td>\n",
       "      <td>100</td>\n",
       "      <td>85.68</td>\n",
       "      <td>2.27</td>\n",
       "      <td>676245</td>\n",
       "      <td>GZFH</td>\n",
       "      <td>AAA255A6_96912</td>\n",
       "      <td>bbmap</td>\n",
       "    </tr>\n",
       "    <tr>\n",
       "      <th>1</th>\n",
       "      <td>17830</td>\n",
       "      <td>100</td>\n",
       "      <td>95.51</td>\n",
       "      <td>5.4</td>\n",
       "      <td>676245</td>\n",
       "      <td>GZFH</td>\n",
       "      <td>AAA255B16_97682</td>\n",
       "      <td>bbmap</td>\n",
       "    </tr>\n",
       "    <tr>\n",
       "      <th>2</th>\n",
       "      <td>22088</td>\n",
       "      <td>100</td>\n",
       "      <td>95.9</td>\n",
       "      <td>5.24</td>\n",
       "      <td>676245</td>\n",
       "      <td>GZFH</td>\n",
       "      <td>AAA255C20_98068</td>\n",
       "      <td>bbmap</td>\n",
       "    </tr>\n",
       "    <tr>\n",
       "      <th>3</th>\n",
       "      <td>1.36612e+06</td>\n",
       "      <td>100</td>\n",
       "      <td>99.39</td>\n",
       "      <td>234.01</td>\n",
       "      <td>7.12875e+07</td>\n",
       "      <td>2079</td>\n",
       "      <td>AAA255A6_96912</td>\n",
       "      <td>bbmap</td>\n",
       "    </tr>\n",
       "    <tr>\n",
       "      <th>4</th>\n",
       "      <td>2.64831e+06</td>\n",
       "      <td>100</td>\n",
       "      <td>99.75</td>\n",
       "      <td>592.72</td>\n",
       "      <td>7.12875e+07</td>\n",
       "      <td>2079</td>\n",
       "      <td>AAA255B16_97682</td>\n",
       "      <td>bbmap</td>\n",
       "    </tr>\n",
       "    <tr>\n",
       "      <th>5</th>\n",
       "      <td>3.29452e+06</td>\n",
       "      <td>100</td>\n",
       "      <td>99.73</td>\n",
       "      <td>577.95</td>\n",
       "      <td>7.12875e+07</td>\n",
       "      <td>2079</td>\n",
       "      <td>AAA255C20_98068</td>\n",
       "      <td>bbmap</td>\n",
       "    </tr>\n",
       "  </tbody>\n",
       "</table>\n",
       "</div>"
      ],
      "text/plain": [
       "   unambiguous Percent_scaffolds_with_any_coverage  \\\n",
       "0      1397727                                 100   \n",
       "1      2750421                                 100   \n",
       "2      3402474                                 100   \n",
       "3         9492                                 100   \n",
       "4        17906                                 100   \n",
       "5        22245                                 100   \n",
       "0         9643                                 100   \n",
       "1        17830                                 100   \n",
       "2        22088                                 100   \n",
       "3  1.36612e+06                                 100   \n",
       "4  2.64831e+06                                 100   \n",
       "5  3.29452e+06                                 100   \n",
       "\n",
       "  Percent_of_reference_bases_covered Average_coverage   Reads_Used metagenome  \\\n",
       "0                                100          231.839  7.12875e+07       2079   \n",
       "1                                100          579.587  7.12875e+07       2079   \n",
       "2                                100          557.519  7.12875e+07       2079   \n",
       "3                                100          2.65439       676245       GZFH   \n",
       "4                                100          5.61372       676245       GZFH   \n",
       "5                                100          5.41611       676245       GZFH   \n",
       "0                              85.68             2.27       676245       GZFH   \n",
       "1                              95.51              5.4       676245       GZFH   \n",
       "2                               95.9             5.24       676245       GZFH   \n",
       "3                              99.39           234.01  7.12875e+07       2079   \n",
       "4                              99.75           592.72  7.12875e+07       2079   \n",
       "5                              99.73           577.95  7.12875e+07       2079   \n",
       "\n",
       "               sag method  \n",
       "0   AAA255A6_96912    bwa  \n",
       "1  AAA255B16_97682    bwa  \n",
       "2  AAA255C20_98068    bwa  \n",
       "3   AAA255A6_96912    bwa  \n",
       "4  AAA255B16_97682    bwa  \n",
       "5  AAA255C20_98068    bwa  \n",
       "0   AAA255A6_96912  bbmap  \n",
       "1  AAA255B16_97682  bbmap  \n",
       "2  AAA255C20_98068  bbmap  \n",
       "3   AAA255A6_96912  bbmap  \n",
       "4  AAA255B16_97682  bbmap  \n",
       "5  AAA255C20_98068  bbmap  "
      ]
     },
     "execution_count": 16,
     "metadata": {},
     "output_type": "execute_result"
    }
   ],
   "source": [
    "together"
   ]
  },
  {
   "cell_type": "code",
   "execution_count": 17,
   "metadata": {
    "collapsed": false
   },
   "outputs": [
    {
     "name": "stderr",
     "output_type": "stream",
     "text": [
      "//anaconda/lib/python2.7/site-packages/rpy2/robjects/functions.py:106: UserWarning: \n",
      "Attaching package: ‘dplyr’\n",
      "\n",
      "\n",
      "  res = super(Function, self).__call__(*new_args, **new_kwargs)\n",
      "//anaconda/lib/python2.7/site-packages/rpy2/robjects/functions.py:106: UserWarning: The following objects are masked from ‘package:stats’:\n",
      "\n",
      "    filter, lag\n",
      "\n",
      "\n",
      "  res = super(Function, self).__call__(*new_args, **new_kwargs)\n",
      "//anaconda/lib/python2.7/site-packages/rpy2/robjects/functions.py:106: UserWarning: The following objects are masked from ‘package:base’:\n",
      "\n",
      "    intersect, setdiff, setequal, union\n",
      "\n",
      "\n",
      "  res = super(Function, self).__call__(*new_args, **new_kwargs)\n",
      "//anaconda/lib/python2.7/site-packages/rpy2/robjects/functions.py:106: UserWarning: Find out what's changed in ggplot2 at\n",
      "http://github.com/hadley/ggplot2/releases.\n",
      "\n",
      "  res = super(Function, self).__call__(*new_args, **new_kwargs)\n"
     ]
    },
    {
     "data": {
      "text/plain": [
       "array(['ggplot2', 'dplyr', 'tools', 'stats', 'graphics', 'grDevices',\n",
       "       'utils', 'datasets', 'methods', 'base'], \n",
       "      dtype='|S9')"
      ]
     },
     "execution_count": 17,
     "metadata": {},
     "output_type": "execute_result"
    }
   ],
   "source": [
    "%load_ext rpy2.ipython\n",
    "%R library(dplyr); library(ggplot2)"
   ]
  },
  {
   "cell_type": "code",
   "execution_count": 18,
   "metadata": {
    "collapsed": false
   },
   "outputs": [],
   "source": [
    "%%R -i together\n",
    "together <- mutate(together, vars = paste(metagenome, method, sep=\"_\"))\n",
    "together <- mutate(together, frac_mg_reads = as.numeric(as.character(unambiguous))/as.numeric(as.character(Reads_Used)))"
   ]
  },
  {
   "cell_type": "code",
   "execution_count": 19,
   "metadata": {
    "collapsed": false
   },
   "outputs": [
    {
     "data": {
      "image/png": "[encoded data removed]"
     },
     "metadata": {},
     "output_type": "display_data"
    },
    {
     "data": {
      "image/png": "[encoded data removed]"
     },
     "metadata": {},
     "output_type": "display_data"
    },
    {
     "data": {
      "image/png": "[encoded data removed]"
     },
     "metadata": {},
     "output_type": "display_data"
    }
   ],
   "source": [
    "%%R -w 600\n",
    "together %>% ggplot(aes(sag, as.numeric(as.character(unambiguous)))) + scale_y_log10() + theme_bw() -> p\n",
    "p<- p+ geom_bar(aes(fill=vars), position=\"dodge\", stat='identity') #+ theme(axis.text.x = element_text(angle = 45, hjust = 1))\n",
    "p <- p + labs(fill=\"metagenome_method\", x=\"SAG\", y=\"Reads Recruited\", title=\"Comparison of methods for Recruitment\\nof Metagenomic Reads to SAGs\")\n",
    "plot(p)\n",
    "\n",
    "together %>% ggplot(aes(sag, as.numeric(as.character(Percent_of_reference_bases_covered)))) + theme_bw() -> p \n",
    "p<- p+ geom_bar(aes(fill=vars), position=\"dodge\", stat='identity') #+ theme(axis.text.x = element_text(angle = 45, hjust = 1))\n",
    "p <- p + labs(fill=\"metagenome_method\", x=\"SAG\", y=\"Percent_of_reference_bases_covered\", title=\"Comparison of methods for Recruitment\\nof Metagenomic Reads to SAGs\")\n",
    "plot(p)\n",
    "\n",
    "together %>% ggplot(aes(sag, as.numeric(as.character(frac_mg_reads)))) + theme_bw() -> p \n",
    "p<- p+ geom_bar(aes(fill=vars), position=\"dodge\", stat='identity') #+ theme(axis.text.x = element_text(angle = 45, hjust = 1))\n",
    "p <- p + labs(fill=\"metagenome_method\", x=\"SAG\", y=\"Fraction of Metagenome\", title=\"Comparison of methods for Recruitment\\nof Metagenomic Reads to SAGs\")\n",
    "plot(p)"
   ]
  },
  {
   "cell_type": "markdown",
   "metadata": {
    "collapsed": true
   },
   "source": [
    "Let's scale the raw recruitment result up to include all sags, and just use bwa for the time being.  To do so: \n",
    "\n",
    "```\n",
    "mg=/mnt/stepanauskas_nfs/julia/Test_FragRecruitment/Sakinaw/manmeta/illumina_joined_gt150.fastq.gz\n",
    "\n",
    "outdir=/mnt/stepanauskas_nfs/julia/fragdev/illuminall/\n",
    "\n",
    "log=iluminall_rcovlog.txt\n",
    "\n",
    "parallel --retries 1 --bar --load 70% --joblog $log --jobs 3 python ~/scripts/rcov2.py \\\n",
    "print_cov --fastq $mg --reference {1} --outdir $outdir :::: allsakinawsags.txt\n",
    "\n",
    "mg=/mnt/stepanauskas_nfs/julia/Test_FragRecruitment/Sakinaw/manmeta/pyro_gt150.fastq.gz\n",
    "\n",
    "outdir=/mnt/stepanauskas_nfs/julia/fragdev/pyroall/\n",
    "\n",
    "log=pyroall_rcovlog.txt\n",
    "```"
   ]
  },
  {
   "cell_type": "code",
   "execution_count": null,
   "metadata": {
    "collapsed": true
   },
   "outputs": [],
   "source": []
  }
 ],
 "metadata": {
  "kernelspec": {
   "display_name": "Python 2",
   "language": "python",
   "name": "python2"
  },
  "language_info": {
   "codemirror_mode": {
    "name": "ipython",
    "version": 2
   },
   "file_extension": ".py",
   "mimetype": "text/x-python",
   "name": "python",
   "nbconvert_exporter": "python",
   "pygments_lexer": "ipython2",
   "version": "2.7.11"
  }
 },
 "nbformat": 4,
 "nbformat_minor": 0
}
