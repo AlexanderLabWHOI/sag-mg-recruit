{
 "cells": [
  {
   "cell_type": "markdown",
   "metadata": {},
   "source": [
    "We now have two metagenomic libraries created using illumina and 454.  First things first is to explore what these libraries look like:"
   ]
  },
  {
   "cell_type": "code",
   "execution_count": 8,
   "metadata": {
    "collapsed": false
   },
   "outputs": [],
   "source": [
    "from Bio import SeqIO\n",
    "from Bio.SeqIO.QualityIO import PairedFastaQualIterator\n",
    "#from scgcpy.utils import file_transaction"
   ]
  },
  {
   "cell_type": "code",
   "execution_count": 9,
   "metadata": {
    "collapsed": true
   },
   "outputs": [],
   "source": [
    "# merging qual and seq files:\n",
    "\n",
    "fas = \"../data/GZFH.454TrimmedReads.fna\"\n",
    "qual = \"../data/GZFH.454TrimmedReads.qual\"\n",
    "outfile = \"../data/GZFH_454.fastq\""
   ]
  },
  {
   "cell_type": "code",
   "execution_count": 11,
   "metadata": {
    "collapsed": false
   },
   "outputs": [],
   "source": [
    "def fasqual_to_fastq(fas, qual, outfile):\n",
    "    #with file_transaction(outfile) as tx_out:\n",
    "        tx_out = outfile\n",
    "        with open(fas) as fin, open(qual) as qin, open(tx_out, \"w\") as oh:\n",
    "            for i, rec in enumerate(PairedFastaQualIterator(fin, qin)):\n",
    "                SeqIO.write(rec, oh, \"fastq\")\n",
    "                if i == 10:\n",
    "                    break\n",
    "        return outfile"
   ]
  },
  {
   "cell_type": "code",
   "execution_count": 12,
   "metadata": {
    "collapsed": false
   },
   "outputs": [
    {
     "data": {
      "text/plain": [
       "'../data/GZFH_454.fastq'"
      ]
     },
     "execution_count": 12,
     "metadata": {},
     "output_type": "execute_result"
    }
   ],
   "source": [
    "fasqual_to_fastq(fas, qual, outfile)"
   ]
  },
  {
   "cell_type": "code",
   "execution_count": 13,
   "metadata": {
    "collapsed": true
   },
   "outputs": [],
   "source": [
    "!open ../data/GZFH_454.fastq -a textedit"
   ]
  },
  {
   "cell_type": "markdown",
   "metadata": {
    "collapsed": true
   },
   "source": [
    "That worked... now expanded it to the entire fasta and qual files on charlie."
   ]
  },
  {
   "cell_type": "markdown",
   "metadata": {},
   "source": [
    "## Next running fragment recruitment using bwa and bbmap\n",
    "* editing rcov.py to output more than just labelled contigs\n",
    "* all this is going on charlie\n",
    "\n",
    "```\n",
    "mg1=./Test_FragRecruitment/Sakinaw/Hallam_metagenomes/2079.6.1746.fastq.gz \n",
    "mg2=./Test_FragRecruitment/Sakinaw/Hallam_metagenomes/GZFH_454.fastq.gz\n",
    "gnms=./Test_FragRecruitment/Sakinaw/Hallam_SAGs_AAA255/Masked_genomes_AAA255/testfirst/\n",
    "outdir=./fragdev/20160525/\n",
    "```\n",
    "this run was still running at the end of the day in a screen session\n",
    "```\n",
    "python ~/scripts/mp_recruit.py jrmr --fq1 ../Test_FragRecruitment/Sakinaw/Hallam_metagenomes/2079.6.1746.fastq.gz \\\n",
    "--outdir 20160525 --refdir ../Test_FragRecruitment/Sakinaw/Hallam_SAGs_AAA255/Masked_genomes_AAA255/testfirst/ \\\n",
    "--join --len_filter 150 &> 0525_jrmr2.log\n",
    "```\n",
    "this run finished:\n",
    "```\n",
    "python ~/scripts/mp_recruit.py jrmr --fq1 ../Test_FragRecruitment/Sakinaw/Hallam_metagenomes/GZFH_454.fastq.gz \\\n",
    "--outdir 20160525 --refdir ../Test_FragRecruitment/Sakinaw/Hallam_SAGs_AAA255/Masked_genomes_AAA255/testfirst/ \\\n",
    "--len_filter 150 &> 0525_jrmr3.log\n",
    "```\n",
    "\n",
    "more variables:\n",
    "```\n",
    "log=0525_rcov1.log\n",
    "outdir=./fragdev/20160525/\n",
    "mg2lenfilt=/mnt/stepanauskas_nfs/julia/Test_FragRecruitment/Sakinaw/Hallam_metagenomes/GZFH_454_gt150.fastq.gz\n",
    "```\n",
    "running this at the end of the day in a screen session\n",
    "```\n",
    "parallel --retries 1 --bar --load 70% --joblog $log --jobs 2 python ~/scripts/rcov2.py \\\n",
    "print_cov --fastq $mg2lenfilt --reference {1} --outdir $outdir :::: firstlist.txt\n",
    "```"
   ]
  },
  {
   "cell_type": "code",
   "execution_count": null,
   "metadata": {
    "collapsed": true
   },
   "outputs": [],
   "source": []
  }
 ],
 "metadata": {
  "kernelspec": {
   "display_name": "Python 2",
   "language": "python",
   "name": "python2"
  },
  "language_info": {
   "codemirror_mode": {
    "name": "ipython",
    "version": 2
   },
   "file_extension": ".py",
   "mimetype": "text/x-python",
   "name": "python",
   "nbconvert_exporter": "python",
   "pygments_lexer": "ipython2",
   "version": "2.7.11"
  }
 },
 "nbformat": 4,
 "nbformat_minor": 0
}
