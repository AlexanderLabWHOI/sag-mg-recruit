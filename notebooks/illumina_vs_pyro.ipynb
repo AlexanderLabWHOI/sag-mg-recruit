{
 "cells": [
  {
   "cell_type": "markdown",
   "metadata": {},
   "source": [
    "We now have two metagenomic libraries created using illumina and 454.  First things first is to explore what these libraries look like:"
   ]
  },
  {
   "cell_type": "code",
   "execution_count": 8,
   "metadata": {
    "collapsed": false
   },
   "outputs": [],
   "source": [
    "from Bio import SeqIO\n",
    "from Bio.SeqIO.QualityIO import PairedFastaQualIterator\n",
    "#from scgcpy.utils import file_transaction"
   ]
  },
  {
   "cell_type": "code",
   "execution_count": 9,
   "metadata": {
    "collapsed": true
   },
   "outputs": [],
   "source": [
    "# merging qual and seq files:\n",
    "\n",
    "fas = \"../data/GZFH.454TrimmedReads.fna\"\n",
    "qual = \"../data/GZFH.454TrimmedReads.qual\"\n",
    "outfile = \"../data/GZFH_454.fastq\""
   ]
  },
  {
   "cell_type": "code",
   "execution_count": 11,
   "metadata": {
    "collapsed": false
   },
   "outputs": [],
   "source": [
    "def fasqual_to_fastq(fas, qual, outfile):\n",
    "    #with file_transaction(outfile) as tx_out:\n",
    "        tx_out = outfile\n",
    "        with open(fas) as fin, open(qual) as qin, open(tx_out, \"w\") as oh:\n",
    "            for i, rec in enumerate(PairedFastaQualIterator(fin, qin)):\n",
    "                SeqIO.write(rec, oh, \"fastq\")\n",
    "                if i == 10:\n",
    "                    break\n",
    "        return outfile"
   ]
  },
  {
   "cell_type": "code",
   "execution_count": 12,
   "metadata": {
    "collapsed": false
   },
   "outputs": [
    {
     "data": {
      "text/plain": [
       "'../data/GZFH_454.fastq'"
      ]
     },
     "execution_count": 12,
     "metadata": {},
     "output_type": "execute_result"
    }
   ],
   "source": [
    "fasqual_to_fastq(fas, qual, outfile)"
   ]
  },
  {
   "cell_type": "code",
   "execution_count": 13,
   "metadata": {
    "collapsed": true
   },
   "outputs": [],
   "source": [
    "!open ../data/GZFH_454.fastq -a textedit"
   ]
  },
  {
   "cell_type": "markdown",
   "metadata": {
    "collapsed": true
   },
   "source": [
    "That worked... now expanded it to the entire fasta and qual files on charlie."
   ]
  },
  {
   "cell_type": "markdown",
   "metadata": {},
   "source": [
    "## Next running fragment recruitment using bwa and bbmap\n",
    "* editing rcov.py to output more than just labelled contigs\n",
    "* all this is going on charlie\n",
    "\n",
    "```\n",
    "mg1=./Test_FragRecruitment/Sakinaw/Hallam_metagenomes/2079.6.1746.fastq.gz \n",
    "mg2=./Test_FragRecruitment/Sakinaw/Hallam_metagenomes/GZFH_454.fastq.gz\n",
    "gnms=./Test_FragRecruitment/Sakinaw/Hallam_SAGs_AAA255/Masked_genomes_AAA255/testfirst/\n",
    "outdir=./fragdev/20160525/\n",
    "```\n",
    "this run was still running at the end of the day in a screen session\n",
    "```\n",
    "python ~/scripts/mp_recruit.py jrmr --fq1 ../Test_FragRecruitment/Sakinaw/Hallam_metagenomes/2079.6.1746.fastq.gz \\\n",
    "--outdir 20160525 --refdir ../Test_FragRecruitment/Sakinaw/Hallam_SAGs_AAA255/Masked_genomes_AAA255/testfirst/ \\\n",
    "--join --len_filter 150 &> 0525_jrmr2.log\n",
    "```\n",
    "this run finished:\n",
    "```\n",
    "python ~/scripts/mp_recruit.py jrmr --fq1 ../Test_FragRecruitment/Sakinaw/Hallam_metagenomes/GZFH_454.fastq.gz \\\n",
    "--outdir 20160525 --refdir ../Test_FragRecruitment/Sakinaw/Hallam_SAGs_AAA255/Masked_genomes_AAA255/testfirst/ \\\n",
    "--len_filter 150 &> 0525_jrmr3.log\n",
    "```\n",
    "\n",
    "re-run with max len set, and fasta file input:\n",
    "\n",
    "```\n",
    "mg2lenfilt=/mnt/stepanauskas_nfs/julia/Test_FragRecruitment/Sakinaw/Hallam_metagenomes/GZFH_454_gt150.fastq.gz\n",
    "mg2fasta=/mnt/stepanauskas_nfs/julia/Test_FragRecruitment/Sakinaw/Hallam_metagenomes/GZFH_454TrimmedReads.fasta\n",
    "\n",
    "python ~/scripts/mp_recruit.py jrmr --fq1 $mg2fasta --outdir ./20160525 \\\n",
    "--refdir ../Test_FragRecruitment/Sakinaw/Hallam_SAGs_AAA255/Masked_genomes_AAA255/testfirst/ \\\n",
    "--max_len 600 &> 0525_jrmr4.log\n",
    "```\n",
    "\n",
    "more variables:\n",
    "```\n",
    "log=0525_rcov1.log\n",
    "outdir=./fragdev/20160525/\n",
    "mg2lenfilt=/mnt/stepanauskas_nfs/julia/Test_FragRecruitment/Sakinaw/Hallam_metagenomes/GZFH_454_gt150.fastq.gz\n",
    "```\n",
    "running this at the end of the day in a screen session\n",
    "```\n",
    "parallel --retries 1 --bar --load 70% --joblog $log --jobs 3 python ~/scripts/rcov2.py \\\n",
    "print_cov --fastq $mg2lenfilt --reference {1} --outdir $outdir :::: firstlist.txt\n",
    "```\n",
    "\n",
    "And then this for the illumina library bwa:\n",
    "\n",
    "```\n",
    "mg1curated=/mnt/stepanauskas_nfs/julia/fragdev/20160525/2079.6.1746_gt150.fastq.extendedFrags_gt150.fastq.gz\n",
    "log=0526_rcov2.log\n",
    "parallel --retries 1 --bar --load 70% --joblog $log --jobs 3 python ~/scripts/rcov2.py \\\n",
    "print_cov --fastq $mg1curated --reference {1} --outdir $outdir :::: firstlist.txt\n",
    "```"
   ]
  },
  {
   "cell_type": "markdown",
   "metadata": {
    "collapsed": true
   },
   "source": [
    "Now that these are all done and the scripts have been hashed out (a bit), a look at prelminary results:"
   ]
  },
  {
   "cell_type": "code",
   "execution_count": 53,
   "metadata": {
    "collapsed": false
   },
   "outputs": [
    {
     "name": "stderr",
     "output_type": "stream",
     "text": [
      "//anaconda/lib/python2.7/site-packages/matplotlib/__init__.py:1350: UserWarning:  This call to matplotlib.use() has no effect\n",
      "because the backend has already been chosen;\n",
      "matplotlib.use() must be called *before* pylab, matplotlib.pyplot,\n",
      "or matplotlib.backends is imported for the first time.\n",
      "\n",
      "  warnings.warn(_use_error_msg)\n"
     ]
    }
   ],
   "source": [
    "import pandas as pd\n",
    "from Bio import SeqIO\n",
    "import gzip\n",
    "import os.path as op\n",
    "from collections import defaultdict\n",
    "import matplotlib\n",
    "matplotlib.use('Agg')\n",
    "import matplotlib.pyplot as plt\n",
    "%matplotlib inline"
   ]
  },
  {
   "cell_type": "code",
   "execution_count": 87,
   "metadata": {
    "collapsed": true
   },
   "outputs": [],
   "source": [
    "from __future__ import print_function\n",
    "from __future__ import division"
   ]
  },
  {
   "cell_type": "code",
   "execution_count": null,
   "metadata": {
    "collapsed": true
   },
   "outputs": [],
   "source": [
    "def plot_read_size(fastq):\n",
    "    gzopen=lambda i: gzip.open(i) if i.endswith(\".gz\") else open(i)\n",
    "    with gzopen(fastq) as handle:\n",
    "        for i, record in enumerate(SeqIO.parse(handle, \"fastq\")):\n",
    "            readsizes[len(record.seq)] += 1\n",
    "            readcount += 1\n",
    "    hist = pd.DataFrame.from_dict(readsizes, orient='index')\n",
    "    hist['length']=hist.index\n",
    "    hist['read_count']=hist[0]\n",
    "    fig = plt.plot(hist['length'], hist['read_count'], color='b')\n",
    "    plt.ylabel('# reads')\n",
    "    plt.xlabel('read length')\n",
    "    name = op.dir(fastq)+\"_\".join(op.basename(fastq).split(\".\")[:-1])+.png"
   ]
  },
  {
   "cell_type": "code",
   "execution_count": 64,
   "metadata": {
    "collapsed": false
   },
   "outputs": [],
   "source": [
    "readsizes = defaultdict(lambda:0)\n",
    "readcount = 0\n",
    "with gzip.open(\"../data/i454comp/GZFH_454_gt150.fastq.gz\", \"rU\") as handle:\n",
    "    for i, record in enumerate(SeqIO.parse(handle, \"fastq\")):\n",
    "        readsizes[len(record.seq)] += 1\n",
    "        readcount += 1\n",
    "\n",
    "    hist = pd.DataFrame.from_dict(readsizes, orient='index')\n",
    "    \n",
    "   "
   ]
  },
  {
   "cell_type": "code",
   "execution_count": 65,
   "metadata": {
    "collapsed": false
   },
   "outputs": [
    {
     "data": {
      "text/plain": [
       "554957"
      ]
     },
     "execution_count": 65,
     "metadata": {},
     "output_type": "execute_result"
    }
   ],
   "source": [
    "hist = pd.DataFrame.from_dict(readsizes, orient='index')\n",
    "hist.index\n",
    "readcount"
   ]
  },
  {
   "cell_type": "code",
   "execution_count": 27,
   "metadata": {
    "collapsed": false
   },
   "outputs": [
    {
     "data": {
      "text/plain": [
       "<matplotlib.text.Text at 0x1099f4c10>"
      ]
     },
     "execution_count": 27,
     "metadata": {},
     "output_type": "execute_result"
    },
    {
     "data": {
      "image/png": "[encoded data removed]",
      "text/plain": [
       "<matplotlib.figure.Figure at 0x1098607d0>"
      ]
     },
     "metadata": {},
     "output_type": "display_data"
    }
   ],
   "source": [
    "hist['length']=hist.index\n",
    "hist['read_count']=hist[0]\n",
    "hist\n",
    "fig = plt.plot(hist['length'], hist['read_count'], color='b')\n",
    "plt.ylabel('# reads')\n",
    "plt.xlabel('read length')"
   ]
  },
  {
   "cell_type": "code",
   "execution_count": 29,
   "metadata": {
    "collapsed": true
   },
   "outputs": [],
   "source": [
    "gc1 = \"../data/i454comp/GZFH_454_gt150_fastq_vs_AAA255A6_96912.genomecoverage\"\n",
    "gc2 = \"../data/i454comp/GZFH_454_gt150_fastq_vs_AAA255B16_97682.genomecoverage\"\n",
    "gc3 = \"../data/i454comp/GZFH_454_gt150_fastq_vs_AAA255C20_98068.genomecoverage\""
   ]
  },
  {
   "cell_type": "code",
   "execution_count": 57,
   "metadata": {
    "collapsed": false
   },
   "outputs": [],
   "source": [
    "gcov = gc1\n",
    "\n",
    "coverage = pd.read_csv(gcov, sep=\"\\t\", header=None)\n",
    "mean_per_contig = coverage.groupby([0])[2].mean() #.to_dict()\n",
    "sum_per_contig = coverage.groupby([0])[2].sum() #.to_dict()\n",
    "contig_size = coverage.groupby([0])[1].max()+1"
   ]
  },
  {
   "cell_type": "code",
   "execution_count": 58,
   "metadata": {
    "collapsed": false
   },
   "outputs": [
    {
     "data": {
      "text/plain": [
       "2.973208857228565"
      ]
     },
     "execution_count": 58,
     "metadata": {},
     "output_type": "execute_result"
    }
   ],
   "source": [
    "mean_sag_coverage = mean_per_contig.mean()\n",
    "mean_sag_coverage"
   ]
  },
  {
   "cell_type": "code",
   "execution_count": 59,
   "metadata": {
    "collapsed": false
   },
   "outputs": [
    {
     "data": {
      "text/plain": [
       "100"
      ]
     },
     "execution_count": 59,
     "metadata": {},
     "output_type": "execute_result"
    }
   ],
   "source": [
    "totalbp = contig_size.sum()\n",
    "uncovered_bp = sum(coverage[2]==0)\n",
    "pct_covered = (totalbp - uncovered_bp)/totalbp * 100\n",
    "pct_covered"
   ]
  },
  {
   "cell_type": "code",
   "execution_count": 60,
   "metadata": {
    "collapsed": false
   },
   "outputs": [],
   "source": [
    "total_scaffold = len(sum_per_contig)\n",
    "uncovered_contig = sum(sum_per_contig==0)\n",
    "pct_scaffolds_covered = (total_scaffold - uncovered_contig)/total_scaffold *100"
   ]
  },
  {
   "cell_type": "code",
   "execution_count": 61,
   "metadata": {
    "collapsed": false
   },
   "outputs": [
    {
     "data": {
      "text/plain": [
       "100"
      ]
     },
     "execution_count": 61,
     "metadata": {},
     "output_type": "execute_result"
    }
   ],
   "source": [
    "pct_scaffolds_covered"
   ]
  },
  {
   "cell_type": "code",
   "execution_count": 63,
   "metadata": {
    "collapsed": false
   },
   "outputs": [
    {
     "data": {
      "text/plain": [
       "'AAA255A6_96912'"
      ]
     },
     "execution_count": 63,
     "metadata": {},
     "output_type": "execute_result"
    }
   ],
   "source": [
    "sag = op.basename(gcov).split(\"_vs_\")[1].strip(\".genomecoverage\")\n",
    "sag"
   ]
  },
  {
   "cell_type": "code",
   "execution_count": 105,
   "metadata": {
    "collapsed": true
   },
   "outputs": [],
   "source": [
    "idx = ['Percent_scaffolds_with_any_coverage', 'Percent_of_reference_bases_covered', 'Average_coverage']\n",
    "d = {sag: [pct_scaffolds_covered, pct_covered, mean_sag_coverage]}"
   ]
  },
  {
   "cell_type": "code",
   "execution_count": 106,
   "metadata": {
    "collapsed": false
   },
   "outputs": [],
   "source": [
    "df = pd.DataFrame(data=d, index=idx)"
   ]
  },
  {
   "cell_type": "code",
   "execution_count": 107,
   "metadata": {
    "collapsed": false
   },
   "outputs": [
    {
     "data": {
      "text/html": [
       "<div>\n",
       "<table border=\"1\" class=\"dataframe\">\n",
       "  <thead>\n",
       "    <tr style=\"text-align: right;\">\n",
       "      <th></th>\n",
       "      <th>AAA255A6_96912</th>\n",
       "    </tr>\n",
       "  </thead>\n",
       "  <tbody>\n",
       "    <tr>\n",
       "      <th>Percent_scaffolds_with_any_coverage</th>\n",
       "      <td>100.000000</td>\n",
       "    </tr>\n",
       "    <tr>\n",
       "      <th>Percent_of_reference_bases_covered</th>\n",
       "      <td>100.000000</td>\n",
       "    </tr>\n",
       "    <tr>\n",
       "      <th>Average_coverage</th>\n",
       "      <td>2.973209</td>\n",
       "    </tr>\n",
       "  </tbody>\n",
       "</table>\n",
       "</div>"
      ],
      "text/plain": [
       "                                     AAA255A6_96912\n",
       "Percent_scaffolds_with_any_coverage      100.000000\n",
       "Percent_of_reference_bases_covered       100.000000\n",
       "Average_coverage                           2.973209"
      ]
     },
     "execution_count": 107,
     "metadata": {},
     "output_type": "execute_result"
    }
   ],
   "source": [
    "df"
   ]
  },
  {
   "cell_type": "code",
   "execution_count": null,
   "metadata": {
    "collapsed": true
   },
   "outputs": [],
   "source": []
  },
  {
   "cell_type": "code",
   "execution_count": null,
   "metadata": {
    "collapsed": true
   },
   "outputs": [],
   "source": []
  },
  {
   "cell_type": "code",
   "execution_count": null,
   "metadata": {
    "collapsed": true
   },
   "outputs": [],
   "source": []
  },
  {
   "cell_type": "code",
   "execution_count": 90,
   "metadata": {
    "collapsed": true
   },
   "outputs": [],
   "source": [
    "test_md = '103^T53C2T341'"
   ]
  },
  {
   "cell_type": "code",
   "execution_count": 91,
   "metadata": {
    "collapsed": false
   },
   "outputs": [],
   "source": [
    "def _match_len(md):\n",
    "    length=0\n",
    "    mismatch=0\n",
    "    number=\"\"\n",
    "    for i, c in enumerate(md):\n",
    "        try:\n",
    "            val = int(c)\n",
    "            number = number+c\n",
    "        except:\n",
    "            if len(number) > 0:\n",
    "                length += int(number)\n",
    "                number=\"\"\n",
    "        if i == len(md)-1:\n",
    "            length += int(number)\n",
    "    return length"
   ]
  },
  {
   "cell_type": "code",
   "execution_count": 93,
   "metadata": {
    "collapsed": false
   },
   "outputs": [],
   "source": [
    "assert _match_len(test_md) == 499"
   ]
  },
  {
   "cell_type": "code",
   "execution_count": null,
   "metadata": {
    "collapsed": true
   },
   "outputs": [],
   "source": [
    "md = str(b).split(\"\\t\")[-1].split(\",\")[3].replace(\")\",\"\").replace(\"'\",\"\").strip()  #get md value from raw sam/bam entry"
   ]
  },
  {
   "cell_type": "code",
   "execution_count": null,
   "metadata": {
    "collapsed": true
   },
   "outputs": [],
   "source": [
    "import pysam\n",
    "\n",
    "def filter_bam(bam, outbam, pctid = 95):\n",
    "    with pysam.AlignmentFile(bam, \"rb\") as ih, pysam.AlignmentFile(outbam, \"wb\", template=ih) as oh:\n",
    "        good = 0\n",
    "        total = 0\n",
    "        for i, l in enumerate(ih):\n",
    "            if l.is_duplicate:\n",
    "                continue\n",
    "\n",
    "            total += 1\n",
    "            md = str(l).split(\"\\t\")[-1].split(\",\")[3].replace(\")\",\"\").replace(\"'\",\"\").strip()  #get md value from raw bam entry\n",
    "            match = match_len(md)\n",
    "            pct_match = (match)/l.rlen * 100\n",
    "\n",
    "            if pct_match > pctid:\n",
    "                good += 1\n",
    "                oh.write(l)\n",
    "        print(\"there were %s good read alignments out of %s total alignments\" % (good, total))"
   ]
  }
 ],
 "metadata": {
  "kernelspec": {
   "display_name": "Python 2",
   "language": "python",
   "name": "python2"
  },
  "language_info": {
   "codemirror_mode": {
    "name": "ipython",
    "version": 2
   },
   "file_extension": ".py",
   "mimetype": "text/x-python",
   "name": "python",
   "nbconvert_exporter": "python",
   "pygments_lexer": "ipython2",
   "version": "2.7.11"
  }
 },
 "nbformat": 4,
 "nbformat_minor": 0
}
