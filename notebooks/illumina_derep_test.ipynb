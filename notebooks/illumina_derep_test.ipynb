{
 "cells": [
  {
   "cell_type": "code",
   "execution_count": null,
   "metadata": {
    "collapsed": true
   },
   "outputs": [],
   "source": [
    "outfile = \"illumina_joined_1M_derep.fastq\"\n",
    "infile = \"illumina_joined_gt150_1M.fastq.gz\"\n",
    "\n",
    "\n",
    "readset = set()\n",
    "seqcount=0\n",
    "uniquecount=0\n",
    "\n",
    "with open(outfile, \"w\") as oh:\n",
    "    for name, seq, qual in readfx(infile):\n",
    "        seqcount += 1\n",
    "        if seq not in readset:\n",
    "            uniquecount += 1\n",
    "            readset.add(seq)\n",
    "            print(\"@%s\\n%s\\n+\\n%s\\n\" % (name, seq, qual), file=oh)"
   ]
  },
  {
   "cell_type": "code",
   "execution_count": null,
   "metadata": {
    "collapsed": true
   },
   "outputs": [],
   "source": []
  }
 ],
 "metadata": {
  "kernelspec": {
   "display_name": "Python 2",
   "language": "python",
   "name": "python2"
  },
  "language_info": {
   "codemirror_mode": {
    "name": "ipython",
    "version": 2
   },
   "file_extension": ".py",
   "mimetype": "text/x-python",
   "name": "python",
   "nbconvert_exporter": "python",
   "pygments_lexer": "ipython2",
   "version": "2.7.11"
  }
 },
 "nbformat": 4,
 "nbformat_minor": 0
}
