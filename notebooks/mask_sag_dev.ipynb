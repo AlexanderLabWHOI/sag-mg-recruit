{
 "cells": [
  {
   "cell_type": "code",
   "execution_count": 31,
   "metadata": {
    "collapsed": true
   },
   "outputs": [],
   "source": [
    "from __future__ import print_function"
   ]
  },
  {
   "cell_type": "code",
   "execution_count": 32,
   "metadata": {
    "collapsed": true
   },
   "outputs": [],
   "source": [
    "sagpath = \"../data/big_data/96009.gbk\""
   ]
  },
  {
   "cell_type": "code",
   "execution_count": 108,
   "metadata": {
    "collapsed": false,
    "scrolled": true
   },
   "outputs": [
    {
     "name": "stdout",
     "output_type": "stream",
     "text": [
      "type: rRNA\n",
      "location: [7663:9127](+)\n",
      "qualifiers:\n",
      "    Key: gene, Value: ['16S']\n",
      "    Key: locus_tag, Value: ['A255N14DRAFT_00060']\n",
      "    Key: note, Value: ['IMG gene_oid=2265072471']\n",
      "    Key: product, Value: ['16S rRNA. Bacterial SSU']\n",
      "\n"
     ]
    }
   ],
   "source": [
    "from Bio import SeqIO\n",
    "\n",
    "with open(sagpath, \"rU\") as input_handle, open(\"../data/big_data/96009_jmask.fasta\", \"w\") as oh:\n",
    "    for r in SeqIO.parse(input_handle, \"genbank\"):\n",
    "        print(\">\", r.name, sep=\"\", file=oh)\n",
    "        s = r.seq\n",
    "        cloc = []\n",
    "        masked = \"\"\n",
    "        for i, f in enumerate(r.features):\n",
    "            if f.type == \"rRNA\":\n",
    "                if \"16S\" in str(f.qualifiers['gene']).upper() or \"23S\" in str(f.qualifiers['gene']).upper():\n",
    "                    print(f)\n",
    "                    cloc.append(f.location)\n",
    "        if len(cloc) == 1:\n",
    "            masked += s[0:cloc[0].start-1]\n",
    "            masked += 'N'*(cloc[0].end - cloc[0].start)\n",
    "            masked += s[cloc[0].end-1:]\n",
    "        elif len(cloc) > 1:\n",
    "            print(len(cloc))\n",
    "            for i in range(0, len(cloc)):\n",
    "                if i == 0:\n",
    "                    masked += s[0:cloc[i].start-1]\n",
    "                    masked += 'N'*(cloc[i].end - cloc[i].start)\n",
    "                elif i == len(cloc)-1:\n",
    "                    masked += s[cloc[i-1].end-1:cloc[i].start-1]\n",
    "                    masked += 'N'*(cloc[i].end - cloc[i].start)\n",
    "                    masked += s[cloc[i].end:]\n",
    "                else:\n",
    "                    masked += s[cloc[i-1].end-1:cloc[i].start-1]\n",
    "                    masked += 'N'*(cloc[i].end - cloc[i].start)\n",
    "        else:\n",
    "            masked = s\n",
    "\n",
    "        for i in range(0, len(masked), 80):\n",
    "            print(masked[i:i+80], file=oh)"
   ]
  },
  {
   "cell_type": "code",
   "execution_count": 109,
   "metadata": {
    "collapsed": true
   },
   "outputs": [],
   "source": [
    "def mask_sag(input_gb, out_fasta):\n",
    "    with open(input_gb, \"rU\") as input_handle, open(out_fasta, \"w\") as oh:\n",
    "        for r in SeqIO.parse(input_handle, \"genbank\"):\n",
    "            print(\">\", r.name, sep=\"\", file=oh)\n",
    "            s = r.seq\n",
    "            cloc = []\n",
    "            masked = \"\"\n",
    "            for i, f in enumerate(r.features):\n",
    "                if f.type == \"rRNA\":\n",
    "                    if \"16S\" in str(f.qualifiers['gene']).upper() or \"23S\" in str(f.qualifiers['gene']).upper():\n",
    "                        print(f)\n",
    "                        cloc.append(f.location)\n",
    "            print(cloc)\n",
    "            if len(cloc) == 1:\n",
    "                masked += s[0:cloc[0].start-1]\n",
    "                masked += 'N'*(cloc[0].end - cloc[0].start)\n",
    "                masked += s[cloc[0].end-1:]\n",
    "            elif len(cloc) > 1:\n",
    "                print(len(cloc))\n",
    "                for i in range(0, len(cloc)):\n",
    "                    if i == 0:\n",
    "                        masked += s[0:cloc[i].start-1]\n",
    "                        masked += 'N'*(cloc[i].end - cloc[i].start)\n",
    "                    elif i == len(cloc)-1:\n",
    "                        masked += s[cloc[i-1].end-1:cloc[i].start-1]\n",
    "                        masked += 'N'*(cloc[i].end - cloc[i].start)\n",
    "                        masked += s[cloc[i].end:]\n",
    "                    else:\n",
    "                        masked += s[cloc[i-1].end-1:cloc[i].start-1]\n",
    "                        masked += 'N'*(cloc[i].end - cloc[i].start)\n",
    "            else:\n",
    "                masked = s\n",
    "\n",
    "            for i in range(0, len(masked), 80):\n",
    "                print(masked[i:i+80], file=oh)\n",
    "    return out_fasta"
   ]
  },
  {
   "cell_type": "code",
   "execution_count": 112,
   "metadata": {
    "collapsed": false
   },
   "outputs": [
    {
     "data": {
      "text/plain": [
       "'test.out'"
      ]
     },
     "execution_count": 112,
     "metadata": {},
     "output_type": "execute_result"
    }
   ],
   "source": [
    "mask_sag(\"../data/big_data/96652_jmask.fasta\", \"test.out\")"
   ]
  },
  {
   "cell_type": "code",
   "execution_count": 113,
   "metadata": {
    "collapsed": true
   },
   "outputs": [],
   "source": [
    "!open test.out"
   ]
  },
  {
   "cell_type": "code",
   "execution_count": 58,
   "metadata": {
    "collapsed": false
   },
   "outputs": [
    {
     "name": "stdout",
     "output_type": "stream",
     "text": [
      "7663\n",
      "9127\n",
      "1\n"
     ]
    }
   ],
   "source": [
    "print(ft.location.start)\n",
    "print(ft.location.end)\n",
    "print(ft.location.strand)"
   ]
  },
  {
   "cell_type": "code",
   "execution_count": 30,
   "metadata": {
    "collapsed": true
   },
   "outputs": [],
   "source": [
    "!open ../data/big_data/96009.gbk -a textedit"
   ]
  },
  {
   "cell_type": "code",
   "execution_count": null,
   "metadata": {
    "collapsed": true
   },
   "outputs": [],
   "source": []
  }
 ],
 "metadata": {
  "kernelspec": {
   "display_name": "Python 2",
   "language": "python",
   "name": "python2"
  },
  "language_info": {
   "codemirror_mode": {
    "name": "ipython",
    "version": 2
   },
   "file_extension": ".py",
   "mimetype": "text/x-python",
   "name": "python",
   "nbconvert_exporter": "python",
   "pygments_lexer": "ipython2",
   "version": "2.7.11"
  }
 },
 "nbformat": 4,
 "nbformat_minor": 0
}
