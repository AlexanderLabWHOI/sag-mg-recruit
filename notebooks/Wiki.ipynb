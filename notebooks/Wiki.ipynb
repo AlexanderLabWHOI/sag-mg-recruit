{
 "cells": [
  {
   "cell_type": "markdown",
   "metadata": {},
   "source": [
    "Naming conventions need to be recorded to make coding this easier to do.\n",
    "\n",
    "Metagenome names:\n",
    "\n",
    ">* Metagenomes are expected to be in fastq format to begin with. \n",
    "\n",
    ">* If paired metagenomes are provided, they should follow general naming conventions such that paired read libraries can be identified by bioinformatics software\n",
    "\n",
    ">* Metagenome names will be recorded as the text preceding the first \".\" in the filename\n",
    "\n",
    "SAG names:\n",
    "\n",
    ">* SAG names will follow the same convention as Metagenome names and will be all of the text preceding the first \".\" in the SAG name.  "
   ]
  },
  {
   "cell_type": "code",
   "execution_count": null,
   "metadata": {
    "collapsed": true
   },
   "outputs": [],
   "source": []
  }
 ],
 "metadata": {
  "kernelspec": {
   "display_name": "Python 2",
   "language": "python",
   "name": "python2"
  },
  "language_info": {
   "codemirror_mode": {
    "name": "ipython",
    "version": 2
   },
   "file_extension": ".py",
   "mimetype": "text/x-python",
   "name": "python",
   "nbconvert_exporter": "python",
   "pygments_lexer": "ipython2",
   "version": "2.7.11"
  }
 },
 "nbformat": 4,
 "nbformat_minor": 0
}
