{
 "cells": [
  {
   "cell_type": "code",
   "execution_count": 24,
   "metadata": {
    "collapsed": false
   },
   "outputs": [],
   "source": [
    "from __future__ import print_function\n",
    "from __future__ import division\n",
    "\n",
    "import subprocess\n",
    "import os\n",
    "import sys\n",
    "import pandas as pd\n",
    "from itertools import groupby\n",
    "import click\n",
    "import os.path as op\n",
    "import logging\n",
    "import shutil\n",
    "import gzip\n",
    "import pysam\n",
    "from Bio import SeqIO\n",
    "\n",
    "\n",
    "\n",
    "# SAG functions\n",
    "def mask_sag(input_gb, out_fasta):\n",
    "    '''output masked contigs with rRNA changed to 'N's\n",
    "    Args:\n",
    "        input_gb (str): path to annotated input genbank formatted genome\n",
    "        out_fasta (str): where to write the output fasta to\n",
    "    Returns:\n",
    "        fasta file with rRNA regions masked with 'N's\n",
    "        out_fasta (str)\n",
    "    '''\n",
    "    #if input_gb.endswith(\".gb\") == False or input_gb.endswith(\".gbk\") == False:\n",
    "    #    logger.error(\"input file does not appear to be in genbank format.  Please check.\")\n",
    "    #    return None\n",
    "\n",
    "    with open(input_gb, \"rU\") as input_handle, open(out_fasta, \"w\") as oh:\n",
    "        rrna_count = 0\n",
    "        for r in SeqIO.parse(input_handle, \"genbank\"):\n",
    "            print(\">\", r.name, sep=\"\", file=oh)\n",
    "            s = r.seq\n",
    "            cloc = []\n",
    "            masked = \"\"\n",
    "            for f in r.features:\n",
    "                if f.type == \"rRNA\" or f.type == \"RNA\":\n",
    "                    if ('gene' in f.qualifiers and \n",
    "                       (\"16S\" in str(f.qualifiers['gene']).upper() or \n",
    "                        \"23S\" in str(f.qualifiers['gene']).upper() or \n",
    "                        \"Subunit Ribosomal RNA\" in str(f.qualifiers['gene']).upper() or\n",
    "                        \"suRNA\" in str(f.qualifiers['gene']).upper())):\n",
    "                            cloc.append(f.location)    # if the 'type' is rRNA, it should be masked... don't have to check for 16 or 23S\n",
    "                            print('rRNA gene found on contig %s' % r.name)\n",
    "                            rrna_count += 1      \n",
    "                    elif ('product' in f.qualifiers and \n",
    "                         (\"16S\" in str(f.qualifiers['product']).upper() or \n",
    "                        \"23S\" in str(f.qualifiers['product']).upper() or \n",
    "                        \"Subunit Ribosomal RNA\".upper() in str(f.qualifiers['product']).upper() or\n",
    "                        \"suRNA\".upper() in str(f.qualifiers['product']).upper())):\n",
    "                        #print(f)\n",
    "                            cloc.append(f.location)    # if the 'type' is rRNA, it should be masked... don't have to check for 16 or 23S\n",
    "                            print('rRNA gene found on contig %s' % r.name)\n",
    "                            rrna_count += 1\n",
    "                    #else:\n",
    "                        #print(f)\n",
    "\n",
    "            # if the contig contains one rRNA gene (most common if rRNA present)\n",
    "            if len(cloc) == 1:\n",
    "                masked += s[0:cloc[0].start-1]\n",
    "                masked += 'N'*(cloc[0].end - cloc[0].start)\n",
    "                masked += s[cloc[0].end-1:]\n",
    "            # probably won't be instances where below is true\n",
    "            elif len(cloc) > 1:\n",
    "                for i in range(0, len(cloc)):\n",
    "                    # if it's the first entry\n",
    "                    if i == 0:\n",
    "                        masked += s[0:cloc[i].start-1]\n",
    "                        masked += 'N'*(cloc[i].end - cloc[i].start)\n",
    "                    # if it's the last entry\n",
    "                    elif i == len(cloc)-1:\n",
    "                        masked += s[cloc[i-1].end-1:cloc[i].start-1]\n",
    "                        masked += 'N'*(cloc[i].end - cloc[i].start)\n",
    "                        masked += s[cloc[i].end:]\n",
    "                    else:\n",
    "                        masked += s[cloc[i-1].end-1:cloc[i].start-1]\n",
    "                        masked += 'N'*(cloc[i].end - cloc[i].start)\n",
    "            # if no rRNA on contig, just return the sequence, unmasked\n",
    "            else:\n",
    "                masked = s\n",
    "\n",
    "            for i in range(0, len(masked), 80):\n",
    "                print(masked[i:i+80], file=oh)\n",
    "    print('%s rRNA genes found in %s' % (rrna_count, op.basename(input_gb)))\n",
    "    return out_fasta"
   ]
  },
  {
   "cell_type": "code",
   "execution_count": 4,
   "metadata": {
    "collapsed": true
   },
   "outputs": [],
   "source": [
    "os.mkdir(\"../data/test_outfasta\")"
   ]
  },
  {
   "cell_type": "code",
   "execution_count": 5,
   "metadata": {
    "collapsed": false
   },
   "outputs": [
    {
     "name": "stdout",
     "output_type": "stream",
     "text": [
      "rRNA gene found on contig A288L16DRAFT_2505696051.7\n",
      "rRNA gene found on contig A288L16DRAFT_2505696051.7\n",
      "2 rRNA genes found in AAA288-L16_JGI.gbk\n"
     ]
    },
    {
     "name": "stderr",
     "output_type": "stream",
     "text": [
      "//anaconda/lib/python2.7/site-packages/Bio/GenBank/Scanner.py:1023: BiopythonParserWarning: Invalid indentation for sequence line\n",
      "  BiopythonParserWarning)\n"
     ]
    },
    {
     "data": {
      "text/plain": [
       "'../data/test_outfasta/AAA288-L16_JGI.fasta'"
      ]
     },
     "execution_count": 5,
     "metadata": {},
     "output_type": "execute_result"
    }
   ],
   "source": [
    "mask_sag(\"../data/gbks/AAA288-L16_JGI.gbk\", \"../data/test_outfasta/AAA288-L16_JGI.fasta\")"
   ]
  },
  {
   "cell_type": "code",
   "execution_count": 26,
   "metadata": {
    "collapsed": false
   },
   "outputs": [
    {
     "name": "stdout",
     "output_type": "stream",
     "text": [
      "rRNA gene found on contig AB-679-I05_NODE_5_length_29376_cov_49.753_ID_9\n",
      "rRNA gene found on contig AB-679-I05_NODE_5_length_29376_cov_49.753_ID_9\n",
      "2 rRNA genes found in AB-679-I05_RAST.gbk\n"
     ]
    },
    {
     "data": {
      "text/plain": [
       "'../data/test_outfasta/AB-679-I05_RAST.fasta'"
      ]
     },
     "execution_count": 26,
     "metadata": {},
     "output_type": "execute_result"
    }
   ],
   "source": [
    "mask_sag(\"../data/gbks/AB-679-I05_RAST.gbk\", \"../data/test_outfasta/AB-679-I05_RAST.fasta\")"
   ]
  },
  {
   "cell_type": "markdown",
   "metadata": {},
   "source": [
    "There should be two rRNA genes (for SSU and LSU), and one 5S subunit..."
   ]
  },
  {
   "cell_type": "code",
   "execution_count": 27,
   "metadata": {
    "collapsed": false
   },
   "outputs": [
    {
     "name": "stdout",
     "output_type": "stream",
     "text": [
      "rRNA gene found on contig NZ_HG422173\n",
      "rRNA gene found on contig NZ_HG422173\n",
      "2 rRNA genes found in Nitrospina_gracilis_Genbank.gbff\n"
     ]
    },
    {
     "data": {
      "text/plain": [
       "'../data/test_outfasta/Nitrospina_gracilis_Genbank.fasta'"
      ]
     },
     "execution_count": 27,
     "metadata": {},
     "output_type": "execute_result"
    }
   ],
   "source": [
    "mask_sag(\"../data/gbks/Nitrospina_gracilis_Genbank.gbff\", \"../data/test_outfasta/Nitrospina_gracilis_Genbank.fasta\")"
   ]
  },
  {
   "cell_type": "code",
   "execution_count": 23,
   "metadata": {
    "collapsed": false
   },
   "outputs": [
    {
     "name": "stdout",
     "output_type": "stream",
     "text": [
      "['Small Subunit Ribosomal RNA; ssuRNA; SSU rRNA']\n",
      "rRNA gene found on contig AB-679-I05_NODE_5_length_29376_cov_49.753_ID_9\n",
      "['Large Subunit Ribosomal RNA; lsuRNA; LSU rRNA']\n",
      "rRNA gene found on contig AB-679-I05_NODE_5_length_29376_cov_49.753_ID_9\n",
      "2\n"
     ]
    }
   ],
   "source": [
    "input_gb = \"../data/gbks/AB-679-I05_RAST.gbk\"\n",
    "with open(input_gb, \"rU\") as input_handle:#, open(out_fasta, \"w\") as oh:\n",
    "    rrna_count = 0\n",
    "    for r in SeqIO.parse(input_handle, \"genbank\"):\n",
    "        #print(\">\", r.name, sep=\"\", file=oh)\n",
    "        s = r.seq\n",
    "        cloc = []\n",
    "        masked = \"\"\n",
    "        for f in r.features:\n",
    "            if f.type == \"rRNA\" or f.type == \"RNA\":\n",
    "                if ('gene' in f.qualifiers and \n",
    "                   (\"16S\" in str(f.qualifiers['gene']).upper() or \n",
    "                    \"23S\" in str(f.qualifiers['gene']).upper() or \n",
    "                    \"Subunit Ribosomal RNA\" in str(f.qualifiers['gene']).upper() or\n",
    "                    \"suRNA\" in str(f.qualifiers['gene']).upper())):\n",
    "                        \n",
    "                    print('rRNA gene found on contig %s' % r.name)\n",
    "                    rrna_count += 1      \n",
    "                elif 'product' in f.qualifiers and 'Subunit Ribosomal RNA' in str(f.qualifiers['product']):\n",
    "                    print(str(f.qualifiers['product']))\n",
    "                    #print(f)\n",
    "                    \n",
    "                    print('rRNA gene found on contig %s' % r.name)\n",
    "                    rrna_count += 1\n",
    "    print(rrna_count)"
   ]
  },
  {
   "cell_type": "code",
   "execution_count": null,
   "metadata": {
    "collapsed": true
   },
   "outputs": [],
   "source": []
  }
 ],
 "metadata": {
  "kernelspec": {
   "display_name": "Python 2",
   "language": "python",
   "name": "python2"
  },
  "language_info": {
   "codemirror_mode": {
    "name": "ipython",
    "version": 2
   },
   "file_extension": ".py",
   "mimetype": "text/x-python",
   "name": "python",
   "nbconvert_exporter": "python",
   "pygments_lexer": "ipython2",
   "version": "2.7.12"
  }
 },
 "nbformat": 4,
 "nbformat_minor": 0
}
