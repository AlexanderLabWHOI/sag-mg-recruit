{
 "cells": [
  {
   "cell_type": "markdown",
   "metadata": {},
   "source": [
    "Testing the full pipeline on three mgs from the human microbiome project (hmp) recruited to an E. coli SAG.  There may not be great recruitment at our stringent thresholds, but I'll give it a try anyway.\n",
    "\n",
    "```\n",
    "$ python ~/scripts/sag_mg_recruit.py --help\n",
    "```\n",
    "\n",
    "```\n",
    "Usage: sag_mg_recruit.py [OPTIONS] INPUT_MG_TABLE INPUT_SAG_LIST\n",
    "\n",
    "Options:\n",
    "  --outdir TEXT     directory location to place output files\n",
    "  --cores INTEGER   number of cores to run on\n",
    "  --mmd FLOAT       for join step: mismatch density for join step in mg\n",
    "                    processing\n",
    "  --mino INTEGER    for join step: minimum overlap for join step\n",
    "  --maxo INTEGER    for join step: maximum overlap for join step\n",
    "  --minlen INTEGER  for metagenomes: minimum read length\n",
    "  --pctid INTEGER   for alignment: minimum percent identity to keep\n",
    "  --log TEXT        name of log file for this process\n",
    "  -h, --help        Show this message and exit.\n",
    "```\n"
   ]
  },
  {
   "cell_type": "code",
   "execution_count": 1,
   "metadata": {
    "collapsed": false
   },
   "outputs": [
    {
     "name": "stdout",
     "output_type": "stream",
     "text": [
      "\r",
      "mg_hmp_test.csv                                 0%    0     0.0KB/s   --:-- ETA\r",
      "mg_hmp_test.csv                               100% 1175     1.2KB/s   00:00    \r\n"
     ]
    }
   ],
   "source": [
    "!scp ../mg_hmp_test.csv charlie:/mnt/stepanauskas_nfs/julia/fragdev/"
   ]
  },
  {
   "cell_type": "markdown",
   "metadata": {},
   "source": [
    "```\n",
    "julia at charlie in /mnt/stepanauskas_nfs/julia/fragdev\n",
    "$ ls sag_qc_test/ecoli_sag_masked.fasta > ptest_saglist.txt\n",
    "```"
   ]
  },
  {
   "cell_type": "markdown",
   "metadata": {},
   "source": [
    "```\n",
    "python ~/scripts/sag_mg_recruit.py --outdir pipeline_160701 --cores 20 --log ptest.log mg_hmp_test.csv ptest_saglist.txt\n",
    "```"
   ]
  },
  {
   "cell_type": "code",
   "execution_count": null,
   "metadata": {
    "collapsed": true
   },
   "outputs": [],
   "source": []
  }
 ],
 "metadata": {
  "kernelspec": {
   "display_name": "Python 2",
   "language": "python",
   "name": "python2"
  },
  "language_info": {
   "codemirror_mode": {
    "name": "ipython",
    "version": 2
   },
   "file_extension": ".py",
   "mimetype": "text/x-python",
   "name": "python",
   "nbconvert_exporter": "python",
   "pygments_lexer": "ipython2",
   "version": "2.7.11"
  }
 },
 "nbformat": 4,
 "nbformat_minor": 0
}
