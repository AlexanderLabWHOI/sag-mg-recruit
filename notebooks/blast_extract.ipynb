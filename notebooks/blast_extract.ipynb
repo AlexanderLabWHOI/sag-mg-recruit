{
 "cells": [
  {
   "cell_type": "code",
   "execution_count": 1,
   "metadata": {
    "collapsed": false
   },
   "outputs": [],
   "source": [
    "from __future__ import print_function\n",
    "from collections import defaultdict\n",
    "import pandas as pd"
   ]
  },
  {
   "cell_type": "code",
   "execution_count": 4,
   "metadata": {
    "collapsed": false
   },
   "outputs": [
    {
     "data": {
      "text/plain": [
       "['qseqid',\n",
       " 'sseqid',\n",
       " 'qstart',\n",
       " 'qend',\n",
       " 'sstart',\n",
       " 'send',\n",
       " 'pident',\n",
       " 'length',\n",
       " 'evalue',\n",
       " 'bitscore',\n",
       " 'score',\n",
       " 'nident',\n",
       " 'mismatch',\n",
       " 'gaps']"
      ]
     },
     "execution_count": 4,
     "metadata": {},
     "output_type": "execute_result"
    }
   ],
   "source": [
    "blast = \"../data/blasts/20160218_CrabSpaLVP_Blast.csv\"\n",
    "header = \"qseqid sseqid qstart qend sstart send pident length evalue bitscore score nident mismatch gaps\"\n",
    "heads = header.split(\" \")\n",
    "heads"
   ]
  },
  {
   "cell_type": "code",
   "execution_count": 11,
   "metadata": {
    "collapsed": false
   },
   "outputs": [],
   "source": [
    "sag_file = \"./data/CrabSpa_SAG-genomes.csv\"\n",
    "mgf = \"./data/LVP-metagenomes.csv\"\n",
    "saglist = []\n",
    "mglist = []\n",
    "\n",
    "with open(sag_file) as infile:\n",
    "    for i, l in enumerate(infile):\n",
    "        if i > 0:\n",
    "            saglist.append(l.split(\",\")[0])\n",
    "        \n",
    "with open(mgf) as infile:\n",
    "    for i, l in enumerate(infile):\n",
    "        if i > 0:\n",
    "            mglist.append(l.split(\",\")[0])"
   ]
  },
  {
   "cell_type": "code",
   "execution_count": 20,
   "metadata": {
    "collapsed": false
   },
   "outputs": [
    {
     "data": {
      "text/plain": [
       "['CrabSpaLVP2', 'CrabSpaLVP4', 'TeddyBearLVP5', 'TeddyBearLVP8']"
      ]
     },
     "execution_count": 20,
     "metadata": {},
     "output_type": "execute_result"
    }
   ],
   "source": [
    "mglist"
   ]
  },
  {
   "cell_type": "code",
   "execution_count": 15,
   "metadata": {
    "collapsed": false
   },
   "outputs": [
    {
     "name": "stdout",
     "output_type": "stream",
     "text": [
      "0:qseqid\n",
      "1:sseqid\n",
      "2:qstart\n",
      "3:qend\n",
      "4:sstart\n",
      "5:send\n",
      "6:pident\n",
      "7:length\n",
      "8:evalue\n",
      "9:bitscore\n",
      "10:score\n",
      "11:nident\n",
      "12:mismatch\n",
      "13:gaps\n"
     ]
    }
   ],
   "source": [
    "for i, h in enumerate(heads):\n",
    "    print(\"{i}:{h}\".format(**locals()))"
   ]
  },
  {
   "cell_type": "code",
   "execution_count": 5,
   "metadata": {
    "collapsed": false
   },
   "outputs": [],
   "source": [
    "pident_thresh = 95\n",
    "len_thresh = 150\n",
    "\n",
    "hitdict = defaultdict(lambda: 0)\n",
    "\n",
    "with open(blast) as infile:\n",
    "    for i, line in enumerate(infile):\n",
    "        vec = line.split(\",\")\n",
    "        mg = vec[0].split(\"_\")[0]\n",
    "        sag = vec[1].split(\"_\")[0]\n",
    "        pident = vec[6]\n",
    "        length = vec[7]\n",
    "        if float(pident) >= pident_thresh and float(length) >= len_thresh:\n",
    "            hitdict[\"{mg}_{sag}\".format(**locals())] += 1"
   ]
  },
  {
   "cell_type": "code",
   "execution_count": 7,
   "metadata": {
    "collapsed": false
   },
   "outputs": [],
   "source": [
    "with open(\"../data/blast_hits_95pct_150len.txt\",\"w\") as oh:\n",
    "    for e in hitdict:\n",
    "        mg = e.split(\"_\")[0][-4:]\n",
    "        sag = e.split(\"_\")[1]\n",
    "\n",
    "        print(e, mg, sag, hitdict[e], sep=\"\\t\", file=oh)"
   ]
  },
  {
   "cell_type": "code",
   "execution_count": 9,
   "metadata": {
    "collapsed": false
   },
   "outputs": [],
   "source": [
    "!open ../data/blast_hits_95pct_150len.txt "
   ]
  }
 ],
 "metadata": {
  "kernelspec": {
   "display_name": "Python 2",
   "language": "python",
   "name": "python2"
  },
  "language_info": {
   "codemirror_mode": {
    "name": "ipython",
    "version": 2
   },
   "file_extension": ".py",
   "mimetype": "text/x-python",
   "name": "python",
   "nbconvert_exporter": "python",
   "pygments_lexer": "ipython2",
   "version": "2.7.11"
  }
 },
 "nbformat": 4,
 "nbformat_minor": 0
}
