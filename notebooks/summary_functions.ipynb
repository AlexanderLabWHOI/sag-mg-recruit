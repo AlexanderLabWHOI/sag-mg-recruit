{
 "cells": [
  {
   "cell_type": "code",
   "execution_count": null,
   "metadata": {
    "collapsed": true
   },
   "outputs": [],
   "source": [
    "def concatenate_fastas(fastalist, outfasta):\n",
    "    with open(outfasta, \"w\") as oh:\n",
    "        for s in fastalist:\n",
    "            for name, seq in read_fasta(s):\n",
    "                print(\">\"+name, file=oh)\n",
    "                for i in range(0, len(seq), 80):\n",
    "                    print(seq[i:i+80], file=oh)\n",
    "    return outfasta\n",
    "\n"
   ]
  }
 ],
 "metadata": {
  "kernelspec": {
   "display_name": "Python 2",
   "language": "python",
   "name": "python2"
  },
  "language_info": {
   "codemirror_mode": {
    "name": "ipython",
    "version": 2
   },
   "file_extension": ".py",
   "mimetype": "text/x-python",
   "name": "python",
   "nbconvert_exporter": "python",
   "pygments_lexer": "ipython2",
   "version": "2.7.11"
  }
 },
 "nbformat": 4,
 "nbformat_minor": 0
}
