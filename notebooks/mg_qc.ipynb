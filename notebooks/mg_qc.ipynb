{
 "cells": [
  {
   "cell_type": "code",
   "execution_count": 3,
   "metadata": {
    "collapsed": true
   },
   "outputs": [],
   "source": [
    "import pandas as pd\n",
    "import os.path as op\n",
    "import os"
   ]
  },
  {
   "cell_type": "code",
   "execution_count": null,
   "metadata": {
    "collapsed": true
   },
   "outputs": [],
   "source": []
  },
  {
   "cell_type": "code",
   "execution_count": null,
   "metadata": {
    "collapsed": true
   },
   "outputs": [],
   "source": []
  },
  {
   "cell_type": "code",
   "execution_count": 12,
   "metadata": {
    "collapsed": true
   },
   "outputs": [],
   "source": [
    "dfile = \"../mg_template.csv\"\n",
    "outdir = \"../data/out/\""
   ]
  },
  {
   "cell_type": "code",
   "execution_count": 27,
   "metadata": {
    "collapsed": false
   },
   "outputs": [
    {
     "data": {
      "text/html": [
       "<div>\n",
       "<table border=\"1\" class=\"dataframe\">\n",
       "  <thead>\n",
       "    <tr style=\"text-align: right;\">\n",
       "      <th></th>\n",
       "      <th>name</th>\n",
       "      <th>mg_f</th>\n",
       "      <th>mg_r</th>\n",
       "      <th>wgs_technology</th>\n",
       "      <th>join</th>\n",
       "    </tr>\n",
       "  </thead>\n",
       "  <tbody>\n",
       "    <tr>\n",
       "      <th>0</th>\n",
       "      <td>OV-2_P2_metagenome</td>\n",
       "      <td>/mnt/stepanauskas_nfs/ebecraft/OV2_metagenome/...</td>\n",
       "      <td>None</td>\n",
       "      <td>illumina</td>\n",
       "      <td>True</td>\n",
       "    </tr>\n",
       "    <tr>\n",
       "      <th>1</th>\n",
       "      <td>OV-2_P3_metagenome</td>\n",
       "      <td>/mnt/stepanauskas_nfs/ebecraft/OV2_metagenome/...</td>\n",
       "      <td>None</td>\n",
       "      <td>illumina</td>\n",
       "      <td>True</td>\n",
       "    </tr>\n",
       "    <tr>\n",
       "      <th>2</th>\n",
       "      <td>FAKE_MG</td>\n",
       "      <td>/mnt/stepanauskas/fakemg.fastq.gz</td>\n",
       "      <td>None</td>\n",
       "      <td>Illumina</td>\n",
       "      <td>False</td>\n",
       "    </tr>\n",
       "  </tbody>\n",
       "</table>\n",
       "</div>"
      ],
      "text/plain": [
       "                 name                                               mg_f  \\\n",
       "0  OV-2_P2_metagenome  /mnt/stepanauskas_nfs/ebecraft/OV2_metagenome/...   \n",
       "1  OV-2_P3_metagenome  /mnt/stepanauskas_nfs/ebecraft/OV2_metagenome/...   \n",
       "2             FAKE_MG                  /mnt/stepanauskas/fakemg.fastq.gz   \n",
       "\n",
       "   mg_r wgs_technology   join  \n",
       "0  None       illumina   True  \n",
       "1  None       illumina   True  \n",
       "2  None       Illumina  False  "
      ]
     },
     "execution_count": 27,
     "metadata": {},
     "output_type": "execute_result"
    }
   ],
   "source": [
    "df = pd.read_csv(dfile)\n",
    "df"
   ]
  },
  {
   "cell_type": "code",
   "execution_count": 31,
   "metadata": {
    "collapsed": false
   },
   "outputs": [
    {
     "name": "stdout",
     "output_type": "stream",
     "text": [
      "OV-2_P2_metagenome\n",
      "OV-2_P3_metagenome\n"
     ]
    },
    {
     "data": {
      "text/html": [
       "<div>\n",
       "<table border=\"1\" class=\"dataframe\">\n",
       "  <thead>\n",
       "    <tr style=\"text-align: right;\">\n",
       "      <th></th>\n",
       "      <th>name</th>\n",
       "      <th>mg_f</th>\n",
       "      <th>mg_r</th>\n",
       "      <th>wgs_technology</th>\n",
       "      <th>join</th>\n",
       "      <th>to_recruit</th>\n",
       "    </tr>\n",
       "  </thead>\n",
       "  <tbody>\n",
       "    <tr>\n",
       "      <th>0</th>\n",
       "      <td>OV-2_P2_metagenome</td>\n",
       "      <td>/mnt/stepanauskas_nfs/ebecraft/OV2_metagenome/...</td>\n",
       "      <td>None</td>\n",
       "      <td>illumina</td>\n",
       "      <td>True</td>\n",
       "      <td>../data/out/OV-2_P2_metagenome.extendedFrags.f...</td>\n",
       "    </tr>\n",
       "    <tr>\n",
       "      <th>1</th>\n",
       "      <td>OV-2_P3_metagenome</td>\n",
       "      <td>/mnt/stepanauskas_nfs/ebecraft/OV2_metagenome/...</td>\n",
       "      <td>None</td>\n",
       "      <td>illumina</td>\n",
       "      <td>True</td>\n",
       "      <td>../data/out/OV-2_P3_metagenome.extendedFrags.f...</td>\n",
       "    </tr>\n",
       "    <tr>\n",
       "      <th>2</th>\n",
       "      <td>FAKE_MG</td>\n",
       "      <td>/mnt/stepanauskas/fakemg.fastq.gz</td>\n",
       "      <td>None</td>\n",
       "      <td>Illumina</td>\n",
       "      <td>False</td>\n",
       "      <td>/mnt/stepanauskas/fakemg.fastq.gz</td>\n",
       "    </tr>\n",
       "  </tbody>\n",
       "</table>\n",
       "</div>"
      ],
      "text/plain": [
       "                 name                                               mg_f  \\\n",
       "0  OV-2_P2_metagenome  /mnt/stepanauskas_nfs/ebecraft/OV2_metagenome/...   \n",
       "1  OV-2_P3_metagenome  /mnt/stepanauskas_nfs/ebecraft/OV2_metagenome/...   \n",
       "2             FAKE_MG                  /mnt/stepanauskas/fakemg.fastq.gz   \n",
       "\n",
       "   mg_r wgs_technology   join  \\\n",
       "0  None       illumina   True   \n",
       "1  None       illumina   True   \n",
       "2  None       Illumina  False   \n",
       "\n",
       "                                          to_recruit  \n",
       "0  ../data/out/OV-2_P2_metagenome.extendedFrags.f...  \n",
       "1  ../data/out/OV-2_P3_metagenome.extendedFrags.f...  \n",
       "2                  /mnt/stepanauskas/fakemg.fastq.gz  "
      ]
     },
     "execution_count": 31,
     "metadata": {},
     "output_type": "execute_result"
    }
   ],
   "source": [
    "\n",
    "to_recruit = []\n",
    "\n",
    "for i, r in df.iterrows():\n",
    "    if r.join==True:\n",
    "        to_recruit.append(op.join(outdir, \"%s.extendedFrags.fastq.gz\" % r['name']))\n",
    "        print(r['name'])\n",
    "    elif r.join==False:\n",
    "        to_recruit.append(r.mg_f)\n",
    "df['to_recruit'] = to_recruit\n",
    "df              "
   ]
  },
  {
   "cell_type": "code",
   "execution_count": 33,
   "metadata": {
    "collapsed": false
   },
   "outputs": [
    {
     "name": "stdout",
     "output_type": "stream",
     "text": [
      "../data/out/OV-2_P2_metagenome.extendedFrags.fastq.gz\n",
      "../data/out/OV-2_P3_metagenome.extendedFrags.fastq.gz\n",
      "/mnt/stepanauskas/fakemg.fastq.gz\n"
     ]
    }
   ],
   "source": [
    "for m in df['to_recruit']:\n",
    "    print(m)"
   ]
  },
  {
   "cell_type": "code",
   "execution_count": 14,
   "metadata": {
    "collapsed": false
   },
   "outputs": [
    {
     "data": {
      "text/html": [
       "<div>\n",
       "<table border=\"1\" class=\"dataframe\">\n",
       "  <thead>\n",
       "    <tr style=\"text-align: right;\">\n",
       "      <th></th>\n",
       "      <th>name</th>\n",
       "      <th>mg_f</th>\n",
       "      <th>mg_r</th>\n",
       "      <th>wgs_technology</th>\n",
       "      <th>join</th>\n",
       "    </tr>\n",
       "  </thead>\n",
       "  <tbody>\n",
       "    <tr>\n",
       "      <th>2</th>\n",
       "      <td>FAKE_MG</td>\n",
       "      <td>/mnt/stepanauskas/fakemg.fastq.gz</td>\n",
       "      <td>None</td>\n",
       "      <td>Illumina</td>\n",
       "      <td>False</td>\n",
       "    </tr>\n",
       "  </tbody>\n",
       "</table>\n",
       "</div>"
      ],
      "text/plain": [
       "      name                               mg_f  mg_r wgs_technology   join\n",
       "2  FAKE_MG  /mnt/stepanauskas/fakemg.fastq.gz  None       Illumina  False"
      ]
     },
     "execution_count": 14,
     "metadata": {},
     "output_type": "execute_result"
    }
   ],
   "source": [
    "df[df[\"join\"]==False]"
   ]
  },
  {
   "cell_type": "code",
   "execution_count": null,
   "metadata": {
    "collapsed": true
   },
   "outputs": [],
   "source": []
  },
  {
   "cell_type": "code",
   "execution_count": null,
   "metadata": {
    "collapsed": true
   },
   "outputs": [],
   "source": []
  },
  {
   "cell_type": "code",
   "execution_count": 6,
   "metadata": {
    "collapsed": false
   },
   "outputs": [
    {
     "data": {
      "text/html": [
       "<div>\n",
       "<table border=\"1\" class=\"dataframe\">\n",
       "  <thead>\n",
       "    <tr style=\"text-align: right;\">\n",
       "      <th></th>\n",
       "      <th>mg_f</th>\n",
       "      <th>mg_r</th>\n",
       "      <th>wgs_technology</th>\n",
       "      <th>join</th>\n",
       "      <th>name</th>\n",
       "    </tr>\n",
       "  </thead>\n",
       "  <tbody>\n",
       "    <tr>\n",
       "      <th>0</th>\n",
       "      <td>/mnt/stepanauskas_nfs/julia/testfragrecruitmen...</td>\n",
       "      <td>/mnt/stepanauskas_nfs/julia/testfragrecruitmen...</td>\n",
       "      <td>illumina</td>\n",
       "      <td>True</td>\n",
       "      <td>SRS019030</td>\n",
       "    </tr>\n",
       "    <tr>\n",
       "      <th>1</th>\n",
       "      <td>/mnt/stepanauskas_nfs/julia/testfragrecruitmen...</td>\n",
       "      <td>/mnt/stepanauskas_nfs/julia/testfragrecruitmen...</td>\n",
       "      <td>illumina</td>\n",
       "      <td>True</td>\n",
       "      <td>SRS022524</td>\n",
       "    </tr>\n",
       "    <tr>\n",
       "      <th>2</th>\n",
       "      <td>/mnt/stepanauskas_nfs/julia/testfragrecruitmen...</td>\n",
       "      <td>/mnt/stepanauskas_nfs/julia/testfragrecruitmen...</td>\n",
       "      <td>illumina</td>\n",
       "      <td>True</td>\n",
       "      <td>SRS078197</td>\n",
       "    </tr>\n",
       "    <tr>\n",
       "      <th>3</th>\n",
       "      <td>/mnt/stepanauskas_nfs/julia/testfragrecruitmen...</td>\n",
       "      <td>NaN</td>\n",
       "      <td>pyro</td>\n",
       "      <td>False</td>\n",
       "      <td>SRR063559</td>\n",
       "    </tr>\n",
       "    <tr>\n",
       "      <th>4</th>\n",
       "      <td>/mnt/stepanauskas_nfs/julia/testfragrecruitmen...</td>\n",
       "      <td>NaN</td>\n",
       "      <td>pyro</td>\n",
       "      <td>False</td>\n",
       "      <td>SRR063903</td>\n",
       "    </tr>\n",
       "    <tr>\n",
       "      <th>5</th>\n",
       "      <td>/mnt/stepanauskas_nfs/julia/testfragrecruitmen...</td>\n",
       "      <td>NaN</td>\n",
       "      <td>pyro</td>\n",
       "      <td>False</td>\n",
       "      <td>SRR061736</td>\n",
       "    </tr>\n",
       "    <tr>\n",
       "      <th>6</th>\n",
       "      <td>pairedexample/in/a/directory/pe.fastq</td>\n",
       "      <td>NaN</td>\n",
       "      <td>illumina</td>\n",
       "      <td>True</td>\n",
       "      <td>pe</td>\n",
       "    </tr>\n",
       "  </tbody>\n",
       "</table>\n",
       "</div>"
      ],
      "text/plain": [
       "                                                mg_f  \\\n",
       "0  /mnt/stepanauskas_nfs/julia/testfragrecruitmen...   \n",
       "1  /mnt/stepanauskas_nfs/julia/testfragrecruitmen...   \n",
       "2  /mnt/stepanauskas_nfs/julia/testfragrecruitmen...   \n",
       "3  /mnt/stepanauskas_nfs/julia/testfragrecruitmen...   \n",
       "4  /mnt/stepanauskas_nfs/julia/testfragrecruitmen...   \n",
       "5  /mnt/stepanauskas_nfs/julia/testfragrecruitmen...   \n",
       "6              pairedexample/in/a/directory/pe.fastq   \n",
       "\n",
       "                                                mg_r wgs_technology   join  \\\n",
       "0  /mnt/stepanauskas_nfs/julia/testfragrecruitmen...       illumina   True   \n",
       "1  /mnt/stepanauskas_nfs/julia/testfragrecruitmen...       illumina   True   \n",
       "2  /mnt/stepanauskas_nfs/julia/testfragrecruitmen...       illumina   True   \n",
       "3                                                NaN           pyro  False   \n",
       "4                                                NaN           pyro  False   \n",
       "5                                                NaN           pyro  False   \n",
       "6                                                NaN       illumina   True   \n",
       "\n",
       "        name  \n",
       "0  SRS019030  \n",
       "1  SRS022524  \n",
       "2  SRS078197  \n",
       "3  SRR063559  \n",
       "4  SRR063903  \n",
       "5  SRR061736  \n",
       "6         pe  "
      ]
     },
     "execution_count": 6,
     "metadata": {},
     "output_type": "execute_result"
    }
   ],
   "source": [
    "df['name'] = [op.basename(i).split(\".\")[0] for i in df['mg_f']]\n",
    "df"
   ]
  },
  {
   "cell_type": "code",
   "execution_count": null,
   "metadata": {
    "collapsed": false
   },
   "outputs": [],
   "source": [
    "\n"
   ]
  },
  {
   "cell_type": "code",
   "execution_count": 115,
   "metadata": {
    "collapsed": false
   },
   "outputs": [
    {
     "data": {
      "text/plain": [
       "['/mnt/stepanauskas_nfs/julia/testfragrecruitment/hmp/pyro_mgs/SRS019030_454/SRR063559.fastq.gz',\n",
       " '/mnt/stepanauskas_nfs/julia/testfragrecruitment/hmp/pyro_mgs/SRS022524_454/SRR063903.fastq.gz',\n",
       " '/mnt/stepanauskas_nfs/julia/testfragrecruitment/hmp/pyro_mgs/SRS078197_454/SRR061736.fastq.gz']"
      ]
     },
     "execution_count": 115,
     "metadata": {},
     "output_type": "execute_result"
    }
   ],
   "source": [
    "mglist = list(df.mg_f[df['join']==False])\n",
    "mglist"
   ]
  },
  {
   "cell_type": "code",
   "execution_count": 116,
   "metadata": {
    "collapsed": false
   },
   "outputs": [],
   "source": [
    "tojoin = df.loc[df['join']==True]"
   ]
  },
  {
   "cell_type": "code",
   "execution_count": 117,
   "metadata": {
    "collapsed": false
   },
   "outputs": [
    {
     "data": {
      "text/plain": [
       "['/mnt/stepanauskas_nfs/julia/testfragrecruitment/hmp/illumina_mgs/SRS019030/SRS019030.denovo_duplicates_marked.trimmed.2.fastq.gz',\n",
       " '/mnt/stepanauskas_nfs/julia/testfragrecruitment/hmp/illumina_mgs/SRS022524/SRS022524.denovo_duplicates_marked.trimmed.2.fastq.gz',\n",
       " '/mnt/stepanauskas_nfs/julia/testfragrecruitment/hmp/illumina_mgs/SRS078197/SRS078197.denovo_duplicates_marked.trimmed.2.fastq.gz',\n",
       " nan]"
      ]
     },
     "execution_count": 117,
     "metadata": {},
     "output_type": "execute_result"
    }
   ],
   "source": [
    "list(tojoin.mg_f)\n",
    "list(tojoin.mg_r)"
   ]
  },
  {
   "cell_type": "code",
   "execution_count": 118,
   "metadata": {
    "collapsed": false
   },
   "outputs": [
    {
     "name": "stdout",
     "output_type": "stream",
     "text": [
      "SRS019030 /mnt/stepanauskas_nfs/julia/testfragrecruitment/hmp/illumina_mgs/SRS019030 SRS019030\n",
      "SRS022524 /mnt/stepanauskas_nfs/julia/testfragrecruitment/hmp/illumina_mgs/SRS022524 SRS022524\n",
      "SRS078197 /mnt/stepanauskas_nfs/julia/testfragrecruitment/hmp/illumina_mgs/SRS078197 SRS078197\n",
      "pe pairedexample/in/a/directory pe\n"
     ]
    }
   ],
   "source": [
    "\n",
    "for n, f, r in zip(tojoin['name'], tojoin.mg_f, tojoin.mg_r):\n",
    "    prefix = op.basename(f).split(\".\")[0]\n",
    "    outdir = op.dirname(f)\n",
    "    print(prefix, outdir, n)\n",
    "    #if pd.isnull(r):\n",
    "    #    r=None\n",
    "    #else:\n",
    "        #joinedfq = join(prefix, f, fq2=r, threads=cores, mmd=mmd, mino=mino, maxo=maxo, threads=threads, outdir=outdir)\n",
    "        #mglist.append(joinedfq)"
   ]
  },
  {
   "cell_type": "code",
   "execution_count": null,
   "metadata": {
    "collapsed": false
   },
   "outputs": [],
   "source": [
    "def process_multi_mgs(intable, outdir, threads, mmd, mino, maxo, threads, outdir, minlen):\n",
    "    \n",
    "    df = pd.read_csv(intable)\n",
    "    df.name = [op.basename(i).split(\".\")[0] for i in df['mg_f']]\n",
    "    mglist = list(df.mg_f[df['join']==False])\n",
    "    \n",
    "    # join reads identified as joined \n",
    "    tojoin = df.loc[df['join']==True]\n",
    "    \n",
    "    for n, f, r in zip(tojoin['name'], tojoin['mg_f'], tojoin['mg_r']:\n",
    "        if pd.isnull(r):  # if reverse read cell is blank, but join=True, reads assumed to be interleaved\n",
    "            r=None\n",
    "        joinedfq = join(n, f, fq2=r, threads=cores, mmd=mmd, mino=mino, maxo=maxo, threads=threads, outdir=outdir)\n",
    "        mglist.append(joinedfq)\n",
    "    \n",
    "    # size fileter all reads:\n",
    "    processed_mgs = []\n",
    "    read_counts = []\n",
    "    nameorder = []\n",
    "    for m in mglist:\n",
    "        nameorder.append(op.basename(m).split(\".\")[0])\n",
    "        newfilename = op.basename(m).replace(\".fastq\", \"minlen_%s.fastq\" % minlen)\n",
    "        outfile = op.join(outdir, newfilename)\n",
    "        new_out, count = read_size_filter(m, minlen, outfile, cores=threads)\n",
    "        \n",
    "        processed_mgs.append(new_out)\n",
    "        read_counts.append(count)\n",
    "                       \n",
    "    data = {'name':nameorder, 'to_recruit': processed_mgs, 'read_count':read_counts}\n",
    "    newinfo = pd.DataFrame(data)\n",
    "    \n",
    "    res_table = pd.merge(df, newinfo, how='outer', on='name')\n",
    "    return res_table"
   ]
  },
  {
   "cell_type": "code",
   "execution_count": null,
   "metadata": {
    "collapsed": true
   },
   "outputs": [],
   "source": []
  }
 ],
 "metadata": {
  "kernelspec": {
   "display_name": "Python 2",
   "language": "python",
   "name": "python2"
  },
  "language_info": {
   "codemirror_mode": {
    "name": "ipython",
    "version": 2
   },
   "file_extension": ".py",
   "mimetype": "text/x-python",
   "name": "python",
   "nbconvert_exporter": "python",
   "pygments_lexer": "ipython2",
   "version": "2.7.12"
  }
 },
 "nbformat": 4,
 "nbformat_minor": 0
}
