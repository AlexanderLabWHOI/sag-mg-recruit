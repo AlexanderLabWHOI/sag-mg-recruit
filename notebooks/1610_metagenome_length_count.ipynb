{
 "cells": [
  {
   "cell_type": "code",
   "execution_count": null,
   "metadata": {
    "collapsed": true
   },
   "outputs": [],
   "source": [
    "rom pysam import FastxFile\n",
    "\n",
    "\n",
    "def readfx(fastx):\n",
    "    fx = \"\"\n",
    "    try:\n",
    "        fx = FastxFile(fastx)\n",
    "        for f in fx:\n",
    "            yield f.name, f.sequence, f.quality\n",
    "    finally:\n",
    "        if fx:\n",
    "            fx.close()\n",
    "            \n",
    "def plot_read_size(fastq):\n",
    "    readsizes = defaultdict(lambda: 0)\n",
    "    readcount = 0\n",
    "    bpcount = 0\n",
    "    for name, seq, qual in readfx(fastq):\n",
    "        readsizes[len(seq)] += 1\n",
    "        readcount += 1\n",
    "        bpcount += len(seq)"
   ]
  },
  {
   "cell_type": "code",
   "execution_count": null,
   "metadata": {
    "collapsed": true
   },
   "outputs": [],
   "source": [
    "def read_size_count(fastq, threshold):\n",
    "    readcount = 0\n",
    "    for name, seq, qual in readfx(fastq):\n",
    "        if len(seq) >= threshold:\n",
    "            readcount += 1\n",
    "        else:\n",
    "            continue"
   ]
  }
 ],
 "metadata": {
  "kernelspec": {
   "display_name": "Python 2",
   "language": "python",
   "name": "python2"
  },
  "language_info": {
   "codemirror_mode": {
    "name": "ipython",
    "version": 2
   },
   "file_extension": ".py",
   "mimetype": "text/x-python",
   "name": "python",
   "nbconvert_exporter": "python",
   "pygments_lexer": "ipython2",
   "version": "2.7.12"
  }
 },
 "nbformat": 4,
 "nbformat_minor": 0
}
